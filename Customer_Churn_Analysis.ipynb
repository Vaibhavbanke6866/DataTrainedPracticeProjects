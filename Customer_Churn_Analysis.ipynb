{
 "cells": [
  {
   "cell_type": "markdown",
   "metadata": {},
   "source": [
    "# Project name: Customer Churn Analysis\n"
   ]
  },
  {
   "cell_type": "markdown",
   "metadata": {},
   "source": [
    "About Projet: We are going to examine customer data from IBM Sample Data Sets with the aim of building and comparing several customer churn prediction models. Here we need to build model which can predict customer churn."
   ]
  },
  {
   "cell_type": "code",
   "execution_count": 57,
   "metadata": {},
   "outputs": [],
   "source": [
    "# Importing Libraries\n",
    "\n",
    "import pandas as pd\n",
    "import numpy as np\n",
    "import matplotlib.pyplot as plt\n",
    "import seaborn as sns\n",
    "import scipy.stats as sts"
   ]
  },
  {
   "cell_type": "code",
   "execution_count": 58,
   "metadata": {},
   "outputs": [
    {
     "data": {
      "text/html": [
       "<div>\n",
       "<style scoped>\n",
       "    .dataframe tbody tr th:only-of-type {\n",
       "        vertical-align: middle;\n",
       "    }\n",
       "\n",
       "    .dataframe tbody tr th {\n",
       "        vertical-align: top;\n",
       "    }\n",
       "\n",
       "    .dataframe thead th {\n",
       "        text-align: right;\n",
       "    }\n",
       "</style>\n",
       "<table border=\"1\" class=\"dataframe\">\n",
       "  <thead>\n",
       "    <tr style=\"text-align: right;\">\n",
       "      <th></th>\n",
       "      <th>customerID</th>\n",
       "      <th>gender</th>\n",
       "      <th>SeniorCitizen</th>\n",
       "      <th>Partner</th>\n",
       "      <th>Dependents</th>\n",
       "      <th>tenure</th>\n",
       "      <th>PhoneService</th>\n",
       "      <th>MultipleLines</th>\n",
       "      <th>InternetService</th>\n",
       "      <th>OnlineSecurity</th>\n",
       "      <th>...</th>\n",
       "      <th>DeviceProtection</th>\n",
       "      <th>TechSupport</th>\n",
       "      <th>StreamingTV</th>\n",
       "      <th>StreamingMovies</th>\n",
       "      <th>Contract</th>\n",
       "      <th>PaperlessBilling</th>\n",
       "      <th>PaymentMethod</th>\n",
       "      <th>MonthlyCharges</th>\n",
       "      <th>TotalCharges</th>\n",
       "      <th>Churn</th>\n",
       "    </tr>\n",
       "  </thead>\n",
       "  <tbody>\n",
       "    <tr>\n",
       "      <th>0</th>\n",
       "      <td>7590-VHVEG</td>\n",
       "      <td>Female</td>\n",
       "      <td>0</td>\n",
       "      <td>Yes</td>\n",
       "      <td>No</td>\n",
       "      <td>1</td>\n",
       "      <td>No</td>\n",
       "      <td>No phone service</td>\n",
       "      <td>DSL</td>\n",
       "      <td>No</td>\n",
       "      <td>...</td>\n",
       "      <td>No</td>\n",
       "      <td>No</td>\n",
       "      <td>No</td>\n",
       "      <td>No</td>\n",
       "      <td>Month-to-month</td>\n",
       "      <td>Yes</td>\n",
       "      <td>Electronic check</td>\n",
       "      <td>29.85</td>\n",
       "      <td>29.85</td>\n",
       "      <td>No</td>\n",
       "    </tr>\n",
       "    <tr>\n",
       "      <th>1</th>\n",
       "      <td>5575-GNVDE</td>\n",
       "      <td>Male</td>\n",
       "      <td>0</td>\n",
       "      <td>No</td>\n",
       "      <td>No</td>\n",
       "      <td>34</td>\n",
       "      <td>Yes</td>\n",
       "      <td>No</td>\n",
       "      <td>DSL</td>\n",
       "      <td>Yes</td>\n",
       "      <td>...</td>\n",
       "      <td>Yes</td>\n",
       "      <td>No</td>\n",
       "      <td>No</td>\n",
       "      <td>No</td>\n",
       "      <td>One year</td>\n",
       "      <td>No</td>\n",
       "      <td>Mailed check</td>\n",
       "      <td>56.95</td>\n",
       "      <td>1889.5</td>\n",
       "      <td>No</td>\n",
       "    </tr>\n",
       "    <tr>\n",
       "      <th>2</th>\n",
       "      <td>3668-QPYBK</td>\n",
       "      <td>Male</td>\n",
       "      <td>0</td>\n",
       "      <td>No</td>\n",
       "      <td>No</td>\n",
       "      <td>2</td>\n",
       "      <td>Yes</td>\n",
       "      <td>No</td>\n",
       "      <td>DSL</td>\n",
       "      <td>Yes</td>\n",
       "      <td>...</td>\n",
       "      <td>No</td>\n",
       "      <td>No</td>\n",
       "      <td>No</td>\n",
       "      <td>No</td>\n",
       "      <td>Month-to-month</td>\n",
       "      <td>Yes</td>\n",
       "      <td>Mailed check</td>\n",
       "      <td>53.85</td>\n",
       "      <td>108.15</td>\n",
       "      <td>Yes</td>\n",
       "    </tr>\n",
       "    <tr>\n",
       "      <th>3</th>\n",
       "      <td>7795-CFOCW</td>\n",
       "      <td>Male</td>\n",
       "      <td>0</td>\n",
       "      <td>No</td>\n",
       "      <td>No</td>\n",
       "      <td>45</td>\n",
       "      <td>No</td>\n",
       "      <td>No phone service</td>\n",
       "      <td>DSL</td>\n",
       "      <td>Yes</td>\n",
       "      <td>...</td>\n",
       "      <td>Yes</td>\n",
       "      <td>Yes</td>\n",
       "      <td>No</td>\n",
       "      <td>No</td>\n",
       "      <td>One year</td>\n",
       "      <td>No</td>\n",
       "      <td>Bank transfer (automatic)</td>\n",
       "      <td>42.30</td>\n",
       "      <td>1840.75</td>\n",
       "      <td>No</td>\n",
       "    </tr>\n",
       "    <tr>\n",
       "      <th>4</th>\n",
       "      <td>9237-HQITU</td>\n",
       "      <td>Female</td>\n",
       "      <td>0</td>\n",
       "      <td>No</td>\n",
       "      <td>No</td>\n",
       "      <td>2</td>\n",
       "      <td>Yes</td>\n",
       "      <td>No</td>\n",
       "      <td>Fiber optic</td>\n",
       "      <td>No</td>\n",
       "      <td>...</td>\n",
       "      <td>No</td>\n",
       "      <td>No</td>\n",
       "      <td>No</td>\n",
       "      <td>No</td>\n",
       "      <td>Month-to-month</td>\n",
       "      <td>Yes</td>\n",
       "      <td>Electronic check</td>\n",
       "      <td>70.70</td>\n",
       "      <td>151.65</td>\n",
       "      <td>Yes</td>\n",
       "    </tr>\n",
       "  </tbody>\n",
       "</table>\n",
       "<p>5 rows × 21 columns</p>\n",
       "</div>"
      ],
      "text/plain": [
       "   customerID  gender  SeniorCitizen Partner Dependents  tenure PhoneService  \\\n",
       "0  7590-VHVEG  Female              0     Yes         No       1           No   \n",
       "1  5575-GNVDE    Male              0      No         No      34          Yes   \n",
       "2  3668-QPYBK    Male              0      No         No       2          Yes   \n",
       "3  7795-CFOCW    Male              0      No         No      45           No   \n",
       "4  9237-HQITU  Female              0      No         No       2          Yes   \n",
       "\n",
       "      MultipleLines InternetService OnlineSecurity  ... DeviceProtection  \\\n",
       "0  No phone service             DSL             No  ...               No   \n",
       "1                No             DSL            Yes  ...              Yes   \n",
       "2                No             DSL            Yes  ...               No   \n",
       "3  No phone service             DSL            Yes  ...              Yes   \n",
       "4                No     Fiber optic             No  ...               No   \n",
       "\n",
       "  TechSupport StreamingTV StreamingMovies        Contract PaperlessBilling  \\\n",
       "0          No          No              No  Month-to-month              Yes   \n",
       "1          No          No              No        One year               No   \n",
       "2          No          No              No  Month-to-month              Yes   \n",
       "3         Yes          No              No        One year               No   \n",
       "4          No          No              No  Month-to-month              Yes   \n",
       "\n",
       "               PaymentMethod MonthlyCharges  TotalCharges Churn  \n",
       "0           Electronic check          29.85         29.85    No  \n",
       "1               Mailed check          56.95        1889.5    No  \n",
       "2               Mailed check          53.85        108.15   Yes  \n",
       "3  Bank transfer (automatic)          42.30       1840.75    No  \n",
       "4           Electronic check          70.70        151.65   Yes  \n",
       "\n",
       "[5 rows x 21 columns]"
      ]
     },
     "execution_count": 58,
     "metadata": {},
     "output_type": "execute_result"
    }
   ],
   "source": [
    "# Importing Dataset\n",
    "\n",
    "ds= pd.read_csv(\"Telecom_customer_churn.csv\")\n",
    "ds.head()"
   ]
  },
  {
   "cell_type": "code",
   "execution_count": 59,
   "metadata": {},
   "outputs": [
    {
     "data": {
      "text/html": [
       "<div>\n",
       "<style scoped>\n",
       "    .dataframe tbody tr th:only-of-type {\n",
       "        vertical-align: middle;\n",
       "    }\n",
       "\n",
       "    .dataframe tbody tr th {\n",
       "        vertical-align: top;\n",
       "    }\n",
       "\n",
       "    .dataframe thead th {\n",
       "        text-align: right;\n",
       "    }\n",
       "</style>\n",
       "<table border=\"1\" class=\"dataframe\">\n",
       "  <thead>\n",
       "    <tr style=\"text-align: right;\">\n",
       "      <th></th>\n",
       "      <th>customerID</th>\n",
       "      <th>gender</th>\n",
       "      <th>SeniorCitizen</th>\n",
       "      <th>Partner</th>\n",
       "      <th>Dependents</th>\n",
       "      <th>tenure</th>\n",
       "      <th>PhoneService</th>\n",
       "      <th>MultipleLines</th>\n",
       "      <th>InternetService</th>\n",
       "      <th>OnlineSecurity</th>\n",
       "      <th>...</th>\n",
       "      <th>DeviceProtection</th>\n",
       "      <th>TechSupport</th>\n",
       "      <th>StreamingTV</th>\n",
       "      <th>StreamingMovies</th>\n",
       "      <th>Contract</th>\n",
       "      <th>PaperlessBilling</th>\n",
       "      <th>PaymentMethod</th>\n",
       "      <th>MonthlyCharges</th>\n",
       "      <th>TotalCharges</th>\n",
       "      <th>Churn</th>\n",
       "    </tr>\n",
       "  </thead>\n",
       "  <tbody>\n",
       "    <tr>\n",
       "      <th>0</th>\n",
       "      <td>7590-VHVEG</td>\n",
       "      <td>Female</td>\n",
       "      <td>0</td>\n",
       "      <td>Yes</td>\n",
       "      <td>No</td>\n",
       "      <td>1</td>\n",
       "      <td>No</td>\n",
       "      <td>No phone service</td>\n",
       "      <td>DSL</td>\n",
       "      <td>No</td>\n",
       "      <td>...</td>\n",
       "      <td>No</td>\n",
       "      <td>No</td>\n",
       "      <td>No</td>\n",
       "      <td>No</td>\n",
       "      <td>Month-to-month</td>\n",
       "      <td>Yes</td>\n",
       "      <td>Electronic check</td>\n",
       "      <td>29.85</td>\n",
       "      <td>29.85</td>\n",
       "      <td>No</td>\n",
       "    </tr>\n",
       "    <tr>\n",
       "      <th>1</th>\n",
       "      <td>5575-GNVDE</td>\n",
       "      <td>Male</td>\n",
       "      <td>0</td>\n",
       "      <td>No</td>\n",
       "      <td>No</td>\n",
       "      <td>34</td>\n",
       "      <td>Yes</td>\n",
       "      <td>No</td>\n",
       "      <td>DSL</td>\n",
       "      <td>Yes</td>\n",
       "      <td>...</td>\n",
       "      <td>Yes</td>\n",
       "      <td>No</td>\n",
       "      <td>No</td>\n",
       "      <td>No</td>\n",
       "      <td>One year</td>\n",
       "      <td>No</td>\n",
       "      <td>Mailed check</td>\n",
       "      <td>56.95</td>\n",
       "      <td>1889.5</td>\n",
       "      <td>No</td>\n",
       "    </tr>\n",
       "    <tr>\n",
       "      <th>2</th>\n",
       "      <td>3668-QPYBK</td>\n",
       "      <td>Male</td>\n",
       "      <td>0</td>\n",
       "      <td>No</td>\n",
       "      <td>No</td>\n",
       "      <td>2</td>\n",
       "      <td>Yes</td>\n",
       "      <td>No</td>\n",
       "      <td>DSL</td>\n",
       "      <td>Yes</td>\n",
       "      <td>...</td>\n",
       "      <td>No</td>\n",
       "      <td>No</td>\n",
       "      <td>No</td>\n",
       "      <td>No</td>\n",
       "      <td>Month-to-month</td>\n",
       "      <td>Yes</td>\n",
       "      <td>Mailed check</td>\n",
       "      <td>53.85</td>\n",
       "      <td>108.15</td>\n",
       "      <td>Yes</td>\n",
       "    </tr>\n",
       "    <tr>\n",
       "      <th>3</th>\n",
       "      <td>7795-CFOCW</td>\n",
       "      <td>Male</td>\n",
       "      <td>0</td>\n",
       "      <td>No</td>\n",
       "      <td>No</td>\n",
       "      <td>45</td>\n",
       "      <td>No</td>\n",
       "      <td>No phone service</td>\n",
       "      <td>DSL</td>\n",
       "      <td>Yes</td>\n",
       "      <td>...</td>\n",
       "      <td>Yes</td>\n",
       "      <td>Yes</td>\n",
       "      <td>No</td>\n",
       "      <td>No</td>\n",
       "      <td>One year</td>\n",
       "      <td>No</td>\n",
       "      <td>Bank transfer (automatic)</td>\n",
       "      <td>42.30</td>\n",
       "      <td>1840.75</td>\n",
       "      <td>No</td>\n",
       "    </tr>\n",
       "    <tr>\n",
       "      <th>4</th>\n",
       "      <td>9237-HQITU</td>\n",
       "      <td>Female</td>\n",
       "      <td>0</td>\n",
       "      <td>No</td>\n",
       "      <td>No</td>\n",
       "      <td>2</td>\n",
       "      <td>Yes</td>\n",
       "      <td>No</td>\n",
       "      <td>Fiber optic</td>\n",
       "      <td>No</td>\n",
       "      <td>...</td>\n",
       "      <td>No</td>\n",
       "      <td>No</td>\n",
       "      <td>No</td>\n",
       "      <td>No</td>\n",
       "      <td>Month-to-month</td>\n",
       "      <td>Yes</td>\n",
       "      <td>Electronic check</td>\n",
       "      <td>70.70</td>\n",
       "      <td>151.65</td>\n",
       "      <td>Yes</td>\n",
       "    </tr>\n",
       "    <tr>\n",
       "      <th>...</th>\n",
       "      <td>...</td>\n",
       "      <td>...</td>\n",
       "      <td>...</td>\n",
       "      <td>...</td>\n",
       "      <td>...</td>\n",
       "      <td>...</td>\n",
       "      <td>...</td>\n",
       "      <td>...</td>\n",
       "      <td>...</td>\n",
       "      <td>...</td>\n",
       "      <td>...</td>\n",
       "      <td>...</td>\n",
       "      <td>...</td>\n",
       "      <td>...</td>\n",
       "      <td>...</td>\n",
       "      <td>...</td>\n",
       "      <td>...</td>\n",
       "      <td>...</td>\n",
       "      <td>...</td>\n",
       "      <td>...</td>\n",
       "      <td>...</td>\n",
       "    </tr>\n",
       "    <tr>\n",
       "      <th>7038</th>\n",
       "      <td>6840-RESVB</td>\n",
       "      <td>Male</td>\n",
       "      <td>0</td>\n",
       "      <td>Yes</td>\n",
       "      <td>Yes</td>\n",
       "      <td>24</td>\n",
       "      <td>Yes</td>\n",
       "      <td>Yes</td>\n",
       "      <td>DSL</td>\n",
       "      <td>Yes</td>\n",
       "      <td>...</td>\n",
       "      <td>Yes</td>\n",
       "      <td>Yes</td>\n",
       "      <td>Yes</td>\n",
       "      <td>Yes</td>\n",
       "      <td>One year</td>\n",
       "      <td>Yes</td>\n",
       "      <td>Mailed check</td>\n",
       "      <td>84.80</td>\n",
       "      <td>1990.5</td>\n",
       "      <td>No</td>\n",
       "    </tr>\n",
       "    <tr>\n",
       "      <th>7039</th>\n",
       "      <td>2234-XADUH</td>\n",
       "      <td>Female</td>\n",
       "      <td>0</td>\n",
       "      <td>Yes</td>\n",
       "      <td>Yes</td>\n",
       "      <td>72</td>\n",
       "      <td>Yes</td>\n",
       "      <td>Yes</td>\n",
       "      <td>Fiber optic</td>\n",
       "      <td>No</td>\n",
       "      <td>...</td>\n",
       "      <td>Yes</td>\n",
       "      <td>No</td>\n",
       "      <td>Yes</td>\n",
       "      <td>Yes</td>\n",
       "      <td>One year</td>\n",
       "      <td>Yes</td>\n",
       "      <td>Credit card (automatic)</td>\n",
       "      <td>103.20</td>\n",
       "      <td>7362.9</td>\n",
       "      <td>No</td>\n",
       "    </tr>\n",
       "    <tr>\n",
       "      <th>7040</th>\n",
       "      <td>4801-JZAZL</td>\n",
       "      <td>Female</td>\n",
       "      <td>0</td>\n",
       "      <td>Yes</td>\n",
       "      <td>Yes</td>\n",
       "      <td>11</td>\n",
       "      <td>No</td>\n",
       "      <td>No phone service</td>\n",
       "      <td>DSL</td>\n",
       "      <td>Yes</td>\n",
       "      <td>...</td>\n",
       "      <td>No</td>\n",
       "      <td>No</td>\n",
       "      <td>No</td>\n",
       "      <td>No</td>\n",
       "      <td>Month-to-month</td>\n",
       "      <td>Yes</td>\n",
       "      <td>Electronic check</td>\n",
       "      <td>29.60</td>\n",
       "      <td>346.45</td>\n",
       "      <td>No</td>\n",
       "    </tr>\n",
       "    <tr>\n",
       "      <th>7041</th>\n",
       "      <td>8361-LTMKD</td>\n",
       "      <td>Male</td>\n",
       "      <td>1</td>\n",
       "      <td>Yes</td>\n",
       "      <td>No</td>\n",
       "      <td>4</td>\n",
       "      <td>Yes</td>\n",
       "      <td>Yes</td>\n",
       "      <td>Fiber optic</td>\n",
       "      <td>No</td>\n",
       "      <td>...</td>\n",
       "      <td>No</td>\n",
       "      <td>No</td>\n",
       "      <td>No</td>\n",
       "      <td>No</td>\n",
       "      <td>Month-to-month</td>\n",
       "      <td>Yes</td>\n",
       "      <td>Mailed check</td>\n",
       "      <td>74.40</td>\n",
       "      <td>306.6</td>\n",
       "      <td>Yes</td>\n",
       "    </tr>\n",
       "    <tr>\n",
       "      <th>7042</th>\n",
       "      <td>3186-AJIEK</td>\n",
       "      <td>Male</td>\n",
       "      <td>0</td>\n",
       "      <td>No</td>\n",
       "      <td>No</td>\n",
       "      <td>66</td>\n",
       "      <td>Yes</td>\n",
       "      <td>No</td>\n",
       "      <td>Fiber optic</td>\n",
       "      <td>Yes</td>\n",
       "      <td>...</td>\n",
       "      <td>Yes</td>\n",
       "      <td>Yes</td>\n",
       "      <td>Yes</td>\n",
       "      <td>Yes</td>\n",
       "      <td>Two year</td>\n",
       "      <td>Yes</td>\n",
       "      <td>Bank transfer (automatic)</td>\n",
       "      <td>105.65</td>\n",
       "      <td>6844.5</td>\n",
       "      <td>No</td>\n",
       "    </tr>\n",
       "  </tbody>\n",
       "</table>\n",
       "<p>7043 rows × 21 columns</p>\n",
       "</div>"
      ],
      "text/plain": [
       "      customerID  gender  SeniorCitizen Partner Dependents  tenure  \\\n",
       "0     7590-VHVEG  Female              0     Yes         No       1   \n",
       "1     5575-GNVDE    Male              0      No         No      34   \n",
       "2     3668-QPYBK    Male              0      No         No       2   \n",
       "3     7795-CFOCW    Male              0      No         No      45   \n",
       "4     9237-HQITU  Female              0      No         No       2   \n",
       "...          ...     ...            ...     ...        ...     ...   \n",
       "7038  6840-RESVB    Male              0     Yes        Yes      24   \n",
       "7039  2234-XADUH  Female              0     Yes        Yes      72   \n",
       "7040  4801-JZAZL  Female              0     Yes        Yes      11   \n",
       "7041  8361-LTMKD    Male              1     Yes         No       4   \n",
       "7042  3186-AJIEK    Male              0      No         No      66   \n",
       "\n",
       "     PhoneService     MultipleLines InternetService OnlineSecurity  ...  \\\n",
       "0              No  No phone service             DSL             No  ...   \n",
       "1             Yes                No             DSL            Yes  ...   \n",
       "2             Yes                No             DSL            Yes  ...   \n",
       "3              No  No phone service             DSL            Yes  ...   \n",
       "4             Yes                No     Fiber optic             No  ...   \n",
       "...           ...               ...             ...            ...  ...   \n",
       "7038          Yes               Yes             DSL            Yes  ...   \n",
       "7039          Yes               Yes     Fiber optic             No  ...   \n",
       "7040           No  No phone service             DSL            Yes  ...   \n",
       "7041          Yes               Yes     Fiber optic             No  ...   \n",
       "7042          Yes                No     Fiber optic            Yes  ...   \n",
       "\n",
       "     DeviceProtection TechSupport StreamingTV StreamingMovies        Contract  \\\n",
       "0                  No          No          No              No  Month-to-month   \n",
       "1                 Yes          No          No              No        One year   \n",
       "2                  No          No          No              No  Month-to-month   \n",
       "3                 Yes         Yes          No              No        One year   \n",
       "4                  No          No          No              No  Month-to-month   \n",
       "...               ...         ...         ...             ...             ...   \n",
       "7038              Yes         Yes         Yes             Yes        One year   \n",
       "7039              Yes          No         Yes             Yes        One year   \n",
       "7040               No          No          No              No  Month-to-month   \n",
       "7041               No          No          No              No  Month-to-month   \n",
       "7042              Yes         Yes         Yes             Yes        Two year   \n",
       "\n",
       "     PaperlessBilling              PaymentMethod MonthlyCharges  TotalCharges  \\\n",
       "0                 Yes           Electronic check          29.85         29.85   \n",
       "1                  No               Mailed check          56.95        1889.5   \n",
       "2                 Yes               Mailed check          53.85        108.15   \n",
       "3                  No  Bank transfer (automatic)          42.30       1840.75   \n",
       "4                 Yes           Electronic check          70.70        151.65   \n",
       "...               ...                        ...            ...           ...   \n",
       "7038              Yes               Mailed check          84.80        1990.5   \n",
       "7039              Yes    Credit card (automatic)         103.20        7362.9   \n",
       "7040              Yes           Electronic check          29.60        346.45   \n",
       "7041              Yes               Mailed check          74.40         306.6   \n",
       "7042              Yes  Bank transfer (automatic)         105.65        6844.5   \n",
       "\n",
       "     Churn  \n",
       "0       No  \n",
       "1       No  \n",
       "2      Yes  \n",
       "3       No  \n",
       "4      Yes  \n",
       "...    ...  \n",
       "7038    No  \n",
       "7039    No  \n",
       "7040    No  \n",
       "7041   Yes  \n",
       "7042    No  \n",
       "\n",
       "[7043 rows x 21 columns]"
      ]
     },
     "execution_count": 59,
     "metadata": {},
     "output_type": "execute_result"
    }
   ],
   "source": [
    "df= pd.DataFrame(data= ds)\n",
    "df"
   ]
  },
  {
   "cell_type": "code",
   "execution_count": 60,
   "metadata": {},
   "outputs": [
    {
     "data": {
      "text/plain": [
       "(7043, 21)"
      ]
     },
     "execution_count": 60,
     "metadata": {},
     "output_type": "execute_result"
    }
   ],
   "source": [
    "df.shape"
   ]
  },
  {
   "cell_type": "code",
   "execution_count": 61,
   "metadata": {},
   "outputs": [
    {
     "data": {
      "text/plain": [
       "customerID           object\n",
       "gender               object\n",
       "SeniorCitizen         int64\n",
       "Partner              object\n",
       "Dependents           object\n",
       "tenure                int64\n",
       "PhoneService         object\n",
       "MultipleLines        object\n",
       "InternetService      object\n",
       "OnlineSecurity       object\n",
       "OnlineBackup         object\n",
       "DeviceProtection     object\n",
       "TechSupport          object\n",
       "StreamingTV          object\n",
       "StreamingMovies      object\n",
       "Contract             object\n",
       "PaperlessBilling     object\n",
       "PaymentMethod        object\n",
       "MonthlyCharges      float64\n",
       "TotalCharges         object\n",
       "Churn                object\n",
       "dtype: object"
      ]
     },
     "execution_count": 61,
     "metadata": {},
     "output_type": "execute_result"
    }
   ],
   "source": [
    "df.dtypes"
   ]
  },
  {
   "cell_type": "code",
   "execution_count": 62,
   "metadata": {},
   "outputs": [
    {
     "name": "stdout",
     "output_type": "stream",
     "text": [
      "<class 'pandas.core.frame.DataFrame'>\n",
      "RangeIndex: 7043 entries, 0 to 7042\n",
      "Data columns (total 21 columns):\n",
      " #   Column            Non-Null Count  Dtype  \n",
      "---  ------            --------------  -----  \n",
      " 0   customerID        7043 non-null   object \n",
      " 1   gender            7043 non-null   object \n",
      " 2   SeniorCitizen     7043 non-null   int64  \n",
      " 3   Partner           7043 non-null   object \n",
      " 4   Dependents        7043 non-null   object \n",
      " 5   tenure            7043 non-null   int64  \n",
      " 6   PhoneService      7043 non-null   object \n",
      " 7   MultipleLines     7043 non-null   object \n",
      " 8   InternetService   7043 non-null   object \n",
      " 9   OnlineSecurity    7043 non-null   object \n",
      " 10  OnlineBackup      7043 non-null   object \n",
      " 11  DeviceProtection  7043 non-null   object \n",
      " 12  TechSupport       7043 non-null   object \n",
      " 13  StreamingTV       7043 non-null   object \n",
      " 14  StreamingMovies   7043 non-null   object \n",
      " 15  Contract          7043 non-null   object \n",
      " 16  PaperlessBilling  7043 non-null   object \n",
      " 17  PaymentMethod     7043 non-null   object \n",
      " 18  MonthlyCharges    7043 non-null   float64\n",
      " 19  TotalCharges      7043 non-null   object \n",
      " 20  Churn             7043 non-null   object \n",
      "dtypes: float64(1), int64(2), object(18)\n",
      "memory usage: 1.1+ MB\n"
     ]
    }
   ],
   "source": [
    "df.info()"
   ]
  },
  {
   "cell_type": "code",
   "execution_count": 63,
   "metadata": {},
   "outputs": [
    {
     "data": {
      "text/plain": [
       "Index(['customerID', 'gender', 'SeniorCitizen', 'Partner', 'Dependents',\n",
       "       'tenure', 'PhoneService', 'MultipleLines', 'InternetService',\n",
       "       'OnlineSecurity', 'OnlineBackup', 'DeviceProtection', 'TechSupport',\n",
       "       'StreamingTV', 'StreamingMovies', 'Contract', 'PaperlessBilling',\n",
       "       'PaymentMethod', 'MonthlyCharges', 'TotalCharges', 'Churn'],\n",
       "      dtype='object')"
      ]
     },
     "execution_count": 63,
     "metadata": {},
     "output_type": "execute_result"
    }
   ],
   "source": [
    "df.columns"
   ]
  },
  {
   "cell_type": "code",
   "execution_count": 64,
   "metadata": {},
   "outputs": [
    {
     "data": {
      "text/html": [
       "<div>\n",
       "<style scoped>\n",
       "    .dataframe tbody tr th:only-of-type {\n",
       "        vertical-align: middle;\n",
       "    }\n",
       "\n",
       "    .dataframe tbody tr th {\n",
       "        vertical-align: top;\n",
       "    }\n",
       "\n",
       "    .dataframe thead th {\n",
       "        text-align: right;\n",
       "    }\n",
       "</style>\n",
       "<table border=\"1\" class=\"dataframe\">\n",
       "  <thead>\n",
       "    <tr style=\"text-align: right;\">\n",
       "      <th></th>\n",
       "      <th>SeniorCitizen</th>\n",
       "      <th>tenure</th>\n",
       "      <th>MonthlyCharges</th>\n",
       "    </tr>\n",
       "  </thead>\n",
       "  <tbody>\n",
       "    <tr>\n",
       "      <th>count</th>\n",
       "      <td>7043.000000</td>\n",
       "      <td>7043.000000</td>\n",
       "      <td>7043.000000</td>\n",
       "    </tr>\n",
       "    <tr>\n",
       "      <th>mean</th>\n",
       "      <td>0.162147</td>\n",
       "      <td>32.371149</td>\n",
       "      <td>64.761692</td>\n",
       "    </tr>\n",
       "    <tr>\n",
       "      <th>std</th>\n",
       "      <td>0.368612</td>\n",
       "      <td>24.559481</td>\n",
       "      <td>30.090047</td>\n",
       "    </tr>\n",
       "    <tr>\n",
       "      <th>min</th>\n",
       "      <td>0.000000</td>\n",
       "      <td>0.000000</td>\n",
       "      <td>18.250000</td>\n",
       "    </tr>\n",
       "    <tr>\n",
       "      <th>25%</th>\n",
       "      <td>0.000000</td>\n",
       "      <td>9.000000</td>\n",
       "      <td>35.500000</td>\n",
       "    </tr>\n",
       "    <tr>\n",
       "      <th>50%</th>\n",
       "      <td>0.000000</td>\n",
       "      <td>29.000000</td>\n",
       "      <td>70.350000</td>\n",
       "    </tr>\n",
       "    <tr>\n",
       "      <th>75%</th>\n",
       "      <td>0.000000</td>\n",
       "      <td>55.000000</td>\n",
       "      <td>89.850000</td>\n",
       "    </tr>\n",
       "    <tr>\n",
       "      <th>max</th>\n",
       "      <td>1.000000</td>\n",
       "      <td>72.000000</td>\n",
       "      <td>118.750000</td>\n",
       "    </tr>\n",
       "  </tbody>\n",
       "</table>\n",
       "</div>"
      ],
      "text/plain": [
       "       SeniorCitizen       tenure  MonthlyCharges\n",
       "count    7043.000000  7043.000000     7043.000000\n",
       "mean        0.162147    32.371149       64.761692\n",
       "std         0.368612    24.559481       30.090047\n",
       "min         0.000000     0.000000       18.250000\n",
       "25%         0.000000     9.000000       35.500000\n",
       "50%         0.000000    29.000000       70.350000\n",
       "75%         0.000000    55.000000       89.850000\n",
       "max         1.000000    72.000000      118.750000"
      ]
     },
     "execution_count": 64,
     "metadata": {},
     "output_type": "execute_result"
    }
   ],
   "source": [
    "df.describe()"
   ]
  },
  {
   "cell_type": "markdown",
   "metadata": {},
   "source": [
    "Observations: We can see that tenure is distributed from 0 to 72 where as MonthlyCharges from 18.25 to 118.75. Also there is more standard deviation for MonthlyCharges"
   ]
  },
  {
   "cell_type": "code",
   "execution_count": 65,
   "metadata": {},
   "outputs": [
    {
     "data": {
      "text/plain": [
       "customerID          0\n",
       "gender              0\n",
       "SeniorCitizen       0\n",
       "Partner             0\n",
       "Dependents          0\n",
       "tenure              0\n",
       "PhoneService        0\n",
       "MultipleLines       0\n",
       "InternetService     0\n",
       "OnlineSecurity      0\n",
       "OnlineBackup        0\n",
       "DeviceProtection    0\n",
       "TechSupport         0\n",
       "StreamingTV         0\n",
       "StreamingMovies     0\n",
       "Contract            0\n",
       "PaperlessBilling    0\n",
       "PaymentMethod       0\n",
       "MonthlyCharges      0\n",
       "TotalCharges        0\n",
       "Churn               0\n",
       "dtype: int64"
      ]
     },
     "execution_count": 65,
     "metadata": {},
     "output_type": "execute_result"
    }
   ],
   "source": [
    "#Checking for Null values\n",
    "\n",
    "df.isnull().sum()"
   ]
  },
  {
   "cell_type": "markdown",
   "metadata": {},
   "source": [
    "Observations: No null values are present in Dataset."
   ]
  },
  {
   "cell_type": "code",
   "execution_count": 66,
   "metadata": {},
   "outputs": [
    {
     "data": {
      "image/png": "[encoded data removed]",
      "text/plain": [
       "<Figure size 432x288 with 2 Axes>"
      ]
     },
     "metadata": {
      "needs_background": "light"
     },
     "output_type": "display_data"
    }
   ],
   "source": [
    "sns.heatmap(df.isnull())\n",
    "plt.title('Null Values')\n",
    "plt.show()"
   ]
  },
  {
   "cell_type": "markdown",
   "metadata": {},
   "source": [
    "Observations: No null values are present in Dataset."
   ]
  },
  {
   "cell_type": "markdown",
   "metadata": {},
   "source": [
    "# EDA"
   ]
  },
  {
   "cell_type": "code",
   "execution_count": 67,
   "metadata": {
    "scrolled": false
   },
   "outputs": [
    {
     "name": "stdout",
     "output_type": "stream",
     "text": [
      "customerID  :  ['7590-VHVEG' '5575-GNVDE' '3668-QPYBK' ... '4801-JZAZL' '8361-LTMKD'\n",
      " '3186-AJIEK']\n",
      "1589-AGTLK    1\n",
      "3413-CSSTH    1\n",
      "9631-RXVJM    1\n",
      "5156-UMKOW    1\n",
      "2782-LFZVW    1\n",
      "             ..\n",
      "9117-SHLZX    1\n",
      "1839-UMACK    1\n",
      "8155-IBNHG    1\n",
      "8020-BWHYL    1\n",
      "5902-WBLSE    1\n",
      "Name: customerID, Length: 7043, dtype: int64\n",
      "\n",
      "\n",
      "gender  :  ['Female' 'Male']\n",
      "Male      3555\n",
      "Female    3488\n",
      "Name: gender, dtype: int64\n",
      "\n",
      "\n",
      "Partner  :  ['Yes' 'No']\n",
      "No     3641\n",
      "Yes    3402\n",
      "Name: Partner, dtype: int64\n",
      "\n",
      "\n",
      "Dependents  :  ['No' 'Yes']\n",
      "No     4933\n",
      "Yes    2110\n",
      "Name: Dependents, dtype: int64\n",
      "\n",
      "\n",
      "PhoneService  :  ['No' 'Yes']\n",
      "Yes    6361\n",
      "No      682\n",
      "Name: PhoneService, dtype: int64\n",
      "\n",
      "\n",
      "MultipleLines  :  ['No phone service' 'No' 'Yes']\n",
      "No                  3390\n",
      "Yes                 2971\n",
      "No phone service     682\n",
      "Name: MultipleLines, dtype: int64\n",
      "\n",
      "\n",
      "InternetService  :  ['DSL' 'Fiber optic' 'No']\n",
      "Fiber optic    3096\n",
      "DSL            2421\n",
      "No             1526\n",
      "Name: InternetService, dtype: int64\n",
      "\n",
      "\n",
      "OnlineSecurity  :  ['No' 'Yes' 'No internet service']\n",
      "No                     3498\n",
      "Yes                    2019\n",
      "No internet service    1526\n",
      "Name: OnlineSecurity, dtype: int64\n",
      "\n",
      "\n",
      "OnlineBackup  :  ['Yes' 'No' 'No internet service']\n",
      "No                     3088\n",
      "Yes                    2429\n",
      "No internet service    1526\n",
      "Name: OnlineBackup, dtype: int64\n",
      "\n",
      "\n",
      "DeviceProtection  :  ['No' 'Yes' 'No internet service']\n",
      "No                     3095\n",
      "Yes                    2422\n",
      "No internet service    1526\n",
      "Name: DeviceProtection, dtype: int64\n",
      "\n",
      "\n",
      "TechSupport  :  ['No' 'Yes' 'No internet service']\n",
      "No                     3473\n",
      "Yes                    2044\n",
      "No internet service    1526\n",
      "Name: TechSupport, dtype: int64\n",
      "\n",
      "\n",
      "StreamingTV  :  ['No' 'Yes' 'No internet service']\n",
      "No                     2810\n",
      "Yes                    2707\n",
      "No internet service    1526\n",
      "Name: StreamingTV, dtype: int64\n",
      "\n",
      "\n",
      "StreamingMovies  :  ['No' 'Yes' 'No internet service']\n",
      "No                     2785\n",
      "Yes                    2732\n",
      "No internet service    1526\n",
      "Name: StreamingMovies, dtype: int64\n",
      "\n",
      "\n",
      "Contract  :  ['Month-to-month' 'One year' 'Two year']\n",
      "Month-to-month    3875\n",
      "Two year          1695\n",
      "One year          1473\n",
      "Name: Contract, dtype: int64\n",
      "\n",
      "\n",
      "PaperlessBilling  :  ['Yes' 'No']\n",
      "Yes    4171\n",
      "No     2872\n",
      "Name: PaperlessBilling, dtype: int64\n",
      "\n",
      "\n",
      "PaymentMethod  :  ['Electronic check' 'Mailed check' 'Bank transfer (automatic)'\n",
      " 'Credit card (automatic)']\n",
      "Electronic check             2365\n",
      "Mailed check                 1612\n",
      "Bank transfer (automatic)    1544\n",
      "Credit card (automatic)      1522\n",
      "Name: PaymentMethod, dtype: int64\n",
      "\n",
      "\n",
      "TotalCharges  :  ['29.85' '1889.5' '108.15' ... '346.45' '306.6' '6844.5']\n",
      "           11\n",
      "20.2       11\n",
      "19.75       9\n",
      "19.65       8\n",
      "20.05       8\n",
      "           ..\n",
      "3739.8      1\n",
      "232.5       1\n",
      "3019.7      1\n",
      "4534.45     1\n",
      "3653        1\n",
      "Name: TotalCharges, Length: 6531, dtype: int64\n",
      "\n",
      "\n",
      "Churn  :  ['No' 'Yes']\n",
      "No     5174\n",
      "Yes    1869\n",
      "Name: Churn, dtype: int64\n",
      "\n",
      "\n"
     ]
    }
   ],
   "source": [
    "#Getting Unique Values for Object data type columns\n",
    "\n",
    "for i in df.columns:\n",
    "    if df[i].dtypes== 'object':\n",
    "        print(str(i), ' : ', df[i].unique())\n",
    "        print(df[i].value_counts())\n",
    "        print()\n",
    "        print()"
   ]
  },
  {
   "cell_type": "code",
   "execution_count": 68,
   "metadata": {},
   "outputs": [
    {
     "name": "stdout",
     "output_type": "stream",
     "text": [
      "No     5174\n",
      "Yes    1869\n",
      "Name: Churn, dtype: int64\n"
     ]
    },
    {
     "data": {
      "text/plain": [
       "<matplotlib.axes._subplots.AxesSubplot at 0x22ad43ef490>"
      ]
     },
     "execution_count": 68,
     "metadata": {},
     "output_type": "execute_result"
    },
    {
     "data": {
      "image/png": "[encoded data removed]",
      "text/plain": [
       "<Figure size 432x288 with 1 Axes>"
      ]
     },
     "metadata": {
      "needs_background": "light"
     },
     "output_type": "display_data"
    }
   ],
   "source": [
    "#Univariate Analysis\n",
    "\n",
    "print(df['Churn'].value_counts())\n",
    "sns.countplot(df['Churn'])"
   ]
  },
  {
   "cell_type": "markdown",
   "metadata": {},
   "source": [
    "Observations: There is maximum no. of customers not churn."
   ]
  },
  {
   "cell_type": "code",
   "execution_count": 69,
   "metadata": {},
   "outputs": [
    {
     "data": {
      "text/plain": [
       "<seaborn.axisgrid.FacetGrid at 0x22adabe1940>"
      ]
     },
     "execution_count": 69,
     "metadata": {},
     "output_type": "execute_result"
    },
    {
     "data": {
      "image/png": "[encoded data removed]",
      "text/plain": [
       "<Figure size 412x360 with 1 Axes>"
      ]
     },
     "metadata": {
      "needs_background": "light"
     },
     "output_type": "display_data"
    }
   ],
   "source": [
    "sns.catplot(x =\"gender\", hue =\"Churn\", kind =\"count\", data = df)"
   ]
  },
  {
   "cell_type": "markdown",
   "metadata": {},
   "source": [
    "Observations: There is equal rate of customer churn for male and female."
   ]
  },
  {
   "cell_type": "code",
   "execution_count": 70,
   "metadata": {},
   "outputs": [
    {
     "data": {
      "text/plain": [
       "<seaborn.axisgrid.FacetGrid at 0x22adab4cb80>"
      ]
     },
     "execution_count": 70,
     "metadata": {},
     "output_type": "execute_result"
    },
    {
     "data": {
      "image/png": "[encoded data removed]",
      "text/plain": [
       "<Figure size 412x360 with 1 Axes>"
      ]
     },
     "metadata": {
      "needs_background": "light"
     },
     "output_type": "display_data"
    }
   ],
   "source": [
    "sns.catplot(x =\"Partner\", hue =\"Churn\", kind =\"count\", data = df)"
   ]
  },
  {
   "cell_type": "markdown",
   "metadata": {},
   "source": [
    "Observations: There is maximum rate of customer churn for No partner customer."
   ]
  },
  {
   "cell_type": "code",
   "execution_count": 71,
   "metadata": {},
   "outputs": [
    {
     "data": {
      "text/plain": [
       "<seaborn.axisgrid.FacetGrid at 0x22adab840a0>"
      ]
     },
     "execution_count": 71,
     "metadata": {},
     "output_type": "execute_result"
    },
    {
     "data": {
      "image/png": "[encoded data removed]",
      "text/plain": [
       "<Figure size 412x360 with 1 Axes>"
      ]
     },
     "metadata": {
      "needs_background": "light"
     },
     "output_type": "display_data"
    }
   ],
   "source": [
    "sns.catplot(x =\"Dependents\", hue =\"Churn\", kind =\"count\", data = df)"
   ]
  },
  {
   "cell_type": "markdown",
   "metadata": {},
   "source": [
    "Observations: There is maximum rate of customer churn for No Dependents customer."
   ]
  },
  {
   "cell_type": "code",
   "execution_count": 72,
   "metadata": {},
   "outputs": [
    {
     "data": {
      "text/plain": [
       "<seaborn.axisgrid.FacetGrid at 0x22adaa56eb0>"
      ]
     },
     "execution_count": 72,
     "metadata": {},
     "output_type": "execute_result"
    },
    {
     "data": {
      "image/png": "[encoded data removed]",
      "text/plain": [
       "<Figure size 412x360 with 1 Axes>"
      ]
     },
     "metadata": {
      "needs_background": "light"
     },
     "output_type": "display_data"
    }
   ],
   "source": [
    "sns.catplot(x =\"PhoneService\", hue =\"Churn\", kind =\"count\", data = df)"
   ]
  },
  {
   "cell_type": "markdown",
   "metadata": {},
   "source": [
    "Observations: There is maximum customers which having PhoneService."
   ]
  },
  {
   "cell_type": "code",
   "execution_count": 73,
   "metadata": {},
   "outputs": [
    {
     "data": {
      "text/plain": [
       "<seaborn.axisgrid.FacetGrid at 0x22ad425dca0>"
      ]
     },
     "execution_count": 73,
     "metadata": {},
     "output_type": "execute_result"
    },
    {
     "data": {
      "image/png": "[encoded data removed]",
      "text/plain": [
       "<Figure size 412x360 with 1 Axes>"
      ]
     },
     "metadata": {
      "needs_background": "light"
     },
     "output_type": "display_data"
    }
   ],
   "source": [
    "sns.catplot(x =\"InternetService\", hue =\"Churn\", kind =\"count\", data = df)"
   ]
  },
  {
   "cell_type": "markdown",
   "metadata": {},
   "source": [
    "Observations: There is maximum customers which using Fiber optic InternetService where rate of customer churn is more."
   ]
  },
  {
   "cell_type": "code",
   "execution_count": 74,
   "metadata": {},
   "outputs": [
    {
     "data": {
      "text/plain": [
       "<seaborn.axisgrid.FacetGrid at 0x22adaa5c850>"
      ]
     },
     "execution_count": 74,
     "metadata": {},
     "output_type": "execute_result"
    },
    {
     "data": {
      "image/png": "[encoded data removed]",
      "text/plain": [
       "<Figure size 412x360 with 1 Axes>"
      ]
     },
     "metadata": {
      "needs_background": "light"
     },
     "output_type": "display_data"
    }
   ],
   "source": [
    "sns.catplot(x =\"OnlineSecurity\", hue =\"Churn\", kind =\"count\", data = df)"
   ]
  },
  {
   "cell_type": "markdown",
   "metadata": {},
   "source": [
    "Observations: There is maximum customers which not using OnlineSexurity where rate of customer churn is also more."
   ]
  },
  {
   "cell_type": "code",
   "execution_count": 75,
   "metadata": {},
   "outputs": [
    {
     "data": {
      "text/plain": [
       "<seaborn.axisgrid.FacetGrid at 0x22adad8ee20>"
      ]
     },
     "execution_count": 75,
     "metadata": {},
     "output_type": "execute_result"
    },
    {
     "data": {
      "image/png": "[encoded data removed]",
      "text/plain": [
       "<Figure size 412x360 with 1 Axes>"
      ]
     },
     "metadata": {
      "needs_background": "light"
     },
     "output_type": "display_data"
    }
   ],
   "source": [
    "sns.catplot(x =\"OnlineBackup\", hue =\"Churn\", kind =\"count\", data = df)"
   ]
  },
  {
   "cell_type": "markdown",
   "metadata": {},
   "source": [
    "Observations: There is maximum customers which not having OnlineBackup where rate of customer churn is also more."
   ]
  },
  {
   "cell_type": "code",
   "execution_count": 76,
   "metadata": {},
   "outputs": [
    {
     "data": {
      "text/plain": [
       "<seaborn.axisgrid.FacetGrid at 0x22adae272e0>"
      ]
     },
     "execution_count": 76,
     "metadata": {},
     "output_type": "execute_result"
    },
    {
     "data": {
      "image/png": "[encoded data removed]",
      "text/plain": [
       "<Figure size 412x360 with 1 Axes>"
      ]
     },
     "metadata": {
      "needs_background": "light"
     },
     "output_type": "display_data"
    }
   ],
   "source": [
    "sns.catplot(x =\"DeviceProtection\", hue =\"Churn\", kind =\"count\", data = df)"
   ]
  },
  {
   "cell_type": "markdown",
   "metadata": {},
   "source": [
    "Observations: There is maximum customers which not having DeviceProtection where rate of customer churn is also more."
   ]
  },
  {
   "cell_type": "code",
   "execution_count": 77,
   "metadata": {},
   "outputs": [
    {
     "data": {
      "text/plain": [
       "<seaborn.axisgrid.FacetGrid at 0x22adae663a0>"
      ]
     },
     "execution_count": 77,
     "metadata": {},
     "output_type": "execute_result"
    },
    {
     "data": {
      "image/png": "[encoded data removed]",
      "text/plain": [
       "<Figure size 412x360 with 1 Axes>"
      ]
     },
     "metadata": {
      "needs_background": "light"
     },
     "output_type": "display_data"
    }
   ],
   "source": [
    "sns.catplot(x =\"TechSupport\", hue =\"Churn\", kind =\"count\", data = df)"
   ]
  },
  {
   "cell_type": "markdown",
   "metadata": {},
   "source": [
    "Observations: There is maximum customers which not having TechSupport where rate of customer churn is also more."
   ]
  },
  {
   "cell_type": "code",
   "execution_count": 78,
   "metadata": {},
   "outputs": [
    {
     "data": {
      "text/plain": [
       "<seaborn.axisgrid.FacetGrid at 0x22adaf2a130>"
      ]
     },
     "execution_count": 78,
     "metadata": {},
     "output_type": "execute_result"
    },
    {
     "data": {
      "image/png": "[encoded data removed]",
      "text/plain": [
       "<Figure size 412x360 with 1 Axes>"
      ]
     },
     "metadata": {
      "needs_background": "light"
     },
     "output_type": "display_data"
    }
   ],
   "source": [
    "sns.catplot(x =\"StreamingTV\", hue =\"Churn\", kind =\"count\", data = df)"
   ]
  },
  {
   "cell_type": "markdown",
   "metadata": {},
   "source": [
    "Observations: There is maximum customers which not using StreamingTV where rate of customer churn is also more."
   ]
  },
  {
   "cell_type": "code",
   "execution_count": 79,
   "metadata": {},
   "outputs": [
    {
     "data": {
      "text/plain": [
       "<seaborn.axisgrid.FacetGrid at 0x22adae6b7f0>"
      ]
     },
     "execution_count": 79,
     "metadata": {},
     "output_type": "execute_result"
    },
    {
     "data": {
      "image/png": "[encoded data removed]",
      "text/plain": [
       "<Figure size 412x360 with 1 Axes>"
      ]
     },
     "metadata": {
      "needs_background": "light"
     },
     "output_type": "display_data"
    }
   ],
   "source": [
    "sns.catplot(x =\"StreamingMovies\", hue =\"Churn\", kind =\"count\", data = df)"
   ]
  },
  {
   "cell_type": "markdown",
   "metadata": {},
   "source": [
    "Observations: There is maximum customers which not using StreamingMovies where rate of customer churn is also more."
   ]
  },
  {
   "cell_type": "code",
   "execution_count": 80,
   "metadata": {},
   "outputs": [
    {
     "data": {
      "text/plain": [
       "<seaborn.axisgrid.FacetGrid at 0x22adae60dc0>"
      ]
     },
     "execution_count": 80,
     "metadata": {},
     "output_type": "execute_result"
    },
    {
     "data": {
      "image/png": "[encoded data removed]",
      "text/plain": [
       "<Figure size 412x360 with 1 Axes>"
      ]
     },
     "metadata": {
      "needs_background": "light"
     },
     "output_type": "display_data"
    }
   ],
   "source": [
    "sns.catplot(x =\"Contract\", hue =\"Churn\", kind =\"count\", data = df)"
   ]
  },
  {
   "cell_type": "markdown",
   "metadata": {},
   "source": [
    "Observations: There is maximum customers which having Month-to-month contract where rate of customer churn is also more."
   ]
  },
  {
   "cell_type": "code",
   "execution_count": 81,
   "metadata": {},
   "outputs": [
    {
     "data": {
      "text/plain": [
       "<seaborn.axisgrid.FacetGrid at 0x22acf259940>"
      ]
     },
     "execution_count": 81,
     "metadata": {},
     "output_type": "execute_result"
    },
    {
     "data": {
      "image/png": "[encoded data removed]",
      "text/plain": [
       "<Figure size 412x360 with 1 Axes>"
      ]
     },
     "metadata": {
      "needs_background": "light"
     },
     "output_type": "display_data"
    }
   ],
   "source": [
    "sns.catplot(x =\"PaperlessBilling\", hue =\"Churn\", kind =\"count\", data = df)"
   ]
  },
  {
   "cell_type": "markdown",
   "metadata": {},
   "source": [
    "Observations: There is maximum customers which having PaperlessBilling where rate of customer churn is also more."
   ]
  },
  {
   "cell_type": "code",
   "execution_count": 82,
   "metadata": {},
   "outputs": [
    {
     "data": {
      "text/plain": [
       "<Figure size 1080x576 with 0 Axes>"
      ]
     },
     "metadata": {},
     "output_type": "display_data"
    },
    {
     "data": {
      "image/png": "[encoded data removed]",
      "text/plain": [
       "<Figure size 412x360 with 1 Axes>"
      ]
     },
     "metadata": {
      "needs_background": "light"
     },
     "output_type": "display_data"
    }
   ],
   "source": [
    "plt.figure(figsize=(15,8))\n",
    "sns.catplot(x =\"PaymentMethod\", hue =\"Churn\", kind =\"count\", data = df)\n",
    "plt.xticks(rotation=90)\n",
    "plt.show()"
   ]
  },
  {
   "cell_type": "markdown",
   "metadata": {},
   "source": [
    "Observations: There is maximum rate of customer churn for the customers which using Electronic check as paymentMethod."
   ]
  },
  {
   "cell_type": "code",
   "execution_count": 83,
   "metadata": {},
   "outputs": [
    {
     "data": {
      "text/plain": [
       "<matplotlib.axes._subplots.AxesSubplot at 0x22ad42a4700>"
      ]
     },
     "execution_count": 83,
     "metadata": {},
     "output_type": "execute_result"
    },
    {
     "data": {
      "image/png": "[encoded data removed]",
      "text/plain": [
       "<Figure size 2160x1440 with 1 Axes>"
      ]
     },
     "metadata": {
      "needs_background": "light"
     },
     "output_type": "display_data"
    }
   ],
   "source": [
    "plt.subplots(figsize=(30,20))\n",
    "sns.countplot('tenure', hue= 'Churn', data= df)"
   ]
  },
  {
   "cell_type": "markdown",
   "metadata": {},
   "source": [
    "Observations: Maximum rate of customers churn when tenure period is 1, also as tenure period is increases rate of customer churn decreases."
   ]
  },
  {
   "cell_type": "code",
   "execution_count": 84,
   "metadata": {},
   "outputs": [
    {
     "data": {
      "text/plain": [
       "array([<matplotlib.axes._subplots.AxesSubplot object at 0x0000022ADB27E760>,\n",
       "       <matplotlib.axes._subplots.AxesSubplot object at 0x0000022ADB2B1CD0>],\n",
       "      dtype=object)"
      ]
     },
     "execution_count": 84,
     "metadata": {},
     "output_type": "execute_result"
    },
    {
     "data": {
      "image/png": "[encoded data removed]",
      "text/plain": [
       "<Figure size 2016x576 with 2 Axes>"
      ]
     },
     "metadata": {
      "needs_background": "light"
     },
     "output_type": "display_data"
    }
   ],
   "source": [
    "numerical_features= ['tenure', 'MonthlyCharges']\n",
    "fig, ax = plt.subplots(1,2, figsize=(28,8))\n",
    "df[df.Churn == 'No'][numerical_features].hist(bins=20, color= 'blue', alpha= 0.5, ax = ax)\n",
    "df[df.Churn == 'Yes'][numerical_features].hist(bins=20, color= 'orange', alpha= 0.5, ax = ax)"
   ]
  },
  {
   "cell_type": "markdown",
   "metadata": {},
   "source": [
    "Observations: Rate of customer which are not getting Churn is more if monthlyCharges are low. also as tenure period is increases rate of customer churn decreases."
   ]
  },
  {
   "cell_type": "code",
   "execution_count": 85,
   "metadata": {},
   "outputs": [
    {
     "data": {
      "text/html": [
       "<div>\n",
       "<style scoped>\n",
       "    .dataframe tbody tr th:only-of-type {\n",
       "        vertical-align: middle;\n",
       "    }\n",
       "\n",
       "    .dataframe tbody tr th {\n",
       "        vertical-align: top;\n",
       "    }\n",
       "\n",
       "    .dataframe thead th {\n",
       "        text-align: right;\n",
       "    }\n",
       "</style>\n",
       "<table border=\"1\" class=\"dataframe\">\n",
       "  <thead>\n",
       "    <tr style=\"text-align: right;\">\n",
       "      <th></th>\n",
       "      <th>customerID</th>\n",
       "      <th>gender</th>\n",
       "      <th>SeniorCitizen</th>\n",
       "      <th>Partner</th>\n",
       "      <th>Dependents</th>\n",
       "      <th>tenure</th>\n",
       "      <th>PhoneService</th>\n",
       "      <th>MultipleLines</th>\n",
       "      <th>InternetService</th>\n",
       "      <th>OnlineSecurity</th>\n",
       "      <th>...</th>\n",
       "      <th>DeviceProtection</th>\n",
       "      <th>TechSupport</th>\n",
       "      <th>StreamingTV</th>\n",
       "      <th>StreamingMovies</th>\n",
       "      <th>Contract</th>\n",
       "      <th>PaperlessBilling</th>\n",
       "      <th>PaymentMethod</th>\n",
       "      <th>MonthlyCharges</th>\n",
       "      <th>TotalCharges</th>\n",
       "      <th>Churn</th>\n",
       "    </tr>\n",
       "  </thead>\n",
       "  <tbody>\n",
       "    <tr>\n",
       "      <th>0</th>\n",
       "      <td>5375.0</td>\n",
       "      <td>0.0</td>\n",
       "      <td>0</td>\n",
       "      <td>1.0</td>\n",
       "      <td>0.0</td>\n",
       "      <td>1</td>\n",
       "      <td>0.0</td>\n",
       "      <td>1.0</td>\n",
       "      <td>0.0</td>\n",
       "      <td>0.0</td>\n",
       "      <td>...</td>\n",
       "      <td>0.0</td>\n",
       "      <td>0.0</td>\n",
       "      <td>0.0</td>\n",
       "      <td>0.0</td>\n",
       "      <td>0.0</td>\n",
       "      <td>1.0</td>\n",
       "      <td>2.0</td>\n",
       "      <td>29.85</td>\n",
       "      <td>2505.0</td>\n",
       "      <td>0.0</td>\n",
       "    </tr>\n",
       "    <tr>\n",
       "      <th>1</th>\n",
       "      <td>3962.0</td>\n",
       "      <td>1.0</td>\n",
       "      <td>0</td>\n",
       "      <td>0.0</td>\n",
       "      <td>0.0</td>\n",
       "      <td>34</td>\n",
       "      <td>1.0</td>\n",
       "      <td>0.0</td>\n",
       "      <td>0.0</td>\n",
       "      <td>2.0</td>\n",
       "      <td>...</td>\n",
       "      <td>2.0</td>\n",
       "      <td>0.0</td>\n",
       "      <td>0.0</td>\n",
       "      <td>0.0</td>\n",
       "      <td>1.0</td>\n",
       "      <td>0.0</td>\n",
       "      <td>3.0</td>\n",
       "      <td>56.95</td>\n",
       "      <td>1466.0</td>\n",
       "      <td>0.0</td>\n",
       "    </tr>\n",
       "    <tr>\n",
       "      <th>2</th>\n",
       "      <td>2564.0</td>\n",
       "      <td>1.0</td>\n",
       "      <td>0</td>\n",
       "      <td>0.0</td>\n",
       "      <td>0.0</td>\n",
       "      <td>2</td>\n",
       "      <td>1.0</td>\n",
       "      <td>0.0</td>\n",
       "      <td>0.0</td>\n",
       "      <td>2.0</td>\n",
       "      <td>...</td>\n",
       "      <td>0.0</td>\n",
       "      <td>0.0</td>\n",
       "      <td>0.0</td>\n",
       "      <td>0.0</td>\n",
       "      <td>0.0</td>\n",
       "      <td>1.0</td>\n",
       "      <td>3.0</td>\n",
       "      <td>53.85</td>\n",
       "      <td>157.0</td>\n",
       "      <td>1.0</td>\n",
       "    </tr>\n",
       "    <tr>\n",
       "      <th>3</th>\n",
       "      <td>5535.0</td>\n",
       "      <td>1.0</td>\n",
       "      <td>0</td>\n",
       "      <td>0.0</td>\n",
       "      <td>0.0</td>\n",
       "      <td>45</td>\n",
       "      <td>0.0</td>\n",
       "      <td>1.0</td>\n",
       "      <td>0.0</td>\n",
       "      <td>2.0</td>\n",
       "      <td>...</td>\n",
       "      <td>2.0</td>\n",
       "      <td>2.0</td>\n",
       "      <td>0.0</td>\n",
       "      <td>0.0</td>\n",
       "      <td>1.0</td>\n",
       "      <td>0.0</td>\n",
       "      <td>0.0</td>\n",
       "      <td>42.30</td>\n",
       "      <td>1400.0</td>\n",
       "      <td>0.0</td>\n",
       "    </tr>\n",
       "    <tr>\n",
       "      <th>4</th>\n",
       "      <td>6511.0</td>\n",
       "      <td>0.0</td>\n",
       "      <td>0</td>\n",
       "      <td>0.0</td>\n",
       "      <td>0.0</td>\n",
       "      <td>2</td>\n",
       "      <td>1.0</td>\n",
       "      <td>0.0</td>\n",
       "      <td>1.0</td>\n",
       "      <td>0.0</td>\n",
       "      <td>...</td>\n",
       "      <td>0.0</td>\n",
       "      <td>0.0</td>\n",
       "      <td>0.0</td>\n",
       "      <td>0.0</td>\n",
       "      <td>0.0</td>\n",
       "      <td>1.0</td>\n",
       "      <td>2.0</td>\n",
       "      <td>70.70</td>\n",
       "      <td>925.0</td>\n",
       "      <td>1.0</td>\n",
       "    </tr>\n",
       "  </tbody>\n",
       "</table>\n",
       "<p>5 rows × 21 columns</p>\n",
       "</div>"
      ],
      "text/plain": [
       "   customerID  gender  SeniorCitizen  Partner  Dependents  tenure  \\\n",
       "0      5375.0     0.0              0      1.0         0.0       1   \n",
       "1      3962.0     1.0              0      0.0         0.0      34   \n",
       "2      2564.0     1.0              0      0.0         0.0       2   \n",
       "3      5535.0     1.0              0      0.0         0.0      45   \n",
       "4      6511.0     0.0              0      0.0         0.0       2   \n",
       "\n",
       "   PhoneService  MultipleLines  InternetService  OnlineSecurity  ...  \\\n",
       "0           0.0            1.0              0.0             0.0  ...   \n",
       "1           1.0            0.0              0.0             2.0  ...   \n",
       "2           1.0            0.0              0.0             2.0  ...   \n",
       "3           0.0            1.0              0.0             2.0  ...   \n",
       "4           1.0            0.0              1.0             0.0  ...   \n",
       "\n",
       "   DeviceProtection  TechSupport  StreamingTV  StreamingMovies  Contract  \\\n",
       "0               0.0          0.0          0.0              0.0       0.0   \n",
       "1               2.0          0.0          0.0              0.0       1.0   \n",
       "2               0.0          0.0          0.0              0.0       0.0   \n",
       "3               2.0          2.0          0.0              0.0       1.0   \n",
       "4               0.0          0.0          0.0              0.0       0.0   \n",
       "\n",
       "   PaperlessBilling  PaymentMethod  MonthlyCharges  TotalCharges  Churn  \n",
       "0               1.0            2.0           29.85        2505.0    0.0  \n",
       "1               0.0            3.0           56.95        1466.0    0.0  \n",
       "2               1.0            3.0           53.85         157.0    1.0  \n",
       "3               0.0            0.0           42.30        1400.0    0.0  \n",
       "4               1.0            2.0           70.70         925.0    1.0  \n",
       "\n",
       "[5 rows x 21 columns]"
      ]
     },
     "execution_count": 85,
     "metadata": {},
     "output_type": "execute_result"
    }
   ],
   "source": [
    "#Encoding\n",
    "from sklearn.preprocessing import OrdinalEncoder\n",
    "enc = OrdinalEncoder()\n",
    "for i in df.columns:\n",
    "    if df[i].dtypes=='object':\n",
    "        df[i]=enc.fit_transform(df[i].values.reshape(-1,1))\n",
    "df.head()"
   ]
  },
  {
   "cell_type": "code",
   "execution_count": 86,
   "metadata": {},
   "outputs": [
    {
     "data": {
      "text/html": [
       "<div>\n",
       "<style scoped>\n",
       "    .dataframe tbody tr th:only-of-type {\n",
       "        vertical-align: middle;\n",
       "    }\n",
       "\n",
       "    .dataframe tbody tr th {\n",
       "        vertical-align: top;\n",
       "    }\n",
       "\n",
       "    .dataframe thead th {\n",
       "        text-align: right;\n",
       "    }\n",
       "</style>\n",
       "<table border=\"1\" class=\"dataframe\">\n",
       "  <thead>\n",
       "    <tr style=\"text-align: right;\">\n",
       "      <th></th>\n",
       "      <th>gender</th>\n",
       "      <th>SeniorCitizen</th>\n",
       "      <th>Partner</th>\n",
       "      <th>Dependents</th>\n",
       "      <th>tenure</th>\n",
       "      <th>PhoneService</th>\n",
       "      <th>MultipleLines</th>\n",
       "      <th>InternetService</th>\n",
       "      <th>OnlineSecurity</th>\n",
       "      <th>OnlineBackup</th>\n",
       "      <th>DeviceProtection</th>\n",
       "      <th>TechSupport</th>\n",
       "      <th>StreamingTV</th>\n",
       "      <th>StreamingMovies</th>\n",
       "      <th>Contract</th>\n",
       "      <th>PaperlessBilling</th>\n",
       "      <th>PaymentMethod</th>\n",
       "      <th>MonthlyCharges</th>\n",
       "      <th>TotalCharges</th>\n",
       "      <th>Churn</th>\n",
       "    </tr>\n",
       "  </thead>\n",
       "  <tbody>\n",
       "    <tr>\n",
       "      <th>0</th>\n",
       "      <td>0.0</td>\n",
       "      <td>0</td>\n",
       "      <td>1.0</td>\n",
       "      <td>0.0</td>\n",
       "      <td>1</td>\n",
       "      <td>0.0</td>\n",
       "      <td>1.0</td>\n",
       "      <td>0.0</td>\n",
       "      <td>0.0</td>\n",
       "      <td>2.0</td>\n",
       "      <td>0.0</td>\n",
       "      <td>0.0</td>\n",
       "      <td>0.0</td>\n",
       "      <td>0.0</td>\n",
       "      <td>0.0</td>\n",
       "      <td>1.0</td>\n",
       "      <td>2.0</td>\n",
       "      <td>29.85</td>\n",
       "      <td>2505.0</td>\n",
       "      <td>0.0</td>\n",
       "    </tr>\n",
       "    <tr>\n",
       "      <th>1</th>\n",
       "      <td>1.0</td>\n",
       "      <td>0</td>\n",
       "      <td>0.0</td>\n",
       "      <td>0.0</td>\n",
       "      <td>34</td>\n",
       "      <td>1.0</td>\n",
       "      <td>0.0</td>\n",
       "      <td>0.0</td>\n",
       "      <td>2.0</td>\n",
       "      <td>0.0</td>\n",
       "      <td>2.0</td>\n",
       "      <td>0.0</td>\n",
       "      <td>0.0</td>\n",
       "      <td>0.0</td>\n",
       "      <td>1.0</td>\n",
       "      <td>0.0</td>\n",
       "      <td>3.0</td>\n",
       "      <td>56.95</td>\n",
       "      <td>1466.0</td>\n",
       "      <td>0.0</td>\n",
       "    </tr>\n",
       "    <tr>\n",
       "      <th>2</th>\n",
       "      <td>1.0</td>\n",
       "      <td>0</td>\n",
       "      <td>0.0</td>\n",
       "      <td>0.0</td>\n",
       "      <td>2</td>\n",
       "      <td>1.0</td>\n",
       "      <td>0.0</td>\n",
       "      <td>0.0</td>\n",
       "      <td>2.0</td>\n",
       "      <td>2.0</td>\n",
       "      <td>0.0</td>\n",
       "      <td>0.0</td>\n",
       "      <td>0.0</td>\n",
       "      <td>0.0</td>\n",
       "      <td>0.0</td>\n",
       "      <td>1.0</td>\n",
       "      <td>3.0</td>\n",
       "      <td>53.85</td>\n",
       "      <td>157.0</td>\n",
       "      <td>1.0</td>\n",
       "    </tr>\n",
       "    <tr>\n",
       "      <th>3</th>\n",
       "      <td>1.0</td>\n",
       "      <td>0</td>\n",
       "      <td>0.0</td>\n",
       "      <td>0.0</td>\n",
       "      <td>45</td>\n",
       "      <td>0.0</td>\n",
       "      <td>1.0</td>\n",
       "      <td>0.0</td>\n",
       "      <td>2.0</td>\n",
       "      <td>0.0</td>\n",
       "      <td>2.0</td>\n",
       "      <td>2.0</td>\n",
       "      <td>0.0</td>\n",
       "      <td>0.0</td>\n",
       "      <td>1.0</td>\n",
       "      <td>0.0</td>\n",
       "      <td>0.0</td>\n",
       "      <td>42.30</td>\n",
       "      <td>1400.0</td>\n",
       "      <td>0.0</td>\n",
       "    </tr>\n",
       "    <tr>\n",
       "      <th>4</th>\n",
       "      <td>0.0</td>\n",
       "      <td>0</td>\n",
       "      <td>0.0</td>\n",
       "      <td>0.0</td>\n",
       "      <td>2</td>\n",
       "      <td>1.0</td>\n",
       "      <td>0.0</td>\n",
       "      <td>1.0</td>\n",
       "      <td>0.0</td>\n",
       "      <td>0.0</td>\n",
       "      <td>0.0</td>\n",
       "      <td>0.0</td>\n",
       "      <td>0.0</td>\n",
       "      <td>0.0</td>\n",
       "      <td>0.0</td>\n",
       "      <td>1.0</td>\n",
       "      <td>2.0</td>\n",
       "      <td>70.70</td>\n",
       "      <td>925.0</td>\n",
       "      <td>1.0</td>\n",
       "    </tr>\n",
       "  </tbody>\n",
       "</table>\n",
       "</div>"
      ],
      "text/plain": [
       "   gender  SeniorCitizen  Partner  Dependents  tenure  PhoneService  \\\n",
       "0     0.0              0      1.0         0.0       1           0.0   \n",
       "1     1.0              0      0.0         0.0      34           1.0   \n",
       "2     1.0              0      0.0         0.0       2           1.0   \n",
       "3     1.0              0      0.0         0.0      45           0.0   \n",
       "4     0.0              0      0.0         0.0       2           1.0   \n",
       "\n",
       "   MultipleLines  InternetService  OnlineSecurity  OnlineBackup  \\\n",
       "0            1.0              0.0             0.0           2.0   \n",
       "1            0.0              0.0             2.0           0.0   \n",
       "2            0.0              0.0             2.0           2.0   \n",
       "3            1.0              0.0             2.0           0.0   \n",
       "4            0.0              1.0             0.0           0.0   \n",
       "\n",
       "   DeviceProtection  TechSupport  StreamingTV  StreamingMovies  Contract  \\\n",
       "0               0.0          0.0          0.0              0.0       0.0   \n",
       "1               2.0          0.0          0.0              0.0       1.0   \n",
       "2               0.0          0.0          0.0              0.0       0.0   \n",
       "3               2.0          2.0          0.0              0.0       1.0   \n",
       "4               0.0          0.0          0.0              0.0       0.0   \n",
       "\n",
       "   PaperlessBilling  PaymentMethod  MonthlyCharges  TotalCharges  Churn  \n",
       "0               1.0            2.0           29.85        2505.0    0.0  \n",
       "1               0.0            3.0           56.95        1466.0    0.0  \n",
       "2               1.0            3.0           53.85         157.0    1.0  \n",
       "3               0.0            0.0           42.30        1400.0    0.0  \n",
       "4               1.0            2.0           70.70         925.0    1.0  "
      ]
     },
     "execution_count": 86,
     "metadata": {},
     "output_type": "execute_result"
    }
   ],
   "source": [
    "df= df.drop('customerID', axis=1)\n",
    "df.head()"
   ]
  },
  {
   "cell_type": "code",
   "execution_count": 87,
   "metadata": {},
   "outputs": [
    {
     "data": {
      "text/plain": [
       "<matplotlib.axes._subplots.AxesSubplot at 0x22adb3ae430>"
      ]
     },
     "execution_count": 87,
     "metadata": {},
     "output_type": "execute_result"
    },
    {
     "data": {
      "image/png": "[encoded data removed]",
      "text/plain": [
       "<Figure size 1440x1296 with 2 Axes>"
      ]
     },
     "metadata": {
      "needs_background": "light"
     },
     "output_type": "display_data"
    }
   ],
   "source": [
    "plt.figure(figsize=(20,18))\n",
    "sns.heatmap(df.corr(), annot= True, fmt= '.0%')"
   ]
  },
  {
   "cell_type": "markdown",
   "metadata": {},
   "source": [
    "Observations: Customer churn is highly positively correlated to MonthlyCharges, and highly negatively correlated to tenure and Contract."
   ]
  },
  {
   "cell_type": "code",
   "execution_count": 88,
   "metadata": {},
   "outputs": [
    {
     "data": {
      "text/plain": [
       "gender                  AxesSubplot(0.125,0.71587;0.0824468x0.16413)\n",
       "SeniorCitizen        AxesSubplot(0.223936,0.71587;0.0824468x0.16413)\n",
       "Partner              AxesSubplot(0.322872,0.71587;0.0824468x0.16413)\n",
       "Dependents           AxesSubplot(0.421809,0.71587;0.0824468x0.16413)\n",
       "tenure               AxesSubplot(0.520745,0.71587;0.0824468x0.16413)\n",
       "PhoneService         AxesSubplot(0.619681,0.71587;0.0824468x0.16413)\n",
       "MultipleLines        AxesSubplot(0.718617,0.71587;0.0824468x0.16413)\n",
       "InternetService      AxesSubplot(0.817553,0.71587;0.0824468x0.16413)\n",
       "OnlineSecurity         AxesSubplot(0.125,0.518913;0.0824468x0.16413)\n",
       "OnlineBackup        AxesSubplot(0.223936,0.518913;0.0824468x0.16413)\n",
       "DeviceProtection    AxesSubplot(0.322872,0.518913;0.0824468x0.16413)\n",
       "TechSupport         AxesSubplot(0.421809,0.518913;0.0824468x0.16413)\n",
       "StreamingTV         AxesSubplot(0.520745,0.518913;0.0824468x0.16413)\n",
       "StreamingMovies     AxesSubplot(0.619681,0.518913;0.0824468x0.16413)\n",
       "Contract            AxesSubplot(0.718617,0.518913;0.0824468x0.16413)\n",
       "PaperlessBilling    AxesSubplot(0.817553,0.518913;0.0824468x0.16413)\n",
       "PaymentMethod          AxesSubplot(0.125,0.321957;0.0824468x0.16413)\n",
       "MonthlyCharges      AxesSubplot(0.223936,0.321957;0.0824468x0.16413)\n",
       "TotalCharges        AxesSubplot(0.322872,0.321957;0.0824468x0.16413)\n",
       "Churn               AxesSubplot(0.421809,0.321957;0.0824468x0.16413)\n",
       "dtype: object"
      ]
     },
     "execution_count": 88,
     "metadata": {},
     "output_type": "execute_result"
    },
    {
     "data": {
      "image/png": "[encoded data removed]",
      "text/plain": [
       "<Figure size 1296x864 with 32 Axes>"
      ]
     },
     "metadata": {
      "needs_background": "light"
     },
     "output_type": "display_data"
    }
   ],
   "source": [
    "#Checking for the Outliers\n",
    "\n",
    "df.plot(kind= 'box', subplots= True, layout= (4,8), figsize=(18,12))"
   ]
  },
  {
   "cell_type": "markdown",
   "metadata": {},
   "source": [
    "Observations: We can see that there is no outliers present in all columns."
   ]
  },
  {
   "cell_type": "code",
   "execution_count": 89,
   "metadata": {},
   "outputs": [
    {
     "name": "stdout",
     "output_type": "stream",
     "text": [
      "(7043, 19)\n",
      "(7043, 1)\n"
     ]
    }
   ],
   "source": [
    "#Splitting DATA\n",
    "\n",
    "x= df.drop('Churn', axis=1)\n",
    "y= df[['Churn']]\n",
    "print(x.shape)\n",
    "print(y.shape)"
   ]
  },
  {
   "cell_type": "code",
   "execution_count": 90,
   "metadata": {},
   "outputs": [
    {
     "data": {
      "text/plain": [
       "array([[<matplotlib.axes._subplots.AxesSubplot object at 0x0000022ADD077940>,\n",
       "        <matplotlib.axes._subplots.AxesSubplot object at 0x0000022ADD072C10>,\n",
       "        <matplotlib.axes._subplots.AxesSubplot object at 0x0000022ADD0BB0A0>,\n",
       "        <matplotlib.axes._subplots.AxesSubplot object at 0x0000022ADD0F3490>,\n",
       "        <matplotlib.axes._subplots.AxesSubplot object at 0x0000022ADD11F8E0>,\n",
       "        <matplotlib.axes._subplots.AxesSubplot object at 0x0000022ADD14CC70>,\n",
       "        <matplotlib.axes._subplots.AxesSubplot object at 0x0000022ADD14CD60>,\n",
       "        <matplotlib.axes._subplots.AxesSubplot object at 0x0000022ADD184250>],\n",
       "       [<matplotlib.axes._subplots.AxesSubplot object at 0x0000022ADD8DDA60>,\n",
       "        <matplotlib.axes._subplots.AxesSubplot object at 0x0000022ADD90CA00>,\n",
       "        <matplotlib.axes._subplots.AxesSubplot object at 0x0000022ADD9431C0>,\n",
       "        <matplotlib.axes._subplots.AxesSubplot object at 0x0000022ADD96C940>,\n",
       "        <matplotlib.axes._subplots.AxesSubplot object at 0x0000022ADD996160>,\n",
       "        <matplotlib.axes._subplots.AxesSubplot object at 0x0000022ADD9CB880>,\n",
       "        <matplotlib.axes._subplots.AxesSubplot object at 0x0000022ADD9F70A0>,\n",
       "        <matplotlib.axes._subplots.AxesSubplot object at 0x0000022ADDA2D7C0>],\n",
       "       [<matplotlib.axes._subplots.AxesSubplot object at 0x0000022ADDA55F40>,\n",
       "        <matplotlib.axes._subplots.AxesSubplot object at 0x0000022ADDA8B700>,\n",
       "        <matplotlib.axes._subplots.AxesSubplot object at 0x0000022ADDAB5E80>,\n",
       "        <matplotlib.axes._subplots.AxesSubplot object at 0x0000022ADDAE9580>,\n",
       "        <matplotlib.axes._subplots.AxesSubplot object at 0x0000022ADDB07EB0>,\n",
       "        <matplotlib.axes._subplots.AxesSubplot object at 0x0000022ADDB3C670>,\n",
       "        <matplotlib.axes._subplots.AxesSubplot object at 0x0000022ADDB68DF0>,\n",
       "        <matplotlib.axes._subplots.AxesSubplot object at 0x0000022ADDB9D5B0>],\n",
       "       [<matplotlib.axes._subplots.AxesSubplot object at 0x0000022ADDBC7D30>,\n",
       "        <matplotlib.axes._subplots.AxesSubplot object at 0x0000022ADDBFB4F0>,\n",
       "        <matplotlib.axes._subplots.AxesSubplot object at 0x0000022ADDC25C70>,\n",
       "        <matplotlib.axes._subplots.AxesSubplot object at 0x0000022ADDC5B430>,\n",
       "        <matplotlib.axes._subplots.AxesSubplot object at 0x0000022ADDC86BB0>,\n",
       "        <matplotlib.axes._subplots.AxesSubplot object at 0x0000022ADDCBA370>,\n",
       "        <matplotlib.axes._subplots.AxesSubplot object at 0x0000022ADDCE6AF0>,\n",
       "        <matplotlib.axes._subplots.AxesSubplot object at 0x0000022ADDD1D2B0>]],\n",
       "      dtype=object)"
      ]
     },
     "execution_count": 90,
     "metadata": {},
     "output_type": "execute_result"
    },
    {
     "data": {
      "image/png": "[encoded data removed]",
      "text/plain": [
       "<Figure size 1440x864 with 32 Axes>"
      ]
     },
     "metadata": {
      "needs_background": "light"
     },
     "output_type": "display_data"
    }
   ],
   "source": [
    "x.hist(figsize=(20,12), layout= (4,8), grid= True, bins=25)"
   ]
  },
  {
   "cell_type": "markdown",
   "metadata": {},
   "source": [
    "Observations: Columns MonthlyCharges and tenure are somewhat left skewed."
   ]
  },
  {
   "cell_type": "code",
   "execution_count": 91,
   "metadata": {},
   "outputs": [
    {
     "data": {
      "text/plain": [
       "gender             -0.019031\n",
       "SeniorCitizen       1.833633\n",
       "Partner             0.067922\n",
       "Dependents          0.875199\n",
       "tenure              0.239540\n",
       "PhoneService       -2.727153\n",
       "MultipleLines       0.118719\n",
       "InternetService     0.205423\n",
       "OnlineSecurity      0.416985\n",
       "OnlineBackup        0.182930\n",
       "DeviceProtection    0.186847\n",
       "TechSupport         0.402365\n",
       "StreamingTV         0.028486\n",
       "StreamingMovies     0.014657\n",
       "Contract            0.630959\n",
       "PaperlessBilling   -0.375396\n",
       "PaymentMethod      -0.170129\n",
       "MonthlyCharges     -0.220524\n",
       "TotalCharges        0.015857\n",
       "dtype: float64"
      ]
     },
     "execution_count": 91,
     "metadata": {},
     "output_type": "execute_result"
    }
   ],
   "source": [
    "x.skew()"
   ]
  },
  {
   "cell_type": "code",
   "execution_count": 92,
   "metadata": {},
   "outputs": [
    {
     "data": {
      "text/html": [
       "<div>\n",
       "<style scoped>\n",
       "    .dataframe tbody tr th:only-of-type {\n",
       "        vertical-align: middle;\n",
       "    }\n",
       "\n",
       "    .dataframe tbody tr th {\n",
       "        vertical-align: top;\n",
       "    }\n",
       "\n",
       "    .dataframe thead th {\n",
       "        text-align: right;\n",
       "    }\n",
       "</style>\n",
       "<table border=\"1\" class=\"dataframe\">\n",
       "  <thead>\n",
       "    <tr style=\"text-align: right;\">\n",
       "      <th></th>\n",
       "      <th>gender</th>\n",
       "      <th>SeniorCitizen</th>\n",
       "      <th>Partner</th>\n",
       "      <th>Dependents</th>\n",
       "      <th>tenure</th>\n",
       "      <th>PhoneService</th>\n",
       "      <th>MultipleLines</th>\n",
       "      <th>InternetService</th>\n",
       "      <th>OnlineSecurity</th>\n",
       "      <th>OnlineBackup</th>\n",
       "      <th>DeviceProtection</th>\n",
       "      <th>TechSupport</th>\n",
       "      <th>StreamingTV</th>\n",
       "      <th>StreamingMovies</th>\n",
       "      <th>Contract</th>\n",
       "      <th>PaperlessBilling</th>\n",
       "      <th>PaymentMethod</th>\n",
       "      <th>MonthlyCharges</th>\n",
       "      <th>TotalCharges</th>\n",
       "    </tr>\n",
       "  </thead>\n",
       "  <tbody>\n",
       "    <tr>\n",
       "      <th>0</th>\n",
       "      <td>0.0</td>\n",
       "      <td>0</td>\n",
       "      <td>1.0</td>\n",
       "      <td>0.0</td>\n",
       "      <td>1</td>\n",
       "      <td>0.0</td>\n",
       "      <td>1.0</td>\n",
       "      <td>0.0</td>\n",
       "      <td>0.0</td>\n",
       "      <td>2.0</td>\n",
       "      <td>0.0</td>\n",
       "      <td>0.0</td>\n",
       "      <td>0.0</td>\n",
       "      <td>0.0</td>\n",
       "      <td>0.0</td>\n",
       "      <td>1.0</td>\n",
       "      <td>2.0</td>\n",
       "      <td>29.85</td>\n",
       "      <td>2505.0</td>\n",
       "    </tr>\n",
       "    <tr>\n",
       "      <th>1</th>\n",
       "      <td>1.0</td>\n",
       "      <td>0</td>\n",
       "      <td>0.0</td>\n",
       "      <td>0.0</td>\n",
       "      <td>34</td>\n",
       "      <td>1.0</td>\n",
       "      <td>0.0</td>\n",
       "      <td>0.0</td>\n",
       "      <td>2.0</td>\n",
       "      <td>0.0</td>\n",
       "      <td>2.0</td>\n",
       "      <td>0.0</td>\n",
       "      <td>0.0</td>\n",
       "      <td>0.0</td>\n",
       "      <td>1.0</td>\n",
       "      <td>0.0</td>\n",
       "      <td>3.0</td>\n",
       "      <td>56.95</td>\n",
       "      <td>1466.0</td>\n",
       "    </tr>\n",
       "    <tr>\n",
       "      <th>2</th>\n",
       "      <td>1.0</td>\n",
       "      <td>0</td>\n",
       "      <td>0.0</td>\n",
       "      <td>0.0</td>\n",
       "      <td>2</td>\n",
       "      <td>1.0</td>\n",
       "      <td>0.0</td>\n",
       "      <td>0.0</td>\n",
       "      <td>2.0</td>\n",
       "      <td>2.0</td>\n",
       "      <td>0.0</td>\n",
       "      <td>0.0</td>\n",
       "      <td>0.0</td>\n",
       "      <td>0.0</td>\n",
       "      <td>0.0</td>\n",
       "      <td>1.0</td>\n",
       "      <td>3.0</td>\n",
       "      <td>53.85</td>\n",
       "      <td>157.0</td>\n",
       "    </tr>\n",
       "    <tr>\n",
       "      <th>3</th>\n",
       "      <td>1.0</td>\n",
       "      <td>0</td>\n",
       "      <td>0.0</td>\n",
       "      <td>0.0</td>\n",
       "      <td>45</td>\n",
       "      <td>0.0</td>\n",
       "      <td>1.0</td>\n",
       "      <td>0.0</td>\n",
       "      <td>2.0</td>\n",
       "      <td>0.0</td>\n",
       "      <td>2.0</td>\n",
       "      <td>2.0</td>\n",
       "      <td>0.0</td>\n",
       "      <td>0.0</td>\n",
       "      <td>1.0</td>\n",
       "      <td>0.0</td>\n",
       "      <td>0.0</td>\n",
       "      <td>42.30</td>\n",
       "      <td>1400.0</td>\n",
       "    </tr>\n",
       "    <tr>\n",
       "      <th>4</th>\n",
       "      <td>0.0</td>\n",
       "      <td>0</td>\n",
       "      <td>0.0</td>\n",
       "      <td>0.0</td>\n",
       "      <td>2</td>\n",
       "      <td>1.0</td>\n",
       "      <td>0.0</td>\n",
       "      <td>1.0</td>\n",
       "      <td>0.0</td>\n",
       "      <td>0.0</td>\n",
       "      <td>0.0</td>\n",
       "      <td>0.0</td>\n",
       "      <td>0.0</td>\n",
       "      <td>0.0</td>\n",
       "      <td>0.0</td>\n",
       "      <td>1.0</td>\n",
       "      <td>2.0</td>\n",
       "      <td>70.70</td>\n",
       "      <td>925.0</td>\n",
       "    </tr>\n",
       "    <tr>\n",
       "      <th>...</th>\n",
       "      <td>...</td>\n",
       "      <td>...</td>\n",
       "      <td>...</td>\n",
       "      <td>...</td>\n",
       "      <td>...</td>\n",
       "      <td>...</td>\n",
       "      <td>...</td>\n",
       "      <td>...</td>\n",
       "      <td>...</td>\n",
       "      <td>...</td>\n",
       "      <td>...</td>\n",
       "      <td>...</td>\n",
       "      <td>...</td>\n",
       "      <td>...</td>\n",
       "      <td>...</td>\n",
       "      <td>...</td>\n",
       "      <td>...</td>\n",
       "      <td>...</td>\n",
       "      <td>...</td>\n",
       "    </tr>\n",
       "    <tr>\n",
       "      <th>7038</th>\n",
       "      <td>1.0</td>\n",
       "      <td>0</td>\n",
       "      <td>1.0</td>\n",
       "      <td>1.0</td>\n",
       "      <td>24</td>\n",
       "      <td>1.0</td>\n",
       "      <td>2.0</td>\n",
       "      <td>0.0</td>\n",
       "      <td>2.0</td>\n",
       "      <td>0.0</td>\n",
       "      <td>2.0</td>\n",
       "      <td>2.0</td>\n",
       "      <td>2.0</td>\n",
       "      <td>2.0</td>\n",
       "      <td>1.0</td>\n",
       "      <td>1.0</td>\n",
       "      <td>3.0</td>\n",
       "      <td>84.80</td>\n",
       "      <td>1597.0</td>\n",
       "    </tr>\n",
       "    <tr>\n",
       "      <th>7039</th>\n",
       "      <td>0.0</td>\n",
       "      <td>0</td>\n",
       "      <td>1.0</td>\n",
       "      <td>1.0</td>\n",
       "      <td>72</td>\n",
       "      <td>1.0</td>\n",
       "      <td>2.0</td>\n",
       "      <td>1.0</td>\n",
       "      <td>0.0</td>\n",
       "      <td>2.0</td>\n",
       "      <td>2.0</td>\n",
       "      <td>0.0</td>\n",
       "      <td>2.0</td>\n",
       "      <td>2.0</td>\n",
       "      <td>1.0</td>\n",
       "      <td>1.0</td>\n",
       "      <td>1.0</td>\n",
       "      <td>103.20</td>\n",
       "      <td>5698.0</td>\n",
       "    </tr>\n",
       "    <tr>\n",
       "      <th>7040</th>\n",
       "      <td>0.0</td>\n",
       "      <td>0</td>\n",
       "      <td>1.0</td>\n",
       "      <td>1.0</td>\n",
       "      <td>11</td>\n",
       "      <td>0.0</td>\n",
       "      <td>1.0</td>\n",
       "      <td>0.0</td>\n",
       "      <td>2.0</td>\n",
       "      <td>0.0</td>\n",
       "      <td>0.0</td>\n",
       "      <td>0.0</td>\n",
       "      <td>0.0</td>\n",
       "      <td>0.0</td>\n",
       "      <td>0.0</td>\n",
       "      <td>1.0</td>\n",
       "      <td>2.0</td>\n",
       "      <td>29.60</td>\n",
       "      <td>2994.0</td>\n",
       "    </tr>\n",
       "    <tr>\n",
       "      <th>7041</th>\n",
       "      <td>1.0</td>\n",
       "      <td>1</td>\n",
       "      <td>1.0</td>\n",
       "      <td>0.0</td>\n",
       "      <td>4</td>\n",
       "      <td>1.0</td>\n",
       "      <td>2.0</td>\n",
       "      <td>1.0</td>\n",
       "      <td>0.0</td>\n",
       "      <td>0.0</td>\n",
       "      <td>0.0</td>\n",
       "      <td>0.0</td>\n",
       "      <td>0.0</td>\n",
       "      <td>0.0</td>\n",
       "      <td>0.0</td>\n",
       "      <td>1.0</td>\n",
       "      <td>3.0</td>\n",
       "      <td>74.40</td>\n",
       "      <td>2660.0</td>\n",
       "    </tr>\n",
       "    <tr>\n",
       "      <th>7042</th>\n",
       "      <td>1.0</td>\n",
       "      <td>0</td>\n",
       "      <td>0.0</td>\n",
       "      <td>0.0</td>\n",
       "      <td>66</td>\n",
       "      <td>1.0</td>\n",
       "      <td>0.0</td>\n",
       "      <td>1.0</td>\n",
       "      <td>2.0</td>\n",
       "      <td>0.0</td>\n",
       "      <td>2.0</td>\n",
       "      <td>2.0</td>\n",
       "      <td>2.0</td>\n",
       "      <td>2.0</td>\n",
       "      <td>2.0</td>\n",
       "      <td>1.0</td>\n",
       "      <td>0.0</td>\n",
       "      <td>105.65</td>\n",
       "      <td>5407.0</td>\n",
       "    </tr>\n",
       "  </tbody>\n",
       "</table>\n",
       "<p>7043 rows × 19 columns</p>\n",
       "</div>"
      ],
      "text/plain": [
       "      gender  SeniorCitizen  Partner  Dependents  tenure  PhoneService  \\\n",
       "0        0.0              0      1.0         0.0       1           0.0   \n",
       "1        1.0              0      0.0         0.0      34           1.0   \n",
       "2        1.0              0      0.0         0.0       2           1.0   \n",
       "3        1.0              0      0.0         0.0      45           0.0   \n",
       "4        0.0              0      0.0         0.0       2           1.0   \n",
       "...      ...            ...      ...         ...     ...           ...   \n",
       "7038     1.0              0      1.0         1.0      24           1.0   \n",
       "7039     0.0              0      1.0         1.0      72           1.0   \n",
       "7040     0.0              0      1.0         1.0      11           0.0   \n",
       "7041     1.0              1      1.0         0.0       4           1.0   \n",
       "7042     1.0              0      0.0         0.0      66           1.0   \n",
       "\n",
       "      MultipleLines  InternetService  OnlineSecurity  OnlineBackup  \\\n",
       "0               1.0              0.0             0.0           2.0   \n",
       "1               0.0              0.0             2.0           0.0   \n",
       "2               0.0              0.0             2.0           2.0   \n",
       "3               1.0              0.0             2.0           0.0   \n",
       "4               0.0              1.0             0.0           0.0   \n",
       "...             ...              ...             ...           ...   \n",
       "7038            2.0              0.0             2.0           0.0   \n",
       "7039            2.0              1.0             0.0           2.0   \n",
       "7040            1.0              0.0             2.0           0.0   \n",
       "7041            2.0              1.0             0.0           0.0   \n",
       "7042            0.0              1.0             2.0           0.0   \n",
       "\n",
       "      DeviceProtection  TechSupport  StreamingTV  StreamingMovies  Contract  \\\n",
       "0                  0.0          0.0          0.0              0.0       0.0   \n",
       "1                  2.0          0.0          0.0              0.0       1.0   \n",
       "2                  0.0          0.0          0.0              0.0       0.0   \n",
       "3                  2.0          2.0          0.0              0.0       1.0   \n",
       "4                  0.0          0.0          0.0              0.0       0.0   \n",
       "...                ...          ...          ...              ...       ...   \n",
       "7038               2.0          2.0          2.0              2.0       1.0   \n",
       "7039               2.0          0.0          2.0              2.0       1.0   \n",
       "7040               0.0          0.0          0.0              0.0       0.0   \n",
       "7041               0.0          0.0          0.0              0.0       0.0   \n",
       "7042               2.0          2.0          2.0              2.0       2.0   \n",
       "\n",
       "      PaperlessBilling  PaymentMethod  MonthlyCharges  TotalCharges  \n",
       "0                  1.0            2.0           29.85        2505.0  \n",
       "1                  0.0            3.0           56.95        1466.0  \n",
       "2                  1.0            3.0           53.85         157.0  \n",
       "3                  0.0            0.0           42.30        1400.0  \n",
       "4                  1.0            2.0           70.70         925.0  \n",
       "...                ...            ...             ...           ...  \n",
       "7038               1.0            3.0           84.80        1597.0  \n",
       "7039               1.0            1.0          103.20        5698.0  \n",
       "7040               1.0            2.0           29.60        2994.0  \n",
       "7041               1.0            3.0           74.40        2660.0  \n",
       "7042               1.0            0.0          105.65        5407.0  \n",
       "\n",
       "[7043 rows x 19 columns]"
      ]
     },
     "execution_count": 92,
     "metadata": {},
     "output_type": "execute_result"
    }
   ],
   "source": [
    "x"
   ]
  },
  {
   "cell_type": "code",
   "execution_count": 93,
   "metadata": {},
   "outputs": [
    {
     "data": {
      "text/html": [
       "<div>\n",
       "<style scoped>\n",
       "    .dataframe tbody tr th:only-of-type {\n",
       "        vertical-align: middle;\n",
       "    }\n",
       "\n",
       "    .dataframe tbody tr th {\n",
       "        vertical-align: top;\n",
       "    }\n",
       "\n",
       "    .dataframe thead th {\n",
       "        text-align: right;\n",
       "    }\n",
       "</style>\n",
       "<table border=\"1\" class=\"dataframe\">\n",
       "  <thead>\n",
       "    <tr style=\"text-align: right;\">\n",
       "      <th></th>\n",
       "      <th>Churn</th>\n",
       "    </tr>\n",
       "  </thead>\n",
       "  <tbody>\n",
       "    <tr>\n",
       "      <th>0</th>\n",
       "      <td>0.0</td>\n",
       "    </tr>\n",
       "    <tr>\n",
       "      <th>1</th>\n",
       "      <td>0.0</td>\n",
       "    </tr>\n",
       "    <tr>\n",
       "      <th>2</th>\n",
       "      <td>1.0</td>\n",
       "    </tr>\n",
       "    <tr>\n",
       "      <th>3</th>\n",
       "      <td>0.0</td>\n",
       "    </tr>\n",
       "    <tr>\n",
       "      <th>4</th>\n",
       "      <td>1.0</td>\n",
       "    </tr>\n",
       "    <tr>\n",
       "      <th>...</th>\n",
       "      <td>...</td>\n",
       "    </tr>\n",
       "    <tr>\n",
       "      <th>7038</th>\n",
       "      <td>0.0</td>\n",
       "    </tr>\n",
       "    <tr>\n",
       "      <th>7039</th>\n",
       "      <td>0.0</td>\n",
       "    </tr>\n",
       "    <tr>\n",
       "      <th>7040</th>\n",
       "      <td>0.0</td>\n",
       "    </tr>\n",
       "    <tr>\n",
       "      <th>7041</th>\n",
       "      <td>1.0</td>\n",
       "    </tr>\n",
       "    <tr>\n",
       "      <th>7042</th>\n",
       "      <td>0.0</td>\n",
       "    </tr>\n",
       "  </tbody>\n",
       "</table>\n",
       "<p>7043 rows × 1 columns</p>\n",
       "</div>"
      ],
      "text/plain": [
       "      Churn\n",
       "0       0.0\n",
       "1       0.0\n",
       "2       1.0\n",
       "3       0.0\n",
       "4       1.0\n",
       "...     ...\n",
       "7038    0.0\n",
       "7039    0.0\n",
       "7040    0.0\n",
       "7041    1.0\n",
       "7042    0.0\n",
       "\n",
       "[7043 rows x 1 columns]"
      ]
     },
     "execution_count": 93,
     "metadata": {},
     "output_type": "execute_result"
    }
   ],
   "source": [
    "y"
   ]
  },
  {
   "cell_type": "code",
   "execution_count": 94,
   "metadata": {},
   "outputs": [
    {
     "data": {
      "text/html": [
       "<div>\n",
       "<style scoped>\n",
       "    .dataframe tbody tr th:only-of-type {\n",
       "        vertical-align: middle;\n",
       "    }\n",
       "\n",
       "    .dataframe tbody tr th {\n",
       "        vertical-align: top;\n",
       "    }\n",
       "\n",
       "    .dataframe thead th {\n",
       "        text-align: right;\n",
       "    }\n",
       "</style>\n",
       "<table border=\"1\" class=\"dataframe\">\n",
       "  <thead>\n",
       "    <tr style=\"text-align: right;\">\n",
       "      <th></th>\n",
       "      <th>gender</th>\n",
       "      <th>SeniorCitizen</th>\n",
       "      <th>Partner</th>\n",
       "      <th>Dependents</th>\n",
       "      <th>tenure</th>\n",
       "      <th>PhoneService</th>\n",
       "      <th>MultipleLines</th>\n",
       "      <th>InternetService</th>\n",
       "      <th>OnlineSecurity</th>\n",
       "      <th>OnlineBackup</th>\n",
       "      <th>DeviceProtection</th>\n",
       "      <th>TechSupport</th>\n",
       "      <th>StreamingTV</th>\n",
       "      <th>StreamingMovies</th>\n",
       "      <th>Contract</th>\n",
       "      <th>PaperlessBilling</th>\n",
       "      <th>PaymentMethod</th>\n",
       "      <th>MonthlyCharges</th>\n",
       "      <th>TotalCharges</th>\n",
       "    </tr>\n",
       "  </thead>\n",
       "  <tbody>\n",
       "    <tr>\n",
       "      <th>0</th>\n",
       "      <td>-1.009559</td>\n",
       "      <td>-0.439916</td>\n",
       "      <td>1.034530</td>\n",
       "      <td>-0.654012</td>\n",
       "      <td>-1.277445</td>\n",
       "      <td>-3.054010</td>\n",
       "      <td>0.062723</td>\n",
       "      <td>-1.183234</td>\n",
       "      <td>-0.918838</td>\n",
       "      <td>1.242550</td>\n",
       "      <td>-1.027910</td>\n",
       "      <td>-0.925262</td>\n",
       "      <td>-1.113495</td>\n",
       "      <td>-1.121405</td>\n",
       "      <td>-0.828207</td>\n",
       "      <td>0.829798</td>\n",
       "      <td>0.398558</td>\n",
       "      <td>-1.160323</td>\n",
       "      <td>-0.398608</td>\n",
       "    </tr>\n",
       "    <tr>\n",
       "      <th>1</th>\n",
       "      <td>0.990532</td>\n",
       "      <td>-0.439916</td>\n",
       "      <td>-0.966622</td>\n",
       "      <td>-0.654012</td>\n",
       "      <td>0.066327</td>\n",
       "      <td>0.327438</td>\n",
       "      <td>-0.991588</td>\n",
       "      <td>-1.183234</td>\n",
       "      <td>1.407321</td>\n",
       "      <td>-1.029919</td>\n",
       "      <td>1.245111</td>\n",
       "      <td>-0.925262</td>\n",
       "      <td>-1.113495</td>\n",
       "      <td>-1.121405</td>\n",
       "      <td>0.371271</td>\n",
       "      <td>-1.205113</td>\n",
       "      <td>1.334863</td>\n",
       "      <td>-0.259629</td>\n",
       "      <td>-0.948762</td>\n",
       "    </tr>\n",
       "    <tr>\n",
       "      <th>2</th>\n",
       "      <td>0.990532</td>\n",
       "      <td>-0.439916</td>\n",
       "      <td>-0.966622</td>\n",
       "      <td>-0.654012</td>\n",
       "      <td>-1.236724</td>\n",
       "      <td>0.327438</td>\n",
       "      <td>-0.991588</td>\n",
       "      <td>-1.183234</td>\n",
       "      <td>1.407321</td>\n",
       "      <td>1.242550</td>\n",
       "      <td>-1.027910</td>\n",
       "      <td>-0.925262</td>\n",
       "      <td>-1.113495</td>\n",
       "      <td>-1.121405</td>\n",
       "      <td>-0.828207</td>\n",
       "      <td>0.829798</td>\n",
       "      <td>1.334863</td>\n",
       "      <td>-0.362660</td>\n",
       "      <td>-1.641883</td>\n",
       "    </tr>\n",
       "    <tr>\n",
       "      <th>3</th>\n",
       "      <td>0.990532</td>\n",
       "      <td>-0.439916</td>\n",
       "      <td>-0.966622</td>\n",
       "      <td>-0.654012</td>\n",
       "      <td>0.514251</td>\n",
       "      <td>-3.054010</td>\n",
       "      <td>0.062723</td>\n",
       "      <td>-1.183234</td>\n",
       "      <td>1.407321</td>\n",
       "      <td>-1.029919</td>\n",
       "      <td>1.245111</td>\n",
       "      <td>1.396299</td>\n",
       "      <td>-1.113495</td>\n",
       "      <td>-1.121405</td>\n",
       "      <td>0.371271</td>\n",
       "      <td>-1.205113</td>\n",
       "      <td>-1.474052</td>\n",
       "      <td>-0.746535</td>\n",
       "      <td>-0.983710</td>\n",
       "    </tr>\n",
       "    <tr>\n",
       "      <th>4</th>\n",
       "      <td>-1.009559</td>\n",
       "      <td>-0.439916</td>\n",
       "      <td>-0.966622</td>\n",
       "      <td>-0.654012</td>\n",
       "      <td>-1.236724</td>\n",
       "      <td>0.327438</td>\n",
       "      <td>-0.991588</td>\n",
       "      <td>0.172250</td>\n",
       "      <td>-0.918838</td>\n",
       "      <td>-1.029919</td>\n",
       "      <td>-1.027910</td>\n",
       "      <td>-0.925262</td>\n",
       "      <td>-1.113495</td>\n",
       "      <td>-1.121405</td>\n",
       "      <td>-0.828207</td>\n",
       "      <td>0.829798</td>\n",
       "      <td>0.398558</td>\n",
       "      <td>0.197365</td>\n",
       "      <td>-1.235224</td>\n",
       "    </tr>\n",
       "    <tr>\n",
       "      <th>...</th>\n",
       "      <td>...</td>\n",
       "      <td>...</td>\n",
       "      <td>...</td>\n",
       "      <td>...</td>\n",
       "      <td>...</td>\n",
       "      <td>...</td>\n",
       "      <td>...</td>\n",
       "      <td>...</td>\n",
       "      <td>...</td>\n",
       "      <td>...</td>\n",
       "      <td>...</td>\n",
       "      <td>...</td>\n",
       "      <td>...</td>\n",
       "      <td>...</td>\n",
       "      <td>...</td>\n",
       "      <td>...</td>\n",
       "      <td>...</td>\n",
       "      <td>...</td>\n",
       "      <td>...</td>\n",
       "    </tr>\n",
       "    <tr>\n",
       "      <th>7038</th>\n",
       "      <td>0.990532</td>\n",
       "      <td>-0.439916</td>\n",
       "      <td>1.034530</td>\n",
       "      <td>1.529024</td>\n",
       "      <td>-0.340876</td>\n",
       "      <td>0.327438</td>\n",
       "      <td>1.117034</td>\n",
       "      <td>-1.183234</td>\n",
       "      <td>1.407321</td>\n",
       "      <td>-1.029919</td>\n",
       "      <td>1.245111</td>\n",
       "      <td>1.396299</td>\n",
       "      <td>1.146547</td>\n",
       "      <td>1.138411</td>\n",
       "      <td>0.371271</td>\n",
       "      <td>0.829798</td>\n",
       "      <td>1.334863</td>\n",
       "      <td>0.665992</td>\n",
       "      <td>-0.879397</td>\n",
       "    </tr>\n",
       "    <tr>\n",
       "      <th>7039</th>\n",
       "      <td>-1.009559</td>\n",
       "      <td>-0.439916</td>\n",
       "      <td>1.034530</td>\n",
       "      <td>1.529024</td>\n",
       "      <td>1.613701</td>\n",
       "      <td>0.327438</td>\n",
       "      <td>1.117034</td>\n",
       "      <td>0.172250</td>\n",
       "      <td>-0.918838</td>\n",
       "      <td>1.242550</td>\n",
       "      <td>1.245111</td>\n",
       "      <td>-0.925262</td>\n",
       "      <td>1.146547</td>\n",
       "      <td>1.138411</td>\n",
       "      <td>0.371271</td>\n",
       "      <td>0.829798</td>\n",
       "      <td>-0.537747</td>\n",
       "      <td>1.277533</td>\n",
       "      <td>1.292099</td>\n",
       "    </tr>\n",
       "    <tr>\n",
       "      <th>7040</th>\n",
       "      <td>-1.009559</td>\n",
       "      <td>-0.439916</td>\n",
       "      <td>1.034530</td>\n",
       "      <td>1.529024</td>\n",
       "      <td>-0.870241</td>\n",
       "      <td>-3.054010</td>\n",
       "      <td>0.062723</td>\n",
       "      <td>-1.183234</td>\n",
       "      <td>1.407321</td>\n",
       "      <td>-1.029919</td>\n",
       "      <td>-1.027910</td>\n",
       "      <td>-0.925262</td>\n",
       "      <td>-1.113495</td>\n",
       "      <td>-1.121405</td>\n",
       "      <td>-0.828207</td>\n",
       "      <td>0.829798</td>\n",
       "      <td>0.398558</td>\n",
       "      <td>-1.168632</td>\n",
       "      <td>-0.139680</td>\n",
       "    </tr>\n",
       "    <tr>\n",
       "      <th>7041</th>\n",
       "      <td>0.990532</td>\n",
       "      <td>2.273159</td>\n",
       "      <td>1.034530</td>\n",
       "      <td>-0.654012</td>\n",
       "      <td>-1.155283</td>\n",
       "      <td>0.327438</td>\n",
       "      <td>1.117034</td>\n",
       "      <td>0.172250</td>\n",
       "      <td>-0.918838</td>\n",
       "      <td>-1.029919</td>\n",
       "      <td>-1.027910</td>\n",
       "      <td>-0.925262</td>\n",
       "      <td>-1.113495</td>\n",
       "      <td>-1.121405</td>\n",
       "      <td>-0.828207</td>\n",
       "      <td>0.829798</td>\n",
       "      <td>1.334863</td>\n",
       "      <td>0.320338</td>\n",
       "      <td>-0.316534</td>\n",
       "    </tr>\n",
       "    <tr>\n",
       "      <th>7042</th>\n",
       "      <td>0.990532</td>\n",
       "      <td>-0.439916</td>\n",
       "      <td>-0.966622</td>\n",
       "      <td>-0.654012</td>\n",
       "      <td>1.369379</td>\n",
       "      <td>0.327438</td>\n",
       "      <td>-0.991588</td>\n",
       "      <td>0.172250</td>\n",
       "      <td>1.407321</td>\n",
       "      <td>-1.029919</td>\n",
       "      <td>1.245111</td>\n",
       "      <td>1.396299</td>\n",
       "      <td>1.146547</td>\n",
       "      <td>1.138411</td>\n",
       "      <td>1.570749</td>\n",
       "      <td>0.829798</td>\n",
       "      <td>-1.474052</td>\n",
       "      <td>1.358961</td>\n",
       "      <td>1.138013</td>\n",
       "    </tr>\n",
       "  </tbody>\n",
       "</table>\n",
       "<p>7043 rows × 19 columns</p>\n",
       "</div>"
      ],
      "text/plain": [
       "        gender  SeniorCitizen   Partner  Dependents    tenure  PhoneService  \\\n",
       "0    -1.009559      -0.439916  1.034530   -0.654012 -1.277445     -3.054010   \n",
       "1     0.990532      -0.439916 -0.966622   -0.654012  0.066327      0.327438   \n",
       "2     0.990532      -0.439916 -0.966622   -0.654012 -1.236724      0.327438   \n",
       "3     0.990532      -0.439916 -0.966622   -0.654012  0.514251     -3.054010   \n",
       "4    -1.009559      -0.439916 -0.966622   -0.654012 -1.236724      0.327438   \n",
       "...        ...            ...       ...         ...       ...           ...   \n",
       "7038  0.990532      -0.439916  1.034530    1.529024 -0.340876      0.327438   \n",
       "7039 -1.009559      -0.439916  1.034530    1.529024  1.613701      0.327438   \n",
       "7040 -1.009559      -0.439916  1.034530    1.529024 -0.870241     -3.054010   \n",
       "7041  0.990532       2.273159  1.034530   -0.654012 -1.155283      0.327438   \n",
       "7042  0.990532      -0.439916 -0.966622   -0.654012  1.369379      0.327438   \n",
       "\n",
       "      MultipleLines  InternetService  OnlineSecurity  OnlineBackup  \\\n",
       "0          0.062723        -1.183234       -0.918838      1.242550   \n",
       "1         -0.991588        -1.183234        1.407321     -1.029919   \n",
       "2         -0.991588        -1.183234        1.407321      1.242550   \n",
       "3          0.062723        -1.183234        1.407321     -1.029919   \n",
       "4         -0.991588         0.172250       -0.918838     -1.029919   \n",
       "...             ...              ...             ...           ...   \n",
       "7038       1.117034        -1.183234        1.407321     -1.029919   \n",
       "7039       1.117034         0.172250       -0.918838      1.242550   \n",
       "7040       0.062723        -1.183234        1.407321     -1.029919   \n",
       "7041       1.117034         0.172250       -0.918838     -1.029919   \n",
       "7042      -0.991588         0.172250        1.407321     -1.029919   \n",
       "\n",
       "      DeviceProtection  TechSupport  StreamingTV  StreamingMovies  Contract  \\\n",
       "0            -1.027910    -0.925262    -1.113495        -1.121405 -0.828207   \n",
       "1             1.245111    -0.925262    -1.113495        -1.121405  0.371271   \n",
       "2            -1.027910    -0.925262    -1.113495        -1.121405 -0.828207   \n",
       "3             1.245111     1.396299    -1.113495        -1.121405  0.371271   \n",
       "4            -1.027910    -0.925262    -1.113495        -1.121405 -0.828207   \n",
       "...                ...          ...          ...              ...       ...   \n",
       "7038          1.245111     1.396299     1.146547         1.138411  0.371271   \n",
       "7039          1.245111    -0.925262     1.146547         1.138411  0.371271   \n",
       "7040         -1.027910    -0.925262    -1.113495        -1.121405 -0.828207   \n",
       "7041         -1.027910    -0.925262    -1.113495        -1.121405 -0.828207   \n",
       "7042          1.245111     1.396299     1.146547         1.138411  1.570749   \n",
       "\n",
       "      PaperlessBilling  PaymentMethod  MonthlyCharges  TotalCharges  \n",
       "0             0.829798       0.398558       -1.160323     -0.398608  \n",
       "1            -1.205113       1.334863       -0.259629     -0.948762  \n",
       "2             0.829798       1.334863       -0.362660     -1.641883  \n",
       "3            -1.205113      -1.474052       -0.746535     -0.983710  \n",
       "4             0.829798       0.398558        0.197365     -1.235224  \n",
       "...                ...            ...             ...           ...  \n",
       "7038          0.829798       1.334863        0.665992     -0.879397  \n",
       "7039          0.829798      -0.537747        1.277533      1.292099  \n",
       "7040          0.829798       0.398558       -1.168632     -0.139680  \n",
       "7041          0.829798       1.334863        0.320338     -0.316534  \n",
       "7042          0.829798      -1.474052        1.358961      1.138013  \n",
       "\n",
       "[7043 rows x 19 columns]"
      ]
     },
     "execution_count": 94,
     "metadata": {},
     "output_type": "execute_result"
    }
   ],
   "source": [
    "#Standardization of Data\n",
    "from sklearn.preprocessing import StandardScaler\n",
    "scaler= StandardScaler()\n",
    "scaledX= scaler.fit_transform(x)\n",
    "new_x= pd.DataFrame(data=scaledX, columns= x.columns)\n",
    "x=new_x\n",
    "x"
   ]
  },
  {
   "cell_type": "code",
   "execution_count": 95,
   "metadata": {},
   "outputs": [],
   "source": [
    "#Machine Learning\n",
    "\n",
    "from sklearn.linear_model import LogisticRegression\n",
    "from sklearn.naive_bayes import GaussianNB\n",
    "from sklearn.svm import SVC\n",
    "from sklearn.neighbors import KNeighborsClassifier\n",
    "from sklearn.tree import DecisionTreeClassifier\n",
    "\n",
    "from sklearn.ensemble import RandomForestClassifier\n",
    "from sklearn.ensemble import AdaBoostClassifier\n",
    "from xgboost import XGBClassifier\n",
    "\n",
    "from sklearn.metrics import accuracy_score, confusion_matrix, classification_report\n",
    "from sklearn.model_selection import train_test_split\n",
    "\n",
    "import joblib\n",
    "import warnings\n",
    "warnings.filterwarnings('ignore')"
   ]
  },
  {
   "cell_type": "code",
   "execution_count": 96,
   "metadata": {},
   "outputs": [
    {
     "name": "stdout",
     "output_type": "stream",
     "text": [
      "0.8239469947941316\n",
      "24\n"
     ]
    }
   ],
   "source": [
    "#Finding Best Random State\n",
    "maxACCU=0\n",
    "maxRS=0\n",
    "for i in range(1,1000):\n",
    "    x_train, x_test, y_train, y_test= train_test_split(x,y, test_size=.3, random_state=i)\n",
    "    lg= LogisticRegression()\n",
    "    lg.fit(x_train, y_train)\n",
    "    pred_lg= lg.predict(x_test)\n",
    "    acc= accuracy_score(y_test, pred_lg)\n",
    "    if acc>maxACCU:\n",
    "        maxACCU=acc\n",
    "        maxRS= i\n",
    "print(maxACCU)\n",
    "print(maxRS)"
   ]
  },
  {
   "cell_type": "code",
   "execution_count": 97,
   "metadata": {},
   "outputs": [],
   "source": [
    "x_train,x_test,y_train,y_test=train_test_split(x,y, test_size=.3, random_state=24)"
   ]
  },
  {
   "cell_type": "code",
   "execution_count": 98,
   "metadata": {},
   "outputs": [
    {
     "data": {
      "text/plain": [
       "(4930, 19)"
      ]
     },
     "execution_count": 98,
     "metadata": {},
     "output_type": "execute_result"
    }
   ],
   "source": [
    "x_train.shape"
   ]
  },
  {
   "cell_type": "code",
   "execution_count": 99,
   "metadata": {},
   "outputs": [
    {
     "data": {
      "text/plain": [
       "(2113, 19)"
      ]
     },
     "execution_count": 99,
     "metadata": {},
     "output_type": "execute_result"
    }
   ],
   "source": [
    "x_test.shape"
   ]
  },
  {
   "cell_type": "code",
   "execution_count": 100,
   "metadata": {},
   "outputs": [
    {
     "name": "stdout",
     "output_type": "stream",
     "text": [
      "LogisticRegression() Acuracy score -\n",
      "0.8239469947941316\n",
      "\n",
      "GaussianNB() Acuracy score -\n",
      "0.7600567912920019\n",
      "\n",
      "SVC() Acuracy score -\n",
      "0.8154283009938476\n",
      "\n",
      "KNeighborsClassifier() Acuracy score -\n",
      "0.7723615712257453\n",
      "\n",
      "DecisionTreeClassifier() Acuracy score -\n",
      "0.7269285376242309\n",
      "\n",
      "RandomForestClassifier() Acuracy score -\n",
      "0.8106956933270232\n",
      "\n",
      "AdaBoostClassifier() Acuracy score -\n",
      "0.8196876478939896\n",
      "\n",
      "[22:40:51] WARNING: C:/Users/Administrator/workspace/xgboost-win64_release_1.3.0/src/learner.cc:1061: Starting in XGBoost 1.3.0, the default evaluation metric used with the objective 'binary:logistic' was changed from 'error' to 'logloss'. Explicitly set eval_metric if you'd like to restore the old behavior.\n",
      "XGBClassifier(base_score=0.5, booster='gbtree', colsample_bylevel=1,\n",
      "              colsample_bynode=1, colsample_bytree=1, gamma=0, gpu_id=-1,\n",
      "              importance_type='gain', interaction_constraints='',\n",
      "              learning_rate=0.300000012, max_delta_step=0, max_depth=6,\n",
      "              min_child_weight=1, missing=nan, monotone_constraints='()',\n",
      "              n_estimators=100, n_jobs=4, num_parallel_tree=1, random_state=0,\n",
      "              reg_alpha=0, reg_lambda=1, scale_pos_weight=1, subsample=1,\n",
      "              tree_method='exact', validate_parameters=1, verbosity=None) Acuracy score -\n",
      "0.7960246095598675\n",
      "\n"
     ]
    }
   ],
   "source": [
    "lg= LogisticRegression()\n",
    "gnb= GaussianNB()\n",
    "svc= SVC()\n",
    "knn= KNeighborsClassifier()\n",
    "dtc= DecisionTreeClassifier()\n",
    "rf= RandomForestClassifier()\n",
    "ad= AdaBoostClassifier()\n",
    "xgb= XGBClassifier()\n",
    "\n",
    "models= [lg, gnb, svc, knn, dtc, rf,ad, xgb ]\n",
    "\n",
    "for m in models:\n",
    "    m.fit(x_train, y_train)\n",
    "    predict= m.predict(x_test)\n",
    "    print(m, 'Acuracy score -')\n",
    "    print(accuracy_score(y_test, predict))\n",
    "    print()"
   ]
  },
  {
   "cell_type": "code",
   "execution_count": 101,
   "metadata": {},
   "outputs": [
    {
     "name": "stdout",
     "output_type": "stream",
     "text": [
      "CV score of  LogisticRegression() 0.8033525348409574\n",
      "\n",
      "\n",
      "CV score of  GaussianNB() 0.755501867055939\n",
      "\n",
      "\n",
      "CV score of  SVC() 0.7976728337312085\n",
      "\n",
      "\n",
      "CV score of  KNeighborsClassifier() 0.7511003734111878\n",
      "\n",
      "\n",
      "CV score of  DecisionTreeClassifier() 0.7248326504935803\n",
      "\n",
      "\n",
      "CV score of  RandomForestClassifier() 0.7969628080843926\n",
      "\n",
      "\n",
      "CV score of  AdaBoostClassifier() 0.8026412994386736\n",
      "\n",
      "\n",
      "[22:41:07] WARNING: C:/Users/Administrator/workspace/xgboost-win64_release_1.3.0/src/learner.cc:1061: Starting in XGBoost 1.3.0, the default evaluation metric used with the objective 'binary:logistic' was changed from 'error' to 'logloss'. Explicitly set eval_metric if you'd like to restore the old behavior.\n",
      "[22:41:08] WARNING: C:/Users/Administrator/workspace/xgboost-win64_release_1.3.0/src/learner.cc:1061: Starting in XGBoost 1.3.0, the default evaluation metric used with the objective 'binary:logistic' was changed from 'error' to 'logloss'. Explicitly set eval_metric if you'd like to restore the old behavior.\n",
      "[22:41:09] WARNING: C:/Users/Administrator/workspace/xgboost-win64_release_1.3.0/src/learner.cc:1061: Starting in XGBoost 1.3.0, the default evaluation metric used with the objective 'binary:logistic' was changed from 'error' to 'logloss'. Explicitly set eval_metric if you'd like to restore the old behavior.\n",
      "[22:41:09] WARNING: C:/Users/Administrator/workspace/xgboost-win64_release_1.3.0/src/learner.cc:1061: Starting in XGBoost 1.3.0, the default evaluation metric used with the objective 'binary:logistic' was changed from 'error' to 'logloss'. Explicitly set eval_metric if you'd like to restore the old behavior.\n",
      "[22:41:10] WARNING: C:/Users/Administrator/workspace/xgboost-win64_release_1.3.0/src/learner.cc:1061: Starting in XGBoost 1.3.0, the default evaluation metric used with the objective 'binary:logistic' was changed from 'error' to 'logloss'. Explicitly set eval_metric if you'd like to restore the old behavior.\n",
      "CV score of  XGBClassifier(base_score=0.5, booster='gbtree', colsample_bylevel=1,\n",
      "              colsample_bynode=1, colsample_bytree=1, gamma=0, gpu_id=-1,\n",
      "              importance_type='gain', interaction_constraints='',\n",
      "              learning_rate=0.300000012, max_delta_step=0, max_depth=6,\n",
      "              min_child_weight=1, missing=nan, monotone_constraints='()',\n",
      "              n_estimators=100, n_jobs=4, num_parallel_tree=1, random_state=0,\n",
      "              reg_alpha=0, reg_lambda=1, scale_pos_weight=1, subsample=1,\n",
      "              tree_method='exact', validate_parameters=1, verbosity=None) 0.7821962304019614\n",
      "\n",
      "\n"
     ]
    }
   ],
   "source": [
    "#Cross Validation\n",
    "from sklearn.model_selection import cross_val_score\n",
    "\n",
    "for m in models:\n",
    "    scr_m= cross_val_score(m, x,y, cv=5)\n",
    "    print('CV score of ',m,  scr_m.mean())\n",
    "    print()\n",
    "    print()"
   ]
  },
  {
   "cell_type": "markdown",
   "metadata": {},
   "source": [
    "Observations: From above we can observe that for AdaBoostClassifier model there is less difference in accuracy_score and cross validation accuracy_score so we will select AdaBoostClassifier model for final predictions."
   ]
  },
  {
   "cell_type": "code",
   "execution_count": 102,
   "metadata": {},
   "outputs": [
    {
     "data": {
      "text/plain": [
       "{'learning_rate': 0.01, 'n_estimators': 1000}"
      ]
     },
     "execution_count": 102,
     "metadata": {},
     "output_type": "execute_result"
    }
   ],
   "source": [
    "#Hyperparameter Tuning for Best selected model AdaBoostClassifier\n",
    "\n",
    "from sklearn.model_selection import GridSearchCV\n",
    "\n",
    "parameters= {'n_estimators':[500,1000,2000],'learning_rate':[.001,0.01,.1,1]}\n",
    "GSV= GridSearchCV(ad, parameters, cv=5)\n",
    "GSV.fit(x_train, y_train)\n",
    "GSV.best_params_"
   ]
  },
  {
   "cell_type": "code",
   "execution_count": 103,
   "metadata": {},
   "outputs": [
    {
     "name": "stdout",
     "output_type": "stream",
     "text": [
      "accuracy_score -  0.8163748225272125\n",
      "[[1472  113]\n",
      " [ 275  253]]\n",
      "              precision    recall  f1-score   support\n",
      "\n",
      "         0.0       0.84      0.93      0.88      1585\n",
      "         1.0       0.69      0.48      0.57       528\n",
      "\n",
      "    accuracy                           0.82      2113\n",
      "   macro avg       0.77      0.70      0.72      2113\n",
      "weighted avg       0.80      0.82      0.80      2113\n",
      "\n"
     ]
    }
   ],
   "source": [
    "GCV_pred= GSV.best_estimator_.predict(x_test)\n",
    "print('accuracy_score - ', accuracy_score(y_test, GCV_pred))\n",
    "print(confusion_matrix(y_test, GCV_pred))\n",
    "print(classification_report(y_test, GCV_pred))"
   ]
  },
  {
   "cell_type": "code",
   "execution_count": 104,
   "metadata": {},
   "outputs": [],
   "source": [
    "# Plotting AUC-ROC curve for best model-  AdaBoostClassifier\n",
    "\n",
    "from sklearn.metrics import roc_curve\n",
    "from sklearn.metrics import roc_auc_score"
   ]
  },
  {
   "cell_type": "code",
   "execution_count": 105,
   "metadata": {},
   "outputs": [
    {
     "data": {
      "text/plain": [
       "array([0.51569452, 0.45078018, 0.50605732, ..., 0.42198371, 0.50562327,\n",
       "       0.47425706])"
      ]
     },
     "execution_count": 105,
     "metadata": {},
     "output_type": "execute_result"
    }
   ],
   "source": [
    "y_pred_prob= GSV.best_estimator_.predict_proba(x_test)[:,1]\n",
    "y_pred_prob"
   ]
  },
  {
   "cell_type": "code",
   "execution_count": 106,
   "metadata": {},
   "outputs": [],
   "source": [
    "fpr, tpr, thresholds= roc_curve(y_test, y_pred_prob)"
   ]
  },
  {
   "cell_type": "code",
   "execution_count": 107,
   "metadata": {},
   "outputs": [
    {
     "data": {
      "text/plain": [
       "array([0.        , 0.        , 0.        , 0.        , 0.        ,\n",
       "       0.        , 0.        , 0.00126183, 0.00189274, 0.00189274,\n",
       "       0.00189274, 0.00189274, 0.00252366, 0.00252366, 0.00252366,\n",
       "       0.00252366, 0.00252366, 0.00378549, 0.00378549, 0.0044164 ,\n",
       "       0.0044164 , 0.0044164 , 0.0044164 , 0.00504732, 0.00504732,\n",
       "       0.00567823, 0.00630915, 0.00694006, 0.00694006, 0.00694006,\n",
       "       0.00694006, 0.00694006, 0.00757098, 0.00757098, 0.00757098,\n",
       "       0.00757098, 0.00820189, 0.00820189, 0.01009464, 0.01009464,\n",
       "       0.01135647, 0.01135647, 0.0126183 , 0.0126183 , 0.0126183 ,\n",
       "       0.0126183 , 0.01324921, 0.01388013, 0.01388013, 0.01514196,\n",
       "       0.01514196, 0.01514196, 0.01766562, 0.01892744, 0.01892744,\n",
       "       0.01955836, 0.02018927, 0.02018927, 0.02082019, 0.02082019,\n",
       "       0.0214511 , 0.0214511 , 0.02271293, 0.02271293, 0.02334385,\n",
       "       0.02334385, 0.02397476, 0.02397476, 0.02397476, 0.02523659,\n",
       "       0.02586751, 0.02586751, 0.02649842, 0.02649842, 0.02712934,\n",
       "       0.02776025, 0.02776025, 0.02839117, 0.02839117, 0.02839117,\n",
       "       0.02902208, 0.02902208, 0.03028391, 0.03217666, 0.03343849,\n",
       "       0.03343849, 0.03343849, 0.0340694 , 0.03533123, 0.03596215,\n",
       "       0.03659306, 0.03659306, 0.03785489, 0.03785489, 0.0384858 ,\n",
       "       0.0384858 , 0.03911672, 0.03911672, 0.03974763, 0.04037855,\n",
       "       0.04100946, 0.04100946, 0.04164038, 0.04164038, 0.04164038,\n",
       "       0.04164038, 0.04227129, 0.04227129, 0.04353312, 0.04416404,\n",
       "       0.04479495, 0.04479495, 0.0466877 , 0.04731861, 0.04731861,\n",
       "       0.04794953, 0.04858044, 0.04921136, 0.04921136, 0.04984227,\n",
       "       0.0511041 , 0.05173502, 0.05236593, 0.05236593, 0.05236593,\n",
       "       0.05299685, 0.05488959, 0.0555205 , 0.0555205 , 0.05615142,\n",
       "       0.05615142, 0.05678233, 0.05678233, 0.05741325, 0.05741325,\n",
       "       0.05804416, 0.05867508, 0.05930599, 0.05930599, 0.05930599,\n",
       "       0.05930599, 0.06056782, 0.06119874, 0.06119874, 0.06182965,\n",
       "       0.06182965, 0.06309148, 0.06309148, 0.0637224 , 0.0637224 ,\n",
       "       0.06498423, 0.06498423, 0.06561514, 0.06561514, 0.06687697,\n",
       "       0.06687697, 0.06750789, 0.0681388 , 0.0681388 , 0.06876972,\n",
       "       0.06940063, 0.06940063, 0.07003155, 0.07129338, 0.07129338,\n",
       "       0.07192429, 0.07192429, 0.07444795, 0.07507886, 0.07507886,\n",
       "       0.07507886, 0.07634069, 0.07697161, 0.07823344, 0.07823344,\n",
       "       0.07823344, 0.07949527, 0.08012618, 0.0807571 , 0.0807571 ,\n",
       "       0.08138801, 0.08138801, 0.08201893, 0.08201893, 0.08201893,\n",
       "       0.08201893, 0.08264984, 0.08391167, 0.0851735 , 0.08643533,\n",
       "       0.08643533, 0.08706625, 0.08706625, 0.08895899, 0.08895899,\n",
       "       0.08958991, 0.08958991, 0.09022082, 0.09022082, 0.09085174,\n",
       "       0.09148265, 0.09463722, 0.09526814, 0.09526814, 0.09589905,\n",
       "       0.09716088, 0.09716088, 0.0977918 , 0.0977918 , 0.09842271,\n",
       "       0.09842271, 0.09905363, 0.09905363, 0.10094637, 0.10094637,\n",
       "       0.1022082 , 0.10347003, 0.10347003, 0.10473186, 0.10473186,\n",
       "       0.10536278, 0.10599369, 0.10599369, 0.10662461, 0.10662461,\n",
       "       0.10725552, 0.10788644, 0.10851735, 0.10851735, 0.10977918,\n",
       "       0.11041009, 0.11041009, 0.11104101, 0.11104101, 0.11356467,\n",
       "       0.1148265 , 0.1148265 , 0.11545741, 0.11545741, 0.11798107,\n",
       "       0.11861199, 0.11861199, 0.1192429 , 0.12050473, 0.12050473,\n",
       "       0.12113565, 0.12113565, 0.12302839, 0.12365931, 0.12365931,\n",
       "       0.12492114, 0.12681388, 0.12681388, 0.12744479, 0.12807571,\n",
       "       0.12807571, 0.12870662, 0.13123028, 0.1318612 , 0.1318612 ,\n",
       "       0.13249211, 0.13375394, 0.13438486, 0.13564669, 0.13564669,\n",
       "       0.1362776 , 0.1362776 , 0.13753943, 0.13753943, 0.13817035,\n",
       "       0.13943218, 0.13943218, 0.14069401, 0.14069401, 0.14258675,\n",
       "       0.14258675, 0.14384858, 0.1444795 , 0.14574132, 0.14574132,\n",
       "       0.14637224, 0.14763407, 0.14826498, 0.14952681, 0.14952681,\n",
       "       0.15205047, 0.15205047, 0.15268139, 0.15394322, 0.15709779,\n",
       "       0.15772871, 0.15899054, 0.15962145, 0.16025237, 0.1615142 ,\n",
       "       0.1615142 , 0.16277603, 0.16466877, 0.1659306 , 0.16719243,\n",
       "       0.16782334, 0.16845426, 0.16845426, 0.16908517, 0.16908517,\n",
       "       0.170347  , 0.17097792, 0.17287066, 0.17287066, 0.17413249,\n",
       "       0.17413249, 0.17476341, 0.17476341, 0.17665615, 0.17665615,\n",
       "       0.17791798, 0.17791798, 0.17917981, 0.18044164, 0.18170347,\n",
       "       0.18359621, 0.18485804, 0.18485804, 0.1873817 , 0.1873817 ,\n",
       "       0.18990536, 0.19116719, 0.19179811, 0.19179811, 0.19242902,\n",
       "       0.19242902, 0.19369085, 0.19369085, 0.19432177, 0.1955836 ,\n",
       "       0.1955836 , 0.19621451, 0.19621451, 0.19747634, 0.19747634,\n",
       "       0.19810726, 0.20126183, 0.20126183, 0.20252366, 0.20252366,\n",
       "       0.20504732, 0.20630915, 0.20883281, 0.20946372, 0.21135647,\n",
       "       0.2126183 , 0.21955836, 0.22082019, 0.22460568, 0.22586751,\n",
       "       0.22839117, 0.229653  , 0.23028391, 0.23091483, 0.23217666,\n",
       "       0.23217666, 0.23280757, 0.2340694 , 0.23596215, 0.23722397,\n",
       "       0.23785489, 0.2384858 , 0.24100946, 0.24164038, 0.24164038,\n",
       "       0.24353312, 0.24353312, 0.24479495, 0.24479495, 0.2466877 ,\n",
       "       0.2466877 , 0.24731861, 0.24858044, 0.24984227, 0.2511041 ,\n",
       "       0.25425868, 0.25488959, 0.2555205 , 0.25678233, 0.25678233,\n",
       "       0.25867508, 0.26056782, 0.26119874, 0.26119874, 0.26309148,\n",
       "       0.26309148, 0.26435331, 0.26435331, 0.26561514, 0.26561514,\n",
       "       0.26687697, 0.26876972, 0.26940063, 0.26940063, 0.27192429,\n",
       "       0.27570978, 0.27886435, 0.27886435, 0.28012618, 0.28012618,\n",
       "       0.28138801, 0.28328076, 0.2851735 , 0.28769716, 0.28832808,\n",
       "       0.28895899, 0.29211356, 0.29211356, 0.29400631, 0.29400631,\n",
       "       0.29526814, 0.29526814, 0.29652997, 0.29842271, 0.29905363,\n",
       "       0.30031546, 0.30094637, 0.3022082 , 0.30410095, 0.30536278,\n",
       "       0.30536278, 0.30599369, 0.30725552, 0.31104101, 0.31230284,\n",
       "       0.31293375, 0.32113565, 0.32176656, 0.32555205, 0.32555205,\n",
       "       0.32807571, 0.32870662, 0.33249211, 0.33375394, 0.33438486,\n",
       "       0.33564669, 0.34132492, 0.34195584, 0.34258675, 0.34258675,\n",
       "       0.34321767, 0.34384858, 0.34511041, 0.34511041, 0.34574132,\n",
       "       0.34574132, 0.35078864, 0.35141956, 0.35205047, 0.3533123 ,\n",
       "       0.35457413, 0.35520505, 0.35583596, 0.36088328, 0.36088328,\n",
       "       0.36340694, 0.36340694, 0.36529968, 0.36656151, 0.36782334,\n",
       "       0.36971609, 0.370347  , 0.37160883, 0.37223975, 0.37223975,\n",
       "       0.37413249, 0.37539432, 0.37602524, 0.37665615, 0.37917981,\n",
       "       0.38044164, 0.38044164, 0.38170347, 0.3829653 , 0.38422713,\n",
       "       0.38611987, 0.38611987, 0.3873817 , 0.38927445, 0.38927445,\n",
       "       0.39053628, 0.39053628, 0.39116719, 0.39116719, 0.39305994,\n",
       "       0.39495268, 0.39684543, 0.39873817, 0.40063091, 0.40063091,\n",
       "       0.40252366, 0.4044164 , 0.4044164 , 0.40504732, 0.40694006,\n",
       "       0.41198738, 0.41198738, 0.41324921, 0.41324921, 0.41577287,\n",
       "       0.4170347 , 0.41766562, 0.41892744, 0.42271293, 0.42271293,\n",
       "       0.42397476, 0.42397476, 0.42523659, 0.42586751, 0.42712934,\n",
       "       0.429653  , 0.429653  , 0.43091483, 0.43091483, 0.43154574,\n",
       "       0.43154574, 0.4340694 , 0.43533123, 0.43785489, 0.43911672,\n",
       "       0.44164038, 0.44164038, 0.44542587, 0.4466877 , 0.4466877 ,\n",
       "       0.44794953, 0.44984227, 0.4511041 , 0.45299685, 0.45362776,\n",
       "       0.46056782, 0.46182965, 0.47003155, 0.47066246, 0.47318612,\n",
       "       0.47634069, 0.47886435, 0.47949527, 0.4807571 , 0.48264984,\n",
       "       0.48264984, 0.48454259, 0.48706625, 0.48958991, 0.49148265,\n",
       "       0.49211356, 0.49526814, 0.4977918 , 0.49842271, 0.5022082 ,\n",
       "       0.50410095, 0.50536278, 0.50536278, 0.50725552, 0.50851735,\n",
       "       0.51293375, 0.51419558, 0.5148265 , 0.51608833, 0.51987382,\n",
       "       0.52113565, 0.52365931, 0.52365931, 0.52429022, 0.52807571,\n",
       "       0.52996845, 0.53059937, 0.5318612 , 0.53690852, 0.53817035,\n",
       "       0.54258675, 0.54258675, 0.54321767, 0.54321767, 0.54384858,\n",
       "       0.54574132, 0.54700315, 0.54700315, 0.55205047, 0.55205047,\n",
       "       0.55394322, 0.55520505, 0.55520505, 0.55646688, 0.55899054,\n",
       "       0.55962145, 0.56088328, 0.5615142 , 0.5615142 , 0.56214511,\n",
       "       0.56214511, 0.56466877, 0.56656151, 0.56971609, 0.57097792,\n",
       "       0.57223975, 0.57413249, 0.57413249, 0.57539432, 0.57665615,\n",
       "       0.57665615, 0.5785489 , 0.57917981, 0.57981073, 0.58107256,\n",
       "       0.58422713, 0.58422713, 0.58485804, 0.58611987, 0.58864353,\n",
       "       0.59495268, 0.59747634, 0.60189274, 0.60315457, 0.60378549,\n",
       "       0.60504732, 0.60567823, 0.60757098, 0.60883281, 0.61009464,\n",
       "       0.61514196, 0.61766562, 0.61892744, 0.61955836, 0.62208202,\n",
       "       0.62271293, 0.62460568, 0.62839117, 0.62902208, 0.63028391,\n",
       "       0.63154574, 0.63280757, 0.63343849, 0.63533123, 0.63596215,\n",
       "       0.63722397, 0.6384858 , 0.64164038, 0.64353312, 0.64794953,\n",
       "       0.64984227, 0.6511041 , 0.65425868, 0.6555205 , 0.65615142,\n",
       "       0.65867508, 0.65993691, 0.66119874, 0.66624606, 0.66940063,\n",
       "       0.67003155, 0.67192429, 0.67381703, 0.67444795, 0.67570978,\n",
       "       0.67823344, 0.67949527, 0.6807571 , 0.68264984, 0.68391167,\n",
       "       0.68454259, 0.68580442, 0.68643533, 0.68769716, 0.68832808,\n",
       "       0.68958991, 0.69274448, 0.69526814, 0.69652997, 0.69716088,\n",
       "       0.69905363, 0.70473186, 0.70662461, 0.7148265 , 0.71671924,\n",
       "       0.71861199, 0.72429022, 0.72681388, 0.72807571, 0.72996845,\n",
       "       0.73312303, 0.73501577, 0.7362776 , 0.73943218, 0.74006309,\n",
       "       0.74132492, 0.74132492, 0.7444795 , 0.74637224, 0.74763407,\n",
       "       0.7488959 , 0.75015773, 0.75709779, 0.75835962, 0.76214511,\n",
       "       0.76782334, 0.77602524, 0.77728707, 0.78170347, 0.7829653 ,\n",
       "       0.78359621, 0.79432177, 0.79747634, 0.79873817, 0.8       ,\n",
       "       0.80189274, 0.80189274, 0.80630915, 0.80757098, 0.80946372,\n",
       "       0.81198738, 0.81892744, 0.8214511 , 0.82334385, 0.82586751,\n",
       "       0.82776025, 0.83028391, 0.83217666, 0.8340694 , 0.83659306,\n",
       "       0.83911672, 0.84164038, 0.84227129, 0.84353312, 0.84794953,\n",
       "       0.85173502, 0.8555205 , 0.85678233, 0.85741325, 0.85867508,\n",
       "       0.85930599, 0.8637224 , 0.86498423, 0.86624606, 0.86687697,\n",
       "       0.87381703, 0.88012618, 0.88201893, 0.88643533, 0.89022082,\n",
       "       0.89148265, 0.89652997, 0.8977918 , 0.89968454, 0.90536278,\n",
       "       0.90599369, 0.91041009, 0.91104101, 0.91671924, 0.93564669,\n",
       "       0.9362776 , 0.94069401, 0.94132492, 0.95205047, 0.9533123 ,\n",
       "       0.95520505, 0.95646688, 0.95709779, 0.96025237, 0.96277603,\n",
       "       0.96340694, 0.96719243, 0.970347  , 0.97981073, 0.98170347,\n",
       "       0.98675079, 0.98864353, 0.99242902, 0.99305994, 0.99621451,\n",
       "       0.99684543, 1.        ])"
      ]
     },
     "execution_count": 107,
     "metadata": {},
     "output_type": "execute_result"
    }
   ],
   "source": [
    "fpr"
   ]
  },
  {
   "cell_type": "code",
   "execution_count": 108,
   "metadata": {
    "scrolled": false
   },
   "outputs": [
    {
     "data": {
      "text/plain": [
       "array([0.        , 0.00189394, 0.00378788, 0.00757576, 0.01325758,\n",
       "       0.01704545, 0.01893939, 0.02651515, 0.03409091, 0.04545455,\n",
       "       0.04924242, 0.05492424, 0.05492424, 0.05871212, 0.06060606,\n",
       "       0.06628788, 0.07386364, 0.08901515, 0.09090909, 0.09090909,\n",
       "       0.09469697, 0.09848485, 0.10227273, 0.10606061, 0.11363636,\n",
       "       0.11363636, 0.1155303 , 0.12310606, 0.12689394, 0.13068182,\n",
       "       0.13257576, 0.13636364, 0.13636364, 0.14015152, 0.14393939,\n",
       "       0.15151515, 0.15530303, 0.15719697, 0.15719697, 0.16477273,\n",
       "       0.17045455, 0.17234848, 0.17234848, 0.17613636, 0.18181818,\n",
       "       0.19318182, 0.19318182, 0.1969697 , 0.19886364, 0.20265152,\n",
       "       0.20643939, 0.20833333, 0.21401515, 0.21401515, 0.21780303,\n",
       "       0.22159091, 0.22159091, 0.22537879, 0.22537879, 0.22916667,\n",
       "       0.22916667, 0.23295455, 0.23295455, 0.23484848, 0.23484848,\n",
       "       0.24431818, 0.24621212, 0.25189394, 0.25378788, 0.25378788,\n",
       "       0.25378788, 0.2594697 , 0.2594697 , 0.26325758, 0.26515152,\n",
       "       0.26515152, 0.26704545, 0.26893939, 0.27272727, 0.27840909,\n",
       "       0.28030303, 0.28219697, 0.28219697, 0.28409091, 0.28409091,\n",
       "       0.28787879, 0.29166667, 0.29166667, 0.29166667, 0.29166667,\n",
       "       0.29356061, 0.29734848, 0.3030303 , 0.30681818, 0.30681818,\n",
       "       0.31439394, 0.31439394, 0.31628788, 0.31628788, 0.32007576,\n",
       "       0.3219697 , 0.32386364, 0.32386364, 0.32575758, 0.33143939,\n",
       "       0.33333333, 0.33333333, 0.34090909, 0.34659091, 0.34659091,\n",
       "       0.35227273, 0.35606061, 0.35795455, 0.35795455, 0.36174242,\n",
       "       0.36174242, 0.36363636, 0.36363636, 0.3655303 , 0.3655303 ,\n",
       "       0.3655303 , 0.3655303 , 0.36931818, 0.37310606, 0.375     ,\n",
       "       0.37689394, 0.37689394, 0.38068182, 0.38636364, 0.38636364,\n",
       "       0.38825758, 0.38825758, 0.39015152, 0.39772727, 0.40340909,\n",
       "       0.40909091, 0.41287879, 0.41287879, 0.41477273, 0.41856061,\n",
       "       0.42045455, 0.42234848, 0.42234848, 0.4280303 , 0.4280303 ,\n",
       "       0.42992424, 0.43560606, 0.43939394, 0.43939394, 0.44128788,\n",
       "       0.44886364, 0.45643939, 0.45643939, 0.45833333, 0.45833333,\n",
       "       0.46022727, 0.46590909, 0.46590909, 0.47159091, 0.47159091,\n",
       "       0.47348485, 0.47537879, 0.47727273, 0.47727273, 0.47916667,\n",
       "       0.47916667, 0.48106061, 0.48106061, 0.48295455, 0.48674242,\n",
       "       0.48863636, 0.48863636, 0.4905303 , 0.4905303 , 0.49242424,\n",
       "       0.49621212, 0.49621212, 0.49810606, 0.49810606, 0.5       ,\n",
       "       0.5       , 0.50189394, 0.50189394, 0.50378788, 0.50757576,\n",
       "       0.51136364, 0.51325758, 0.51325758, 0.52272727, 0.52272727,\n",
       "       0.52462121, 0.52462121, 0.52651515, 0.52651515, 0.53030303,\n",
       "       0.53030303, 0.53219697, 0.53219697, 0.53409091, 0.53409091,\n",
       "       0.53598485, 0.53787879, 0.53787879, 0.54166667, 0.54166667,\n",
       "       0.54545455, 0.54734848, 0.54734848, 0.54924242, 0.54924242,\n",
       "       0.55113636, 0.55113636, 0.5530303 , 0.56439394, 0.5719697 ,\n",
       "       0.57575758, 0.57575758, 0.57765152, 0.57765152, 0.57954545,\n",
       "       0.57954545, 0.58143939, 0.58522727, 0.58522727, 0.58901515,\n",
       "       0.59090909, 0.59090909, 0.59280303, 0.59469697, 0.59659091,\n",
       "       0.59659091, 0.59848485, 0.59848485, 0.60037879, 0.60037879,\n",
       "       0.60227273, 0.60416667, 0.60416667, 0.60606061, 0.60984848,\n",
       "       0.61174242, 0.61363636, 0.61363636, 0.61742424, 0.61931818,\n",
       "       0.61931818, 0.62121212, 0.62121212, 0.62310606, 0.625     ,\n",
       "       0.625     , 0.63068182, 0.63257576, 0.63257576, 0.6344697 ,\n",
       "       0.63636364, 0.63636364, 0.63825758, 0.63825758, 0.64204545,\n",
       "       0.64204545, 0.64393939, 0.64583333, 0.64583333, 0.65151515,\n",
       "       0.65151515, 0.65340909, 0.65530303, 0.65719697, 0.65719697,\n",
       "       0.65719697, 0.65909091, 0.65909091, 0.66098485, 0.66098485,\n",
       "       0.66477273, 0.66477273, 0.66477273, 0.66477273, 0.66856061,\n",
       "       0.66856061, 0.67045455, 0.67234848, 0.67234848, 0.67424242,\n",
       "       0.67424242, 0.67613636, 0.6780303 , 0.6780303 , 0.6780303 ,\n",
       "       0.6780303 , 0.6780303 , 0.6780303 , 0.67992424, 0.67992424,\n",
       "       0.68181818, 0.68181818, 0.68181818, 0.68181818, 0.68181818,\n",
       "       0.68371212, 0.68371212, 0.68939394, 0.68939394, 0.69128788,\n",
       "       0.69128788, 0.69318182, 0.69318182, 0.69507576, 0.69507576,\n",
       "       0.6969697 , 0.6969697 , 0.69886364, 0.69886364, 0.70265152,\n",
       "       0.70265152, 0.70643939, 0.70643939, 0.70833333, 0.70833333,\n",
       "       0.70833333, 0.72159091, 0.72348485, 0.72348485, 0.72537879,\n",
       "       0.72537879, 0.72537879, 0.72537879, 0.72727273, 0.72727273,\n",
       "       0.73106061, 0.73106061, 0.73295455, 0.73484848, 0.73484848,\n",
       "       0.73674242, 0.73674242, 0.73863636, 0.73863636, 0.7405303 ,\n",
       "       0.74242424, 0.74242424, 0.74431818, 0.74431818, 0.74810606,\n",
       "       0.74810606, 0.75      , 0.75      , 0.75189394, 0.75189394,\n",
       "       0.75189394, 0.75189394, 0.75189394, 0.7594697 , 0.7594697 ,\n",
       "       0.7594697 , 0.76136364, 0.76136364, 0.76325758, 0.76325758,\n",
       "       0.76704545, 0.76704545, 0.76893939, 0.76893939, 0.76893939,\n",
       "       0.76893939, 0.77083333, 0.77083333, 0.77272727, 0.77462121,\n",
       "       0.77462121, 0.77651515, 0.77651515, 0.78030303, 0.78030303,\n",
       "       0.78787879, 0.78787879, 0.78787879, 0.78787879, 0.79166667,\n",
       "       0.79166667, 0.79545455, 0.79545455, 0.79545455, 0.79734848,\n",
       "       0.79924242, 0.79924242, 0.80113636, 0.8030303 , 0.8030303 ,\n",
       "       0.80492424, 0.80492424, 0.80871212, 0.80871212, 0.8125    ,\n",
       "       0.8125    , 0.81439394, 0.81628788, 0.81818182, 0.81818182,\n",
       "       0.83333333, 0.83333333, 0.83712121, 0.83712121, 0.84090909,\n",
       "       0.84090909, 0.84090909, 0.84090909, 0.84469697, 0.84469697,\n",
       "       0.84659091, 0.84659091, 0.84848485, 0.84848485, 0.85416667,\n",
       "       0.85416667, 0.85606061, 0.85606061, 0.85606061, 0.85606061,\n",
       "       0.85606061, 0.85606061, 0.85606061, 0.85606061, 0.85606061,\n",
       "       0.85795455, 0.85795455, 0.85795455, 0.85795455, 0.85795455,\n",
       "       0.85984848, 0.85984848, 0.86174242, 0.86174242, 0.86363636,\n",
       "       0.86363636, 0.8655303 , 0.8655303 , 0.8655303 , 0.8655303 ,\n",
       "       0.8655303 , 0.8655303 , 0.86742424, 0.86742424, 0.86931818,\n",
       "       0.86931818, 0.87121212, 0.87121212, 0.87310606, 0.87310606,\n",
       "       0.875     , 0.875     , 0.87689394, 0.87689394, 0.87689394,\n",
       "       0.87689394, 0.87878788, 0.87878788, 0.87878788, 0.88068182,\n",
       "       0.88068182, 0.88257576, 0.88257576, 0.8844697 , 0.8844697 ,\n",
       "       0.8844697 , 0.8844697 , 0.8844697 , 0.8844697 , 0.88636364,\n",
       "       0.88636364, 0.88636364, 0.88636364, 0.88825758, 0.88825758,\n",
       "       0.88825758, 0.89204545, 0.89204545, 0.89204545, 0.89204545,\n",
       "       0.89204545, 0.89393939, 0.89393939, 0.89393939, 0.89583333,\n",
       "       0.89583333, 0.89772727, 0.89772727, 0.89962121, 0.89962121,\n",
       "       0.90151515, 0.90151515, 0.90151515, 0.90151515, 0.90340909,\n",
       "       0.90340909, 0.90340909, 0.90530303, 0.90530303, 0.90530303,\n",
       "       0.90530303, 0.90909091, 0.90909091, 0.91098485, 0.91098485,\n",
       "       0.91098485, 0.91098485, 0.91098485, 0.91098485, 0.91287879,\n",
       "       0.91287879, 0.91477273, 0.91477273, 0.91477273, 0.91477273,\n",
       "       0.91477273, 0.91856061, 0.91856061, 0.92045455, 0.92045455,\n",
       "       0.92234848, 0.92234848, 0.92234848, 0.92234848, 0.92234848,\n",
       "       0.92234848, 0.92424242, 0.92424242, 0.92424242, 0.92613636,\n",
       "       0.92613636, 0.92613636, 0.92613636, 0.92613636, 0.9280303 ,\n",
       "       0.9280303 , 0.9280303 , 0.93181818, 0.93181818, 0.93181818,\n",
       "       0.93181818, 0.93371212, 0.93371212, 0.93371212, 0.93371212,\n",
       "       0.93560606, 0.93560606, 0.93560606, 0.93560606, 0.93560606,\n",
       "       0.9375    , 0.9375    , 0.9375    , 0.94128788, 0.94128788,\n",
       "       0.94128788, 0.94128788, 0.94318182, 0.94318182, 0.94318182,\n",
       "       0.94318182, 0.94318182, 0.94318182, 0.94318182, 0.94318182,\n",
       "       0.94318182, 0.94318182, 0.94507576, 0.9469697 , 0.9469697 ,\n",
       "       0.9469697 , 0.9469697 , 0.9469697 , 0.9469697 , 0.9469697 ,\n",
       "       0.9469697 , 0.94886364, 0.94886364, 0.95075758, 0.95075758,\n",
       "       0.95075758, 0.95075758, 0.95265152, 0.95265152, 0.95454545,\n",
       "       0.95454545, 0.95454545, 0.96212121, 0.96212121, 0.96401515,\n",
       "       0.96401515, 0.96401515, 0.96401515, 0.96590909, 0.96590909,\n",
       "       0.96780303, 0.96969697, 0.96969697, 0.96969697, 0.96969697,\n",
       "       0.96969697, 0.96969697, 0.97159091, 0.97159091, 0.97159091,\n",
       "       0.97348485, 0.97348485, 0.97537879, 0.97537879, 0.97537879,\n",
       "       0.97537879, 0.97727273, 0.97727273, 0.97727273, 0.97727273,\n",
       "       0.97727273, 0.97727273, 0.97727273, 0.97727273, 0.97727273,\n",
       "       0.97727273, 0.97727273, 0.97727273, 0.97727273, 0.97727273,\n",
       "       0.97727273, 0.97727273, 0.97727273, 0.97916667, 0.97916667,\n",
       "       0.98295455, 0.98295455, 0.98295455, 0.98295455, 0.98295455,\n",
       "       0.98295455, 0.98295455, 0.98295455, 0.98295455, 0.98295455,\n",
       "       0.98295455, 0.98295455, 0.98484848, 0.98484848, 0.98484848,\n",
       "       0.98484848, 0.98674242, 0.98674242, 0.98674242, 0.98674242,\n",
       "       0.98674242, 0.98674242, 0.98674242, 0.98674242, 0.98674242,\n",
       "       0.98674242, 0.98674242, 0.98674242, 0.98863636, 0.98863636,\n",
       "       0.98863636, 0.98863636, 0.98863636, 0.98863636, 0.98863636,\n",
       "       0.98863636, 0.9905303 , 0.9905303 , 0.9905303 , 0.9905303 ,\n",
       "       0.9905303 , 0.9905303 , 0.99242424, 0.99242424, 0.99242424,\n",
       "       0.99242424, 0.99242424, 0.99242424, 0.99242424, 0.99242424,\n",
       "       0.99242424, 0.99242424, 0.99242424, 0.99242424, 0.99242424,\n",
       "       0.99242424, 0.99242424, 0.99242424, 0.99242424, 0.99242424,\n",
       "       0.99242424, 0.99431818, 0.99431818, 0.99431818, 0.99431818,\n",
       "       0.99431818, 0.99431818, 0.99431818, 0.99431818, 0.99431818,\n",
       "       0.99431818, 0.99431818, 0.99431818, 0.99431818, 0.99431818,\n",
       "       0.99431818, 0.99621212, 0.99621212, 0.99621212, 0.99621212,\n",
       "       0.99621212, 0.99810606, 0.99810606, 0.99810606, 0.99810606,\n",
       "       0.99810606, 0.99810606, 0.99810606, 0.99810606, 0.99810606,\n",
       "       0.99810606, 0.99810606, 0.99810606, 0.99810606, 0.99810606,\n",
       "       0.99810606, 0.99810606, 0.99810606, 0.99810606, 0.99810606,\n",
       "       0.99810606, 0.99810606, 0.99810606, 0.99810606, 0.99810606,\n",
       "       0.99810606, 0.99810606, 0.99810606, 0.99810606, 0.99810606,\n",
       "       0.99810606, 0.99810606, 0.99810606, 0.99810606, 0.99810606,\n",
       "       0.99810606, 0.99810606, 0.99810606, 0.99810606, 0.99810606,\n",
       "       0.99810606, 1.        , 1.        , 1.        , 1.        ,\n",
       "       1.        , 1.        , 1.        , 1.        , 1.        ,\n",
       "       1.        , 1.        , 1.        , 1.        , 1.        ,\n",
       "       1.        , 1.        , 1.        , 1.        , 1.        ,\n",
       "       1.        , 1.        , 1.        , 1.        , 1.        ,\n",
       "       1.        , 1.        ])"
      ]
     },
     "execution_count": 108,
     "metadata": {},
     "output_type": "execute_result"
    }
   ],
   "source": [
    "tpr"
   ]
  },
  {
   "cell_type": "code",
   "execution_count": 109,
   "metadata": {},
   "outputs": [
    {
     "data": {
      "text/plain": [
       "array([1.53972014, 0.53972014, 0.53887658, 0.53758183, 0.53154323,\n",
       "       0.53141987, 0.53087166, 0.52962561, 0.52927663, 0.52669768,\n",
       "       0.5261889 , 0.52575281, 0.5253903 , 0.52539001, 0.5251856 ,\n",
       "       0.52494154, 0.52343828, 0.52279527, 0.52254486, 0.52248104,\n",
       "       0.52225794, 0.52213434, 0.52142628, 0.52129142, 0.52068138,\n",
       "       0.52059236, 0.52033382, 0.52004293, 0.51994861, 0.51969329,\n",
       "       0.51949127, 0.51930516, 0.518735  , 0.51866163, 0.51864545,\n",
       "       0.51715685, 0.51689394, 0.51657941, 0.51657336, 0.51624728,\n",
       "       0.51611876, 0.51599357, 0.5159442 , 0.51591327, 0.51590759,\n",
       "       0.51535075, 0.51534863, 0.51519589, 0.51509788, 0.51494619,\n",
       "       0.51493087, 0.51489269, 0.51486933, 0.51459468, 0.51451186,\n",
       "       0.51443032, 0.51436524, 0.51413918, 0.5141364 , 0.51381368,\n",
       "       0.51344367, 0.51326219, 0.51320134, 0.51306038, 0.51303767,\n",
       "       0.51266328, 0.51255028, 0.51240512, 0.5123522 , 0.51222362,\n",
       "       0.51204756, 0.51179348, 0.51158889, 0.51145316, 0.51145217,\n",
       "       0.51133723, 0.5111739 , 0.51111233, 0.51097963, 0.51060829,\n",
       "       0.51031707, 0.51021221, 0.50975877, 0.50972895, 0.50966867,\n",
       "       0.50935815, 0.50932854, 0.50913441, 0.50900808, 0.50896204,\n",
       "       0.50874793, 0.50852445, 0.5084579 , 0.50820804, 0.50820194,\n",
       "       0.50774697, 0.50771723, 0.50754131, 0.50741766, 0.50729317,\n",
       "       0.50720758, 0.50707487, 0.50698129, 0.5069577 , 0.50685746,\n",
       "       0.50680137, 0.50671118, 0.5065173 , 0.50649659, 0.50621149,\n",
       "       0.50605732, 0.50575506, 0.50562327, 0.50559814, 0.50552893,\n",
       "       0.5054743 , 0.50542824, 0.50536644, 0.50535712, 0.50530395,\n",
       "       0.50526684, 0.50517238, 0.50507001, 0.50492401, 0.50481464,\n",
       "       0.50480683, 0.50432231, 0.50432104, 0.50378912, 0.50378327,\n",
       "       0.50375908, 0.50367347, 0.50356409, 0.50347229, 0.50315294,\n",
       "       0.50297582, 0.50291899, 0.50291808, 0.50290346, 0.50269792,\n",
       "       0.50267725, 0.50254797, 0.50248662, 0.5022765 , 0.50225049,\n",
       "       0.50218898, 0.50216996, 0.50215931, 0.50214493, 0.50208896,\n",
       "       0.50173249, 0.50103077, 0.50102588, 0.50095082, 0.50092225,\n",
       "       0.50090727, 0.50082468, 0.50079954, 0.50053004, 0.50049356,\n",
       "       0.50042286, 0.50039578, 0.50035882, 0.5001439 , 0.50004394,\n",
       "       0.4999666 , 0.49987542, 0.49957405, 0.49952232, 0.49938448,\n",
       "       0.49937301, 0.49935731, 0.49935632, 0.49897545, 0.49889626,\n",
       "       0.49866028, 0.49863544, 0.49862479, 0.49856474, 0.49848113,\n",
       "       0.49847867, 0.49825827, 0.49819069, 0.49807492, 0.49804829,\n",
       "       0.49801671, 0.49789278, 0.49776585, 0.49757931, 0.49738483,\n",
       "       0.4973668 , 0.49729017, 0.49726938, 0.49686128, 0.49681656,\n",
       "       0.49679585, 0.49666496, 0.4966318 , 0.4965744 , 0.4964663 ,\n",
       "       0.49638253, 0.49632872, 0.49627834, 0.4961024 , 0.49598787,\n",
       "       0.49597855, 0.49592245, 0.49588218, 0.49586562, 0.49582188,\n",
       "       0.49574401, 0.49567097, 0.49548393, 0.49542825, 0.4949443 ,\n",
       "       0.4949318 , 0.49488129, 0.49479758, 0.49473734, 0.49454461,\n",
       "       0.49444833, 0.49442341, 0.49437164, 0.49435072, 0.49417775,\n",
       "       0.49404503, 0.49402737, 0.49387522, 0.49386785, 0.49382761,\n",
       "       0.49381255, 0.49380287, 0.49371809, 0.49367241, 0.49325309,\n",
       "       0.49321829, 0.49307543, 0.49296254, 0.49280454, 0.49278096,\n",
       "       0.49275007, 0.49267526, 0.49257721, 0.49242202, 0.49234814,\n",
       "       0.49228932, 0.49227768, 0.49210664, 0.49208084, 0.49197303,\n",
       "       0.49192565, 0.49189429, 0.49178131, 0.4917245 , 0.4917122 ,\n",
       "       0.49166934, 0.49166322, 0.49153064, 0.49132866, 0.49130437,\n",
       "       0.4912552 , 0.4912191 , 0.49120694, 0.4910864 , 0.49087845,\n",
       "       0.49087726, 0.49082237, 0.49064404, 0.49063542, 0.49047936,\n",
       "       0.49029398, 0.4902379 , 0.49014773, 0.49013882, 0.48993319,\n",
       "       0.48987429, 0.48977521, 0.48972551, 0.48967299, 0.48959283,\n",
       "       0.48952539, 0.48951894, 0.48948094, 0.48934501, 0.48925935,\n",
       "       0.48916767, 0.48916523, 0.48906553, 0.48902268, 0.48888873,\n",
       "       0.48881898, 0.48879014, 0.48866683, 0.48862528, 0.48858084,\n",
       "       0.48851953, 0.48832916, 0.48826892, 0.4881914 , 0.48806883,\n",
       "       0.4879976 , 0.487893  , 0.48770346, 0.48768615, 0.48749249,\n",
       "       0.4874428 , 0.48733094, 0.48731047, 0.48730988, 0.48707683,\n",
       "       0.48706467, 0.48688641, 0.48679287, 0.48655065, 0.486514  ,\n",
       "       0.48639986, 0.48638737, 0.48624272, 0.48598653, 0.48594855,\n",
       "       0.48576173, 0.48573085, 0.48569449, 0.48524726, 0.48523477,\n",
       "       0.48500233, 0.48479719, 0.48463281, 0.48446309, 0.48443468,\n",
       "       0.48433107, 0.48414746, 0.48411497, 0.4840501 , 0.48398231,\n",
       "       0.48397642, 0.48386867, 0.48379936, 0.48374208, 0.48362138,\n",
       "       0.48354536, 0.48330341, 0.4832931 , 0.48324895, 0.48304908,\n",
       "       0.48280439, 0.48279944, 0.48248397, 0.48235077, 0.48221172,\n",
       "       0.48219996, 0.48133195, 0.48123498, 0.4811584 , 0.48072634,\n",
       "       0.48068712, 0.48065115, 0.48058485, 0.48052602, 0.48046703,\n",
       "       0.48026451, 0.48020263, 0.48015542, 0.48008624, 0.48008318,\n",
       "       0.48008195, 0.48004474, 0.47945923, 0.47940251, 0.47940026,\n",
       "       0.47927   , 0.47923461, 0.47914571, 0.47866205, 0.47833569,\n",
       "       0.47806473, 0.47804397, 0.47800802, 0.4777785 , 0.47771957,\n",
       "       0.47759539, 0.4775597 , 0.47737729, 0.47734748, 0.47725685,\n",
       "       0.47712293, 0.47691766, 0.47681665, 0.47677334, 0.47658322,\n",
       "       0.47655836, 0.47648548, 0.47633051, 0.47626011, 0.47615106,\n",
       "       0.47611776, 0.47610183, 0.47609956, 0.47593657, 0.47537975,\n",
       "       0.47525898, 0.47477102, 0.47466189, 0.47455369, 0.47448148,\n",
       "       0.47432183, 0.47429982, 0.4742015 , 0.47419322, 0.47416041,\n",
       "       0.47412786, 0.47347138, 0.47337261, 0.47303083, 0.47280513,\n",
       "       0.4726129 , 0.47257662, 0.47231014, 0.47229314, 0.47217682,\n",
       "       0.47211208, 0.47196556, 0.47181083, 0.47158216, 0.47157349,\n",
       "       0.47148804, 0.47123389, 0.47122805, 0.47062869, 0.47056867,\n",
       "       0.47052533, 0.46980813, 0.46974496, 0.46927923, 0.46920687,\n",
       "       0.46903666, 0.46898957, 0.468516  , 0.4684855 , 0.46840857,\n",
       "       0.4683917 , 0.46758153, 0.46745189, 0.46744819, 0.46740915,\n",
       "       0.46727053, 0.46724003, 0.46710787, 0.4670479 , 0.46702808,\n",
       "       0.46688854, 0.46645373, 0.46643303, 0.46641907, 0.46638438,\n",
       "       0.46610738, 0.46596438, 0.46587975, 0.46568611, 0.46555025,\n",
       "       0.46547023, 0.4652655 , 0.4647732 , 0.46471976, 0.46463515,\n",
       "       0.4646228 , 0.46445893, 0.46439288, 0.46438177, 0.46429219,\n",
       "       0.46406352, 0.46385703, 0.46384221, 0.46372236, 0.46332997,\n",
       "       0.46321484, 0.46314881, 0.46306781, 0.46303595, 0.46291615,\n",
       "       0.46245278, 0.46235622, 0.46230139, 0.46222994, 0.46222424,\n",
       "       0.46212547, 0.46208629, 0.46183034, 0.46178479, 0.46163969,\n",
       "       0.46156733, 0.46133385, 0.46124116, 0.4610775 , 0.46096741,\n",
       "       0.46087058, 0.46077751, 0.46058256, 0.46057456, 0.46050532,\n",
       "       0.45960084, 0.45952895, 0.45941261, 0.45938552, 0.45915369,\n",
       "       0.45909007, 0.45894009, 0.4587909 , 0.45821464, 0.4580559 ,\n",
       "       0.45798493, 0.45796111, 0.45772985, 0.45765915, 0.45763191,\n",
       "       0.45730788, 0.45725219, 0.45713647, 0.45704337, 0.45697162,\n",
       "       0.4567266 , 0.45638759, 0.45631477, 0.45576936, 0.45571804,\n",
       "       0.45545775, 0.45537162, 0.45513506, 0.45508131, 0.45505927,\n",
       "       0.45483718, 0.45463576, 0.45447506, 0.45408035, 0.45395768,\n",
       "       0.45306862, 0.45299069, 0.45292632, 0.45272534, 0.4527024 ,\n",
       "       0.45209828, 0.45186751, 0.45135196, 0.45133378, 0.45107068,\n",
       "       0.45106902, 0.45085179, 0.45071872, 0.45054759, 0.4505165 ,\n",
       "       0.45046284, 0.44967547, 0.44967248, 0.44948978, 0.448707  ,\n",
       "       0.44831791, 0.44802732, 0.44800211, 0.44781462, 0.44778493,\n",
       "       0.4469025 , 0.4468924 , 0.44686689, 0.44682744, 0.44608698,\n",
       "       0.44587947, 0.44530609, 0.44525136, 0.44523322, 0.44485123,\n",
       "       0.44482374, 0.4447383 , 0.44457781, 0.44401118, 0.44380518,\n",
       "       0.44312235, 0.44286585, 0.44270226, 0.4426061 , 0.44259101,\n",
       "       0.44247775, 0.4423865 , 0.44233043, 0.44174385, 0.44168521,\n",
       "       0.44164806, 0.44156419, 0.44132849, 0.44123494, 0.44119255,\n",
       "       0.44108122, 0.44105596, 0.44095414, 0.44077349, 0.44073947,\n",
       "       0.44064143, 0.44051055, 0.44006969, 0.44004574, 0.43930556,\n",
       "       0.43922201, 0.43903255, 0.4389941 , 0.43899288, 0.43852757,\n",
       "       0.43848417, 0.43820168, 0.43816465, 0.43812006, 0.43810842,\n",
       "       0.43768939, 0.43764053, 0.43748835, 0.43729623, 0.43705657,\n",
       "       0.43582615, 0.43577392, 0.43478837, 0.43465022, 0.43462982,\n",
       "       0.43462638, 0.43447721, 0.43445263, 0.43423236, 0.43420116,\n",
       "       0.43341391, 0.43315592, 0.43284224, 0.4327809 , 0.43229345,\n",
       "       0.43210185, 0.43184678, 0.43179778, 0.43168963, 0.43168908,\n",
       "       0.4314488 , 0.43115896, 0.4309974 , 0.43073111, 0.43067281,\n",
       "       0.43055248, 0.43033205, 0.43018297, 0.42998275, 0.42996981,\n",
       "       0.4297248 , 0.42968789, 0.42895715, 0.42892259, 0.42885282,\n",
       "       0.42857999, 0.42835892, 0.42834296, 0.42762795, 0.42761741,\n",
       "       0.42760976, 0.42753362, 0.42702415, 0.42698649, 0.42666351,\n",
       "       0.42657163, 0.4263097 , 0.42623728, 0.42581831, 0.42578258,\n",
       "       0.42560446, 0.42541334, 0.42540862, 0.42536998, 0.42514321,\n",
       "       0.42504884, 0.42455996, 0.42439732, 0.4243314 , 0.42421936,\n",
       "       0.42400469, 0.4230316 , 0.42300397, 0.42220869, 0.42219537,\n",
       "       0.42198371, 0.42196115, 0.4213302 , 0.42125312, 0.42085658,\n",
       "       0.42084608, 0.42033625, 0.42021614, 0.42021148, 0.42012151,\n",
       "       0.42003399, 0.42001289, 0.4196446 , 0.41928143, 0.4191532 ,\n",
       "       0.41899319, 0.41879435, 0.41875026, 0.41868739, 0.41824114,\n",
       "       0.4174428 , 0.41724417, 0.41706579, 0.41643863, 0.4164038 ,\n",
       "       0.41627897, 0.41620531, 0.4155    , 0.41544695, 0.41505305,\n",
       "       0.41446239, 0.4144255 , 0.41362975, 0.41360637, 0.41317686,\n",
       "       0.41300692, 0.41167652, 0.41141575, 0.41093493, 0.41069696,\n",
       "       0.41066991, 0.40982963, 0.40966295, 0.409189  , 0.40885363,\n",
       "       0.40837447, 0.40829176, 0.40782955, 0.40764511, 0.40619454,\n",
       "       0.40583953, 0.40513166, 0.40480934, 0.40472685, 0.40453007,\n",
       "       0.40449722, 0.40382216, 0.40364264, 0.40360462, 0.40356014,\n",
       "       0.40315188, 0.40279363, 0.40278899, 0.40086692, 0.40034745,\n",
       "       0.40024405, 0.40015136, 0.39975925, 0.39937745, 0.39932183,\n",
       "       0.39914709, 0.39912592, 0.3990438 , 0.39832604, 0.39814333,\n",
       "       0.39792679, 0.3973152 , 0.39723103, 0.39711962, 0.39675561,\n",
       "       0.39657745, 0.39572023, 0.39504148, 0.394698  , 0.39468512,\n",
       "       0.39371984, 0.39366449, 0.39268656, 0.39166775, 0.39008012,\n",
       "       0.38815061, 0.38696322, 0.38356078, 0.38260551, 0.38255074,\n",
       "       0.38158304, 0.38057499])"
      ]
     },
     "execution_count": 109,
     "metadata": {},
     "output_type": "execute_result"
    }
   ],
   "source": [
    "thresholds"
   ]
  },
  {
   "cell_type": "code",
   "execution_count": 110,
   "metadata": {},
   "outputs": [
    {
     "data": {
      "image/png": "[encoded data removed]",
      "text/plain": [
       "<Figure size 432x288 with 1 Axes>"
      ]
     },
     "metadata": {
      "needs_background": "light"
     },
     "output_type": "display_data"
    }
   ],
   "source": [
    "plt.plot([0,1], [0,1], 'k--')\n",
    "plt.plot(fpr, tpr, label= 'AdaBoostClassifier')\n",
    "plt.xlabel('FPR')\n",
    "plt.ylabel('TPR')\n",
    "plt.title('AdaBoostClassifier')\n",
    "plt.show()"
   ]
  },
  {
   "cell_type": "markdown",
   "metadata": {},
   "source": [
    "Observations: We can observe that A plot of the ROC Curve confirms the AUC interpretation of a best model for most probability thresholds."
   ]
  },
  {
   "cell_type": "code",
   "execution_count": 111,
   "metadata": {},
   "outputs": [
    {
     "name": "stdout",
     "output_type": "stream",
     "text": [
      "0.7039366456361725\n"
     ]
    }
   ],
   "source": [
    "print(roc_auc_score(y_test, GSV.best_estimator_.predict(x_test)))"
   ]
  },
  {
   "cell_type": "code",
   "execution_count": 112,
   "metadata": {},
   "outputs": [
    {
     "data": {
      "text/plain": [
       "['Customer_Churn_Analysis_best_ad_model.obj']"
      ]
     },
     "execution_count": 112,
     "metadata": {},
     "output_type": "execute_result"
    }
   ],
   "source": [
    "#Saving the Model\n",
    "import joblib\n",
    "\n",
    "joblib.dump(GSV.best_estimator_, 'Customer_Churn_Analysis_best_ad_model.obj')"
   ]
  },
  {
   "cell_type": "markdown",
   "metadata": {},
   "source": [
    "Conclusion: For Analysis of Customer_Churn_Analysis project we have selected AdaBoostClassifier model which having accuracy 82%."
   ]
  },
  {
   "cell_type": "code",
   "execution_count": null,
   "metadata": {},
   "outputs": [],
   "source": []
  }
 ],
 "metadata": {
  "kernelspec": {
   "display_name": "Python 3",
   "language": "python",
   "name": "python3"
  },
  "language_info": {
   "codemirror_mode": {
    "name": "ipython",
    "version": 3
   },
   "file_extension": ".py",
   "mimetype": "text/x-python",
   "name": "python",
   "nbconvert_exporter": "python",
   "pygments_lexer": "ipython3",
   "version": "3.8.3"
  }
 },
 "nbformat": 4,
 "nbformat_minor": 4
}
