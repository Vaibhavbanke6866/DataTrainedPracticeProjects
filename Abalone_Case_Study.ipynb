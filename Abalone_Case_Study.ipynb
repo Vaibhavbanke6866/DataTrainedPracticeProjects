{
 "cells": [
  {
   "cell_type": "markdown",
   "metadata": {},
   "source": [
    "# Project Name: Abalone Case Study"
   ]
  },
  {
   "cell_type": "markdown",
   "metadata": {},
   "source": [
    "About Project:  The age of abalone is determined by cutting the shell through the cone, staining it, and counting the number of rings through a microscope. Predicting the rings of each abalone which will lead us to the age of that abalone. "
   ]
  },
  {
   "cell_type": "code",
   "execution_count": 132,
   "metadata": {},
   "outputs": [],
   "source": [
    "# Import Libraries\n",
    "\n",
    "import pandas as pd\n",
    "import numpy as np\n",
    "import seaborn as sns\n",
    "import matplotlib.pyplot as plt\n",
    "import scipy.stats as sts"
   ]
  },
  {
   "cell_type": "code",
   "execution_count": 133,
   "metadata": {},
   "outputs": [
    {
     "data": {
      "text/html": [
       "<div>\n",
       "<style scoped>\n",
       "    .dataframe tbody tr th:only-of-type {\n",
       "        vertical-align: middle;\n",
       "    }\n",
       "\n",
       "    .dataframe tbody tr th {\n",
       "        vertical-align: top;\n",
       "    }\n",
       "\n",
       "    .dataframe thead th {\n",
       "        text-align: right;\n",
       "    }\n",
       "</style>\n",
       "<table border=\"1\" class=\"dataframe\">\n",
       "  <thead>\n",
       "    <tr style=\"text-align: right;\">\n",
       "      <th></th>\n",
       "      <th>Sex</th>\n",
       "      <th>Length</th>\n",
       "      <th>Diameter</th>\n",
       "      <th>Height</th>\n",
       "      <th>Whole weight</th>\n",
       "      <th>Shucked weight</th>\n",
       "      <th>Viscera weight</th>\n",
       "      <th>Shell weight</th>\n",
       "      <th>Rings</th>\n",
       "    </tr>\n",
       "  </thead>\n",
       "  <tbody>\n",
       "    <tr>\n",
       "      <th>0</th>\n",
       "      <td>M</td>\n",
       "      <td>0.455</td>\n",
       "      <td>0.365</td>\n",
       "      <td>0.095</td>\n",
       "      <td>0.5140</td>\n",
       "      <td>0.2245</td>\n",
       "      <td>0.1010</td>\n",
       "      <td>0.150</td>\n",
       "      <td>15</td>\n",
       "    </tr>\n",
       "    <tr>\n",
       "      <th>1</th>\n",
       "      <td>M</td>\n",
       "      <td>0.350</td>\n",
       "      <td>0.265</td>\n",
       "      <td>0.090</td>\n",
       "      <td>0.2255</td>\n",
       "      <td>0.0995</td>\n",
       "      <td>0.0485</td>\n",
       "      <td>0.070</td>\n",
       "      <td>7</td>\n",
       "    </tr>\n",
       "    <tr>\n",
       "      <th>2</th>\n",
       "      <td>F</td>\n",
       "      <td>0.530</td>\n",
       "      <td>0.420</td>\n",
       "      <td>0.135</td>\n",
       "      <td>0.6770</td>\n",
       "      <td>0.2565</td>\n",
       "      <td>0.1415</td>\n",
       "      <td>0.210</td>\n",
       "      <td>9</td>\n",
       "    </tr>\n",
       "    <tr>\n",
       "      <th>3</th>\n",
       "      <td>M</td>\n",
       "      <td>0.440</td>\n",
       "      <td>0.365</td>\n",
       "      <td>0.125</td>\n",
       "      <td>0.5160</td>\n",
       "      <td>0.2155</td>\n",
       "      <td>0.1140</td>\n",
       "      <td>0.155</td>\n",
       "      <td>10</td>\n",
       "    </tr>\n",
       "    <tr>\n",
       "      <th>4</th>\n",
       "      <td>I</td>\n",
       "      <td>0.330</td>\n",
       "      <td>0.255</td>\n",
       "      <td>0.080</td>\n",
       "      <td>0.2050</td>\n",
       "      <td>0.0895</td>\n",
       "      <td>0.0395</td>\n",
       "      <td>0.055</td>\n",
       "      <td>7</td>\n",
       "    </tr>\n",
       "  </tbody>\n",
       "</table>\n",
       "</div>"
      ],
      "text/plain": [
       "  Sex  Length  Diameter  Height  Whole weight  Shucked weight  Viscera weight  \\\n",
       "0   M   0.455     0.365   0.095        0.5140          0.2245          0.1010   \n",
       "1   M   0.350     0.265   0.090        0.2255          0.0995          0.0485   \n",
       "2   F   0.530     0.420   0.135        0.6770          0.2565          0.1415   \n",
       "3   M   0.440     0.365   0.125        0.5160          0.2155          0.1140   \n",
       "4   I   0.330     0.255   0.080        0.2050          0.0895          0.0395   \n",
       "\n",
       "   Shell weight  Rings  \n",
       "0         0.150     15  \n",
       "1         0.070      7  \n",
       "2         0.210      9  \n",
       "3         0.155     10  \n",
       "4         0.055      7  "
      ]
     },
     "execution_count": 133,
     "metadata": {},
     "output_type": "execute_result"
    }
   ],
   "source": [
    "# Importing Dataset\n",
    "\n",
    "ds= pd.read_csv(\"abalone.csv\")\n",
    "ds.head()"
   ]
  },
  {
   "cell_type": "code",
   "execution_count": 134,
   "metadata": {},
   "outputs": [
    {
     "data": {
      "text/html": [
       "<div>\n",
       "<style scoped>\n",
       "    .dataframe tbody tr th:only-of-type {\n",
       "        vertical-align: middle;\n",
       "    }\n",
       "\n",
       "    .dataframe tbody tr th {\n",
       "        vertical-align: top;\n",
       "    }\n",
       "\n",
       "    .dataframe thead th {\n",
       "        text-align: right;\n",
       "    }\n",
       "</style>\n",
       "<table border=\"1\" class=\"dataframe\">\n",
       "  <thead>\n",
       "    <tr style=\"text-align: right;\">\n",
       "      <th></th>\n",
       "      <th>Sex</th>\n",
       "      <th>Length</th>\n",
       "      <th>Diameter</th>\n",
       "      <th>Height</th>\n",
       "      <th>Whole weight</th>\n",
       "      <th>Shucked weight</th>\n",
       "      <th>Viscera weight</th>\n",
       "      <th>Shell weight</th>\n",
       "      <th>Rings</th>\n",
       "    </tr>\n",
       "  </thead>\n",
       "  <tbody>\n",
       "    <tr>\n",
       "      <th>0</th>\n",
       "      <td>M</td>\n",
       "      <td>0.455</td>\n",
       "      <td>0.365</td>\n",
       "      <td>0.095</td>\n",
       "      <td>0.5140</td>\n",
       "      <td>0.2245</td>\n",
       "      <td>0.1010</td>\n",
       "      <td>0.1500</td>\n",
       "      <td>15</td>\n",
       "    </tr>\n",
       "    <tr>\n",
       "      <th>1</th>\n",
       "      <td>M</td>\n",
       "      <td>0.350</td>\n",
       "      <td>0.265</td>\n",
       "      <td>0.090</td>\n",
       "      <td>0.2255</td>\n",
       "      <td>0.0995</td>\n",
       "      <td>0.0485</td>\n",
       "      <td>0.0700</td>\n",
       "      <td>7</td>\n",
       "    </tr>\n",
       "    <tr>\n",
       "      <th>2</th>\n",
       "      <td>F</td>\n",
       "      <td>0.530</td>\n",
       "      <td>0.420</td>\n",
       "      <td>0.135</td>\n",
       "      <td>0.6770</td>\n",
       "      <td>0.2565</td>\n",
       "      <td>0.1415</td>\n",
       "      <td>0.2100</td>\n",
       "      <td>9</td>\n",
       "    </tr>\n",
       "    <tr>\n",
       "      <th>3</th>\n",
       "      <td>M</td>\n",
       "      <td>0.440</td>\n",
       "      <td>0.365</td>\n",
       "      <td>0.125</td>\n",
       "      <td>0.5160</td>\n",
       "      <td>0.2155</td>\n",
       "      <td>0.1140</td>\n",
       "      <td>0.1550</td>\n",
       "      <td>10</td>\n",
       "    </tr>\n",
       "    <tr>\n",
       "      <th>4</th>\n",
       "      <td>I</td>\n",
       "      <td>0.330</td>\n",
       "      <td>0.255</td>\n",
       "      <td>0.080</td>\n",
       "      <td>0.2050</td>\n",
       "      <td>0.0895</td>\n",
       "      <td>0.0395</td>\n",
       "      <td>0.0550</td>\n",
       "      <td>7</td>\n",
       "    </tr>\n",
       "    <tr>\n",
       "      <th>...</th>\n",
       "      <td>...</td>\n",
       "      <td>...</td>\n",
       "      <td>...</td>\n",
       "      <td>...</td>\n",
       "      <td>...</td>\n",
       "      <td>...</td>\n",
       "      <td>...</td>\n",
       "      <td>...</td>\n",
       "      <td>...</td>\n",
       "    </tr>\n",
       "    <tr>\n",
       "      <th>4172</th>\n",
       "      <td>F</td>\n",
       "      <td>0.565</td>\n",
       "      <td>0.450</td>\n",
       "      <td>0.165</td>\n",
       "      <td>0.8870</td>\n",
       "      <td>0.3700</td>\n",
       "      <td>0.2390</td>\n",
       "      <td>0.2490</td>\n",
       "      <td>11</td>\n",
       "    </tr>\n",
       "    <tr>\n",
       "      <th>4173</th>\n",
       "      <td>M</td>\n",
       "      <td>0.590</td>\n",
       "      <td>0.440</td>\n",
       "      <td>0.135</td>\n",
       "      <td>0.9660</td>\n",
       "      <td>0.4390</td>\n",
       "      <td>0.2145</td>\n",
       "      <td>0.2605</td>\n",
       "      <td>10</td>\n",
       "    </tr>\n",
       "    <tr>\n",
       "      <th>4174</th>\n",
       "      <td>M</td>\n",
       "      <td>0.600</td>\n",
       "      <td>0.475</td>\n",
       "      <td>0.205</td>\n",
       "      <td>1.1760</td>\n",
       "      <td>0.5255</td>\n",
       "      <td>0.2875</td>\n",
       "      <td>0.3080</td>\n",
       "      <td>9</td>\n",
       "    </tr>\n",
       "    <tr>\n",
       "      <th>4175</th>\n",
       "      <td>F</td>\n",
       "      <td>0.625</td>\n",
       "      <td>0.485</td>\n",
       "      <td>0.150</td>\n",
       "      <td>1.0945</td>\n",
       "      <td>0.5310</td>\n",
       "      <td>0.2610</td>\n",
       "      <td>0.2960</td>\n",
       "      <td>10</td>\n",
       "    </tr>\n",
       "    <tr>\n",
       "      <th>4176</th>\n",
       "      <td>M</td>\n",
       "      <td>0.710</td>\n",
       "      <td>0.555</td>\n",
       "      <td>0.195</td>\n",
       "      <td>1.9485</td>\n",
       "      <td>0.9455</td>\n",
       "      <td>0.3765</td>\n",
       "      <td>0.4950</td>\n",
       "      <td>12</td>\n",
       "    </tr>\n",
       "  </tbody>\n",
       "</table>\n",
       "<p>4177 rows × 9 columns</p>\n",
       "</div>"
      ],
      "text/plain": [
       "     Sex  Length  Diameter  Height  Whole weight  Shucked weight  \\\n",
       "0      M   0.455     0.365   0.095        0.5140          0.2245   \n",
       "1      M   0.350     0.265   0.090        0.2255          0.0995   \n",
       "2      F   0.530     0.420   0.135        0.6770          0.2565   \n",
       "3      M   0.440     0.365   0.125        0.5160          0.2155   \n",
       "4      I   0.330     0.255   0.080        0.2050          0.0895   \n",
       "...   ..     ...       ...     ...           ...             ...   \n",
       "4172   F   0.565     0.450   0.165        0.8870          0.3700   \n",
       "4173   M   0.590     0.440   0.135        0.9660          0.4390   \n",
       "4174   M   0.600     0.475   0.205        1.1760          0.5255   \n",
       "4175   F   0.625     0.485   0.150        1.0945          0.5310   \n",
       "4176   M   0.710     0.555   0.195        1.9485          0.9455   \n",
       "\n",
       "      Viscera weight  Shell weight  Rings  \n",
       "0             0.1010        0.1500     15  \n",
       "1             0.0485        0.0700      7  \n",
       "2             0.1415        0.2100      9  \n",
       "3             0.1140        0.1550     10  \n",
       "4             0.0395        0.0550      7  \n",
       "...              ...           ...    ...  \n",
       "4172          0.2390        0.2490     11  \n",
       "4173          0.2145        0.2605     10  \n",
       "4174          0.2875        0.3080      9  \n",
       "4175          0.2610        0.2960     10  \n",
       "4176          0.3765        0.4950     12  \n",
       "\n",
       "[4177 rows x 9 columns]"
      ]
     },
     "execution_count": 134,
     "metadata": {},
     "output_type": "execute_result"
    }
   ],
   "source": [
    "df= pd.DataFrame(data=ds)\n",
    "df"
   ]
  },
  {
   "cell_type": "code",
   "execution_count": 135,
   "metadata": {},
   "outputs": [
    {
     "data": {
      "text/plain": [
       "(4177, 9)"
      ]
     },
     "execution_count": 135,
     "metadata": {},
     "output_type": "execute_result"
    }
   ],
   "source": [
    "df.shape"
   ]
  },
  {
   "cell_type": "code",
   "execution_count": 136,
   "metadata": {},
   "outputs": [
    {
     "name": "stdout",
     "output_type": "stream",
     "text": [
      "<class 'pandas.core.frame.DataFrame'>\n",
      "RangeIndex: 4177 entries, 0 to 4176\n",
      "Data columns (total 9 columns):\n",
      " #   Column          Non-Null Count  Dtype  \n",
      "---  ------          --------------  -----  \n",
      " 0   Sex             4177 non-null   object \n",
      " 1   Length          4177 non-null   float64\n",
      " 2   Diameter        4177 non-null   float64\n",
      " 3   Height          4177 non-null   float64\n",
      " 4   Whole weight    4177 non-null   float64\n",
      " 5   Shucked weight  4177 non-null   float64\n",
      " 6   Viscera weight  4177 non-null   float64\n",
      " 7   Shell weight    4177 non-null   float64\n",
      " 8   Rings           4177 non-null   int64  \n",
      "dtypes: float64(7), int64(1), object(1)\n",
      "memory usage: 293.8+ KB\n"
     ]
    }
   ],
   "source": [
    "df.info()"
   ]
  },
  {
   "cell_type": "code",
   "execution_count": 137,
   "metadata": {},
   "outputs": [
    {
     "data": {
      "text/plain": [
       "Index(['Sex', 'Length', 'Diameter', 'Height', 'Whole weight', 'Shucked weight',\n",
       "       'Viscera weight', 'Shell weight', 'Rings'],\n",
       "      dtype='object')"
      ]
     },
     "execution_count": 137,
     "metadata": {},
     "output_type": "execute_result"
    }
   ],
   "source": [
    "df.columns"
   ]
  },
  {
   "cell_type": "code",
   "execution_count": 138,
   "metadata": {},
   "outputs": [
    {
     "data": {
      "text/html": [
       "<div>\n",
       "<style scoped>\n",
       "    .dataframe tbody tr th:only-of-type {\n",
       "        vertical-align: middle;\n",
       "    }\n",
       "\n",
       "    .dataframe tbody tr th {\n",
       "        vertical-align: top;\n",
       "    }\n",
       "\n",
       "    .dataframe thead th {\n",
       "        text-align: right;\n",
       "    }\n",
       "</style>\n",
       "<table border=\"1\" class=\"dataframe\">\n",
       "  <thead>\n",
       "    <tr style=\"text-align: right;\">\n",
       "      <th></th>\n",
       "      <th>Length</th>\n",
       "      <th>Diameter</th>\n",
       "      <th>Height</th>\n",
       "      <th>Whole weight</th>\n",
       "      <th>Shucked weight</th>\n",
       "      <th>Viscera weight</th>\n",
       "      <th>Shell weight</th>\n",
       "      <th>Rings</th>\n",
       "    </tr>\n",
       "  </thead>\n",
       "  <tbody>\n",
       "    <tr>\n",
       "      <th>count</th>\n",
       "      <td>4177.000000</td>\n",
       "      <td>4177.000000</td>\n",
       "      <td>4177.000000</td>\n",
       "      <td>4177.000000</td>\n",
       "      <td>4177.000000</td>\n",
       "      <td>4177.000000</td>\n",
       "      <td>4177.000000</td>\n",
       "      <td>4177.000000</td>\n",
       "    </tr>\n",
       "    <tr>\n",
       "      <th>mean</th>\n",
       "      <td>0.523992</td>\n",
       "      <td>0.407881</td>\n",
       "      <td>0.139516</td>\n",
       "      <td>0.828742</td>\n",
       "      <td>0.359367</td>\n",
       "      <td>0.180594</td>\n",
       "      <td>0.238831</td>\n",
       "      <td>9.933684</td>\n",
       "    </tr>\n",
       "    <tr>\n",
       "      <th>std</th>\n",
       "      <td>0.120093</td>\n",
       "      <td>0.099240</td>\n",
       "      <td>0.041827</td>\n",
       "      <td>0.490389</td>\n",
       "      <td>0.221963</td>\n",
       "      <td>0.109614</td>\n",
       "      <td>0.139203</td>\n",
       "      <td>3.224169</td>\n",
       "    </tr>\n",
       "    <tr>\n",
       "      <th>min</th>\n",
       "      <td>0.075000</td>\n",
       "      <td>0.055000</td>\n",
       "      <td>0.000000</td>\n",
       "      <td>0.002000</td>\n",
       "      <td>0.001000</td>\n",
       "      <td>0.000500</td>\n",
       "      <td>0.001500</td>\n",
       "      <td>1.000000</td>\n",
       "    </tr>\n",
       "    <tr>\n",
       "      <th>25%</th>\n",
       "      <td>0.450000</td>\n",
       "      <td>0.350000</td>\n",
       "      <td>0.115000</td>\n",
       "      <td>0.441500</td>\n",
       "      <td>0.186000</td>\n",
       "      <td>0.093500</td>\n",
       "      <td>0.130000</td>\n",
       "      <td>8.000000</td>\n",
       "    </tr>\n",
       "    <tr>\n",
       "      <th>50%</th>\n",
       "      <td>0.545000</td>\n",
       "      <td>0.425000</td>\n",
       "      <td>0.140000</td>\n",
       "      <td>0.799500</td>\n",
       "      <td>0.336000</td>\n",
       "      <td>0.171000</td>\n",
       "      <td>0.234000</td>\n",
       "      <td>9.000000</td>\n",
       "    </tr>\n",
       "    <tr>\n",
       "      <th>75%</th>\n",
       "      <td>0.615000</td>\n",
       "      <td>0.480000</td>\n",
       "      <td>0.165000</td>\n",
       "      <td>1.153000</td>\n",
       "      <td>0.502000</td>\n",
       "      <td>0.253000</td>\n",
       "      <td>0.329000</td>\n",
       "      <td>11.000000</td>\n",
       "    </tr>\n",
       "    <tr>\n",
       "      <th>max</th>\n",
       "      <td>0.815000</td>\n",
       "      <td>0.650000</td>\n",
       "      <td>1.130000</td>\n",
       "      <td>2.825500</td>\n",
       "      <td>1.488000</td>\n",
       "      <td>0.760000</td>\n",
       "      <td>1.005000</td>\n",
       "      <td>29.000000</td>\n",
       "    </tr>\n",
       "  </tbody>\n",
       "</table>\n",
       "</div>"
      ],
      "text/plain": [
       "            Length     Diameter       Height  Whole weight  Shucked weight  \\\n",
       "count  4177.000000  4177.000000  4177.000000   4177.000000     4177.000000   \n",
       "mean      0.523992     0.407881     0.139516      0.828742        0.359367   \n",
       "std       0.120093     0.099240     0.041827      0.490389        0.221963   \n",
       "min       0.075000     0.055000     0.000000      0.002000        0.001000   \n",
       "25%       0.450000     0.350000     0.115000      0.441500        0.186000   \n",
       "50%       0.545000     0.425000     0.140000      0.799500        0.336000   \n",
       "75%       0.615000     0.480000     0.165000      1.153000        0.502000   \n",
       "max       0.815000     0.650000     1.130000      2.825500        1.488000   \n",
       "\n",
       "       Viscera weight  Shell weight        Rings  \n",
       "count     4177.000000   4177.000000  4177.000000  \n",
       "mean         0.180594      0.238831     9.933684  \n",
       "std          0.109614      0.139203     3.224169  \n",
       "min          0.000500      0.001500     1.000000  \n",
       "25%          0.093500      0.130000     8.000000  \n",
       "50%          0.171000      0.234000     9.000000  \n",
       "75%          0.253000      0.329000    11.000000  \n",
       "max          0.760000      1.005000    29.000000  "
      ]
     },
     "execution_count": 138,
     "metadata": {},
     "output_type": "execute_result"
    }
   ],
   "source": [
    "df.describe()"
   ]
  },
  {
   "cell_type": "markdown",
   "metadata": {},
   "source": [
    "Conclusions: Difference in 75th percentile and max value is very low for almost all columns so no chance of outliers. Also SD is low so data is less spreaded. Difference in min and max is low so need of standardization of data."
   ]
  },
  {
   "cell_type": "code",
   "execution_count": 139,
   "metadata": {},
   "outputs": [
    {
     "data": {
      "text/plain": [
       "Sex               0\n",
       "Length            0\n",
       "Diameter          0\n",
       "Height            0\n",
       "Whole weight      0\n",
       "Shucked weight    0\n",
       "Viscera weight    0\n",
       "Shell weight      0\n",
       "Rings             0\n",
       "dtype: int64"
      ]
     },
     "execution_count": 139,
     "metadata": {},
     "output_type": "execute_result"
    }
   ],
   "source": [
    "# Checking for Null values\n",
    "df.isnull().sum()"
   ]
  },
  {
   "cell_type": "code",
   "execution_count": 140,
   "metadata": {},
   "outputs": [
    {
     "data": {
      "image/png": "[encoded data removed]",
      "text/plain": [
       "<Figure size 432x288 with 2 Axes>"
      ]
     },
     "metadata": {
      "needs_background": "light"
     },
     "output_type": "display_data"
    }
   ],
   "source": [
    "sns.heatmap(df.isnull())\n",
    "plt.title('Null Values')\n",
    "plt.show()"
   ]
  },
  {
   "cell_type": "markdown",
   "metadata": {},
   "source": [
    "Conclusion: No null values present in Dataset."
   ]
  },
  {
   "cell_type": "code",
   "execution_count": 141,
   "metadata": {},
   "outputs": [
    {
     "data": {
      "image/png": "[encoded data removed]",
      "text/plain": [
       "<Figure size 720x360 with 2 Axes>"
      ]
     },
     "metadata": {
      "needs_background": "light"
     },
     "output_type": "display_data"
    }
   ],
   "source": [
    "# Checking for correlation\n",
    "corr_matrix= df.corr()\n",
    "plt.figure(figsize=(10,5))\n",
    "sns.heatmap(corr_matrix, annot= True, cmap= 'Blues')\n",
    "plt.show()"
   ]
  },
  {
   "cell_type": "markdown",
   "metadata": {},
   "source": [
    "Conclusion: No. of Rings are highly correlated to Shell weight. And almost every attribut has equaly coorelated to no. of rings."
   ]
  },
  {
   "cell_type": "code",
   "execution_count": 142,
   "metadata": {},
   "outputs": [
    {
     "data": {
      "text/plain": [
       "<matplotlib.axes._subplots.AxesSubplot at 0x2d58251ce80>"
      ]
     },
     "execution_count": 142,
     "metadata": {},
     "output_type": "execute_result"
    },
    {
     "data": {
      "image/png": "[encoded data removed]",
      "text/plain": [
       "<Figure size 432x288 with 1 Axes>"
      ]
     },
     "metadata": {
      "needs_background": "light"
     },
     "output_type": "display_data"
    }
   ],
   "source": [
    "# Univariate Analysis\n",
    "\n",
    "sns.countplot(x='Rings', data=df)"
   ]
  },
  {
   "cell_type": "markdown",
   "metadata": {},
   "source": [
    "Conclusions: Maximum No. of rings are distributed in between 5 to 15."
   ]
  },
  {
   "cell_type": "code",
   "execution_count": 143,
   "metadata": {},
   "outputs": [
    {
     "data": {
      "image/png": "[encoded data removed]",
      "text/plain": [
       "<Figure size 1296x864 with 9 Axes>"
      ]
     },
     "metadata": {
      "needs_background": "light"
     },
     "output_type": "display_data"
    }
   ],
   "source": [
    "df.plot(kind= 'box', subplots= True, figsize=(18,12), layout= (3,3))\n",
    "plt.show()"
   ]
  },
  {
   "cell_type": "markdown",
   "metadata": {},
   "source": [
    "Conclusion: Almost every columns are with Outliers."
   ]
  },
  {
   "cell_type": "code",
   "execution_count": 144,
   "metadata": {},
   "outputs": [
    {
     "data": {
      "image/png": "[encoded data removed]",
      "text/plain": [
       "<Figure size 1296x864 with 9 Axes>"
      ]
     },
     "metadata": {
      "needs_background": "light"
     },
     "output_type": "display_data"
    }
   ],
   "source": [
    "df.plot(kind= 'density', subplots= True, figsize=(18,12), layout= (3,3))\n",
    "plt.show()"
   ]
  },
  {
   "cell_type": "markdown",
   "metadata": {},
   "source": [
    "Conclusion: No skewness present in dataset."
   ]
  },
  {
   "cell_type": "code",
   "execution_count": 145,
   "metadata": {},
   "outputs": [
    {
     "data": {
      "text/plain": [
       "(array([  17.,  431., 1648., 1388.,  329.,  228.,  100.,   29.,    4.,\n",
       "           3.]),\n",
       " array([ 1. ,  3.8,  6.6,  9.4, 12.2, 15. , 17.8, 20.6, 23.4, 26.2, 29. ]),\n",
       " <a list of 10 Patch objects>)"
      ]
     },
     "execution_count": 145,
     "metadata": {},
     "output_type": "execute_result"
    },
    {
     "data": {
      "image/png": "[encoded data removed]",
      "text/plain": [
       "<Figure size 432x288 with 1 Axes>"
      ]
     },
     "metadata": {
      "needs_background": "light"
     },
     "output_type": "display_data"
    }
   ],
   "source": [
    "plt.hist(df['Rings'])"
   ]
  },
  {
   "cell_type": "code",
   "execution_count": 146,
   "metadata": {},
   "outputs": [
    {
     "name": "stdout",
     "output_type": "stream",
     "text": [
      "Value Count of Rings Column\n",
      "9     689\n",
      "10    634\n",
      "8     568\n",
      "11    487\n",
      "7     391\n",
      "12    267\n",
      "6     259\n",
      "13    203\n",
      "14    126\n",
      "5     115\n",
      "15    103\n",
      "16     67\n",
      "17     58\n",
      "4      57\n",
      "18     42\n",
      "19     32\n",
      "20     26\n",
      "3      15\n",
      "21     14\n",
      "23      9\n",
      "22      6\n",
      "24      2\n",
      "27      2\n",
      "1       1\n",
      "25      1\n",
      "2       1\n",
      "26      1\n",
      "29      1\n",
      "Name: Rings, dtype: int64\n",
      "\n",
      "Percentage of Rings Column\n",
      "9     0.164951\n",
      "10    0.151784\n",
      "8     0.135983\n",
      "11    0.116591\n",
      "7     0.093608\n",
      "12    0.063921\n",
      "6     0.062006\n",
      "13    0.048599\n",
      "14    0.030165\n",
      "5     0.027532\n",
      "15    0.024659\n",
      "16    0.016040\n",
      "17    0.013886\n",
      "4     0.013646\n",
      "18    0.010055\n",
      "19    0.007661\n",
      "20    0.006225\n",
      "3     0.003591\n",
      "21    0.003352\n",
      "23    0.002155\n",
      "22    0.001436\n",
      "24    0.000479\n",
      "27    0.000479\n",
      "1     0.000239\n",
      "25    0.000239\n",
      "2     0.000239\n",
      "26    0.000239\n",
      "29    0.000239\n",
      "Name: Rings, dtype: float64\n"
     ]
    }
   ],
   "source": [
    "#Target Column Analysis\n",
    "\n",
    "print(\"Value Count of Rings Column\")\n",
    "print(df.Rings.value_counts())\n",
    "print(\"\\nPercentage of Rings Column\")\n",
    "print(df.Rings.value_counts(normalize = True))"
   ]
  },
  {
   "cell_type": "code",
   "execution_count": 147,
   "metadata": {},
   "outputs": [
    {
     "data": {
      "text/plain": [
       "<matplotlib.axes._subplots.AxesSubplot at 0x2d5829df9d0>"
      ]
     },
     "execution_count": 147,
     "metadata": {},
     "output_type": "execute_result"
    },
    {
     "data": {
      "image/png": "[encoded data removed]",
      "text/plain": [
       "<Figure size 432x288 with 1 Axes>"
      ]
     },
     "metadata": {
      "needs_background": "light"
     },
     "output_type": "display_data"
    }
   ],
   "source": [
    "sns.countplot(x='Sex', data = df)"
   ]
  },
  {
   "cell_type": "code",
   "execution_count": 148,
   "metadata": {},
   "outputs": [
    {
     "name": "stdout",
     "output_type": "stream",
     "text": [
      "\n",
      "Sex Count in Percentage\n",
      "M    0.365813\n",
      "I    0.321283\n",
      "F    0.312904\n",
      "Name: Sex, dtype: float64\n",
      "\n",
      "Sex Count in Numbers\n",
      "M    1528\n",
      "I    1342\n",
      "F    1307\n",
      "Name: Sex, dtype: int64\n"
     ]
    }
   ],
   "source": [
    "#Sex Ratio in Abalone\n",
    "print(\"\\nSex Count in Percentage\")\n",
    "print(df.Sex.value_counts(normalize = True))\n",
    "print(\"\\nSex Count in Numbers\")\n",
    "print(df.Sex.value_counts())"
   ]
  },
  {
   "cell_type": "code",
   "execution_count": 149,
   "metadata": {},
   "outputs": [
    {
     "data": {
      "text/plain": [
       "0    16.5\n",
       "1     8.5\n",
       "2    10.5\n",
       "3    11.5\n",
       "4     8.5\n",
       "Name: Age, dtype: float64"
      ]
     },
     "execution_count": 149,
     "metadata": {},
     "output_type": "execute_result"
    }
   ],
   "source": [
    "# Age from Rings Column, Age = Rings + 1.5\n",
    "df['Age'] = df['Rings'] + 1.5\n",
    "df['Age'].head(5)"
   ]
  },
  {
   "cell_type": "code",
   "execution_count": 150,
   "metadata": {},
   "outputs": [
    {
     "data": {
      "text/plain": [
       "<matplotlib.axes._subplots.AxesSubplot at 0x2d582a1e3d0>"
      ]
     },
     "execution_count": 150,
     "metadata": {},
     "output_type": "execute_result"
    },
    {
     "data": {
      "image/png": "[encoded data removed]",
      "text/plain": [
       "<Figure size 1440x504 with 1 Axes>"
      ]
     },
     "metadata": {
      "needs_background": "light"
     },
     "output_type": "display_data"
    }
   ],
   "source": [
    "#Sex and Age Visulization\n",
    "\n",
    "plt.figure(figsize = (20,7))\n",
    "sns.swarmplot(x = 'Sex', y = 'Age', data = df, hue = 'Sex')\n",
    "sns.violinplot(x = 'Sex', y = 'Age', data = df)"
   ]
  },
  {
   "cell_type": "markdown",
   "metadata": {},
   "source": [
    "Conclusion: According to The above Graph\n",
    "1. Male : Majority Between 7.5 to 19\n",
    "2. Female : Majority Between 8 to 19\n",
    "3. Infant : Majority Between 6 to < 10"
   ]
  },
  {
   "cell_type": "code",
   "execution_count": 151,
   "metadata": {},
   "outputs": [
    {
     "data": {
      "text/html": [
       "<div>\n",
       "<style scoped>\n",
       "    .dataframe tbody tr th:only-of-type {\n",
       "        vertical-align: middle;\n",
       "    }\n",
       "\n",
       "    .dataframe tbody tr th {\n",
       "        vertical-align: top;\n",
       "    }\n",
       "\n",
       "    .dataframe thead th {\n",
       "        text-align: right;\n",
       "    }\n",
       "</style>\n",
       "<table border=\"1\" class=\"dataframe\">\n",
       "  <thead>\n",
       "    <tr style=\"text-align: right;\">\n",
       "      <th></th>\n",
       "      <th>Length</th>\n",
       "      <th>Diameter</th>\n",
       "      <th>Height</th>\n",
       "      <th>Whole weight</th>\n",
       "      <th>Shucked weight</th>\n",
       "      <th>Viscera weight</th>\n",
       "      <th>Shell weight</th>\n",
       "      <th>Rings</th>\n",
       "    </tr>\n",
       "  </thead>\n",
       "  <tbody>\n",
       "    <tr>\n",
       "      <th>0</th>\n",
       "      <td>0.455</td>\n",
       "      <td>0.365</td>\n",
       "      <td>0.095</td>\n",
       "      <td>0.5140</td>\n",
       "      <td>0.2245</td>\n",
       "      <td>0.1010</td>\n",
       "      <td>0.1500</td>\n",
       "      <td>15</td>\n",
       "    </tr>\n",
       "    <tr>\n",
       "      <th>1</th>\n",
       "      <td>0.350</td>\n",
       "      <td>0.265</td>\n",
       "      <td>0.090</td>\n",
       "      <td>0.2255</td>\n",
       "      <td>0.0995</td>\n",
       "      <td>0.0485</td>\n",
       "      <td>0.0700</td>\n",
       "      <td>7</td>\n",
       "    </tr>\n",
       "    <tr>\n",
       "      <th>2</th>\n",
       "      <td>0.530</td>\n",
       "      <td>0.420</td>\n",
       "      <td>0.135</td>\n",
       "      <td>0.6770</td>\n",
       "      <td>0.2565</td>\n",
       "      <td>0.1415</td>\n",
       "      <td>0.2100</td>\n",
       "      <td>9</td>\n",
       "    </tr>\n",
       "    <tr>\n",
       "      <th>3</th>\n",
       "      <td>0.440</td>\n",
       "      <td>0.365</td>\n",
       "      <td>0.125</td>\n",
       "      <td>0.5160</td>\n",
       "      <td>0.2155</td>\n",
       "      <td>0.1140</td>\n",
       "      <td>0.1550</td>\n",
       "      <td>10</td>\n",
       "    </tr>\n",
       "    <tr>\n",
       "      <th>4</th>\n",
       "      <td>0.330</td>\n",
       "      <td>0.255</td>\n",
       "      <td>0.080</td>\n",
       "      <td>0.2050</td>\n",
       "      <td>0.0895</td>\n",
       "      <td>0.0395</td>\n",
       "      <td>0.0550</td>\n",
       "      <td>7</td>\n",
       "    </tr>\n",
       "    <tr>\n",
       "      <th>...</th>\n",
       "      <td>...</td>\n",
       "      <td>...</td>\n",
       "      <td>...</td>\n",
       "      <td>...</td>\n",
       "      <td>...</td>\n",
       "      <td>...</td>\n",
       "      <td>...</td>\n",
       "      <td>...</td>\n",
       "    </tr>\n",
       "    <tr>\n",
       "      <th>4172</th>\n",
       "      <td>0.565</td>\n",
       "      <td>0.450</td>\n",
       "      <td>0.165</td>\n",
       "      <td>0.8870</td>\n",
       "      <td>0.3700</td>\n",
       "      <td>0.2390</td>\n",
       "      <td>0.2490</td>\n",
       "      <td>11</td>\n",
       "    </tr>\n",
       "    <tr>\n",
       "      <th>4173</th>\n",
       "      <td>0.590</td>\n",
       "      <td>0.440</td>\n",
       "      <td>0.135</td>\n",
       "      <td>0.9660</td>\n",
       "      <td>0.4390</td>\n",
       "      <td>0.2145</td>\n",
       "      <td>0.2605</td>\n",
       "      <td>10</td>\n",
       "    </tr>\n",
       "    <tr>\n",
       "      <th>4174</th>\n",
       "      <td>0.600</td>\n",
       "      <td>0.475</td>\n",
       "      <td>0.205</td>\n",
       "      <td>1.1760</td>\n",
       "      <td>0.5255</td>\n",
       "      <td>0.2875</td>\n",
       "      <td>0.3080</td>\n",
       "      <td>9</td>\n",
       "    </tr>\n",
       "    <tr>\n",
       "      <th>4175</th>\n",
       "      <td>0.625</td>\n",
       "      <td>0.485</td>\n",
       "      <td>0.150</td>\n",
       "      <td>1.0945</td>\n",
       "      <td>0.5310</td>\n",
       "      <td>0.2610</td>\n",
       "      <td>0.2960</td>\n",
       "      <td>10</td>\n",
       "    </tr>\n",
       "    <tr>\n",
       "      <th>4176</th>\n",
       "      <td>0.710</td>\n",
       "      <td>0.555</td>\n",
       "      <td>0.195</td>\n",
       "      <td>1.9485</td>\n",
       "      <td>0.9455</td>\n",
       "      <td>0.3765</td>\n",
       "      <td>0.4950</td>\n",
       "      <td>12</td>\n",
       "    </tr>\n",
       "  </tbody>\n",
       "</table>\n",
       "<p>4027 rows × 8 columns</p>\n",
       "</div>"
      ],
      "text/plain": [
       "      Length  Diameter  Height  Whole weight  Shucked weight  Viscera weight  \\\n",
       "0      0.455     0.365   0.095        0.5140          0.2245          0.1010   \n",
       "1      0.350     0.265   0.090        0.2255          0.0995          0.0485   \n",
       "2      0.530     0.420   0.135        0.6770          0.2565          0.1415   \n",
       "3      0.440     0.365   0.125        0.5160          0.2155          0.1140   \n",
       "4      0.330     0.255   0.080        0.2050          0.0895          0.0395   \n",
       "...      ...       ...     ...           ...             ...             ...   \n",
       "4172   0.565     0.450   0.165        0.8870          0.3700          0.2390   \n",
       "4173   0.590     0.440   0.135        0.9660          0.4390          0.2145   \n",
       "4174   0.600     0.475   0.205        1.1760          0.5255          0.2875   \n",
       "4175   0.625     0.485   0.150        1.0945          0.5310          0.2610   \n",
       "4176   0.710     0.555   0.195        1.9485          0.9455          0.3765   \n",
       "\n",
       "      Shell weight  Rings  \n",
       "0           0.1500     15  \n",
       "1           0.0700      7  \n",
       "2           0.2100      9  \n",
       "3           0.1550     10  \n",
       "4           0.0550      7  \n",
       "...            ...    ...  \n",
       "4172        0.2490     11  \n",
       "4173        0.2605     10  \n",
       "4174        0.3080      9  \n",
       "4175        0.2960     10  \n",
       "4176        0.4950     12  \n",
       "\n",
       "[4027 rows x 8 columns]"
      ]
     },
     "execution_count": 151,
     "metadata": {},
     "output_type": "execute_result"
    }
   ],
   "source": [
    "# Removing outliers\n",
    "df= df.drop(['Sex', 'Age'], axis=1)\n",
    "\n",
    "from scipy.stats import zscore\n",
    "z= np.abs(zscore(df))\n",
    "threshold= 3\n",
    "df_new= df[(z<3).all(axis=1)]\n",
    "df_new"
   ]
  },
  {
   "cell_type": "code",
   "execution_count": 152,
   "metadata": {},
   "outputs": [
    {
     "data": {
      "text/plain": [
       "(4027, 8)"
      ]
     },
     "execution_count": 152,
     "metadata": {},
     "output_type": "execute_result"
    }
   ],
   "source": [
    "df_new.shape"
   ]
  },
  {
   "cell_type": "code",
   "execution_count": 153,
   "metadata": {},
   "outputs": [
    {
     "data": {
      "text/plain": [
       "(4177, 8)"
      ]
     },
     "execution_count": 153,
     "metadata": {},
     "output_type": "execute_result"
    }
   ],
   "source": [
    "df.shape"
   ]
  },
  {
   "cell_type": "markdown",
   "metadata": {},
   "source": [
    "Conclusion: Almost 150 rows removed due to outliers."
   ]
  },
  {
   "cell_type": "code",
   "execution_count": 154,
   "metadata": {},
   "outputs": [],
   "source": [
    "#Separate feature variables and target variable\n",
    "x= df.drop('Rings', axis=1)\n",
    "y= df['Rings']"
   ]
  },
  {
   "cell_type": "code",
   "execution_count": 155,
   "metadata": {},
   "outputs": [
    {
     "data": {
      "text/html": [
       "<div>\n",
       "<style scoped>\n",
       "    .dataframe tbody tr th:only-of-type {\n",
       "        vertical-align: middle;\n",
       "    }\n",
       "\n",
       "    .dataframe tbody tr th {\n",
       "        vertical-align: top;\n",
       "    }\n",
       "\n",
       "    .dataframe thead th {\n",
       "        text-align: right;\n",
       "    }\n",
       "</style>\n",
       "<table border=\"1\" class=\"dataframe\">\n",
       "  <thead>\n",
       "    <tr style=\"text-align: right;\">\n",
       "      <th></th>\n",
       "      <th>Length</th>\n",
       "      <th>Diameter</th>\n",
       "      <th>Height</th>\n",
       "      <th>Whole weight</th>\n",
       "      <th>Shucked weight</th>\n",
       "      <th>Viscera weight</th>\n",
       "      <th>Shell weight</th>\n",
       "    </tr>\n",
       "  </thead>\n",
       "  <tbody>\n",
       "    <tr>\n",
       "      <th>0</th>\n",
       "      <td>-0.574558</td>\n",
       "      <td>-0.432149</td>\n",
       "      <td>-1.064424</td>\n",
       "      <td>-0.641898</td>\n",
       "      <td>-0.607685</td>\n",
       "      <td>-0.726212</td>\n",
       "      <td>-0.638217</td>\n",
       "    </tr>\n",
       "    <tr>\n",
       "      <th>1</th>\n",
       "      <td>-1.448986</td>\n",
       "      <td>-1.439929</td>\n",
       "      <td>-1.183978</td>\n",
       "      <td>-1.230277</td>\n",
       "      <td>-1.170910</td>\n",
       "      <td>-1.205221</td>\n",
       "      <td>-1.212987</td>\n",
       "    </tr>\n",
       "    <tr>\n",
       "      <th>2</th>\n",
       "      <td>0.050033</td>\n",
       "      <td>0.122130</td>\n",
       "      <td>-0.107991</td>\n",
       "      <td>-0.309469</td>\n",
       "      <td>-0.463500</td>\n",
       "      <td>-0.356690</td>\n",
       "      <td>-0.207139</td>\n",
       "    </tr>\n",
       "    <tr>\n",
       "      <th>3</th>\n",
       "      <td>-0.699476</td>\n",
       "      <td>-0.432149</td>\n",
       "      <td>-0.347099</td>\n",
       "      <td>-0.637819</td>\n",
       "      <td>-0.648238</td>\n",
       "      <td>-0.607600</td>\n",
       "      <td>-0.602294</td>\n",
       "    </tr>\n",
       "    <tr>\n",
       "      <th>4</th>\n",
       "      <td>-1.615544</td>\n",
       "      <td>-1.540707</td>\n",
       "      <td>-1.423087</td>\n",
       "      <td>-1.272086</td>\n",
       "      <td>-1.215968</td>\n",
       "      <td>-1.287337</td>\n",
       "      <td>-1.320757</td>\n",
       "    </tr>\n",
       "    <tr>\n",
       "      <th>...</th>\n",
       "      <td>...</td>\n",
       "      <td>...</td>\n",
       "      <td>...</td>\n",
       "      <td>...</td>\n",
       "      <td>...</td>\n",
       "      <td>...</td>\n",
       "      <td>...</td>\n",
       "    </tr>\n",
       "    <tr>\n",
       "      <th>4172</th>\n",
       "      <td>0.341509</td>\n",
       "      <td>0.424464</td>\n",
       "      <td>0.609334</td>\n",
       "      <td>0.118813</td>\n",
       "      <td>0.047908</td>\n",
       "      <td>0.532900</td>\n",
       "      <td>0.073062</td>\n",
       "    </tr>\n",
       "    <tr>\n",
       "      <th>4173</th>\n",
       "      <td>0.549706</td>\n",
       "      <td>0.323686</td>\n",
       "      <td>-0.107991</td>\n",
       "      <td>0.279929</td>\n",
       "      <td>0.358808</td>\n",
       "      <td>0.309362</td>\n",
       "      <td>0.155685</td>\n",
       "    </tr>\n",
       "    <tr>\n",
       "      <th>4174</th>\n",
       "      <td>0.632985</td>\n",
       "      <td>0.676409</td>\n",
       "      <td>1.565767</td>\n",
       "      <td>0.708212</td>\n",
       "      <td>0.748559</td>\n",
       "      <td>0.975413</td>\n",
       "      <td>0.496955</td>\n",
       "    </tr>\n",
       "    <tr>\n",
       "      <th>4175</th>\n",
       "      <td>0.841182</td>\n",
       "      <td>0.777187</td>\n",
       "      <td>0.250672</td>\n",
       "      <td>0.541998</td>\n",
       "      <td>0.773341</td>\n",
       "      <td>0.733627</td>\n",
       "      <td>0.410739</td>\n",
       "    </tr>\n",
       "    <tr>\n",
       "      <th>4176</th>\n",
       "      <td>1.549052</td>\n",
       "      <td>1.482634</td>\n",
       "      <td>1.326659</td>\n",
       "      <td>2.283681</td>\n",
       "      <td>2.640993</td>\n",
       "      <td>1.787449</td>\n",
       "      <td>1.840481</td>\n",
       "    </tr>\n",
       "  </tbody>\n",
       "</table>\n",
       "<p>4177 rows × 7 columns</p>\n",
       "</div>"
      ],
      "text/plain": [
       "        Length  Diameter    Height  Whole weight  Shucked weight  \\\n",
       "0    -0.574558 -0.432149 -1.064424     -0.641898       -0.607685   \n",
       "1    -1.448986 -1.439929 -1.183978     -1.230277       -1.170910   \n",
       "2     0.050033  0.122130 -0.107991     -0.309469       -0.463500   \n",
       "3    -0.699476 -0.432149 -0.347099     -0.637819       -0.648238   \n",
       "4    -1.615544 -1.540707 -1.423087     -1.272086       -1.215968   \n",
       "...        ...       ...       ...           ...             ...   \n",
       "4172  0.341509  0.424464  0.609334      0.118813        0.047908   \n",
       "4173  0.549706  0.323686 -0.107991      0.279929        0.358808   \n",
       "4174  0.632985  0.676409  1.565767      0.708212        0.748559   \n",
       "4175  0.841182  0.777187  0.250672      0.541998        0.773341   \n",
       "4176  1.549052  1.482634  1.326659      2.283681        2.640993   \n",
       "\n",
       "      Viscera weight  Shell weight  \n",
       "0          -0.726212     -0.638217  \n",
       "1          -1.205221     -1.212987  \n",
       "2          -0.356690     -0.207139  \n",
       "3          -0.607600     -0.602294  \n",
       "4          -1.287337     -1.320757  \n",
       "...              ...           ...  \n",
       "4172        0.532900      0.073062  \n",
       "4173        0.309362      0.155685  \n",
       "4174        0.975413      0.496955  \n",
       "4175        0.733627      0.410739  \n",
       "4176        1.787449      1.840481  \n",
       "\n",
       "[4177 rows x 7 columns]"
      ]
     },
     "execution_count": 155,
     "metadata": {},
     "output_type": "execute_result"
    }
   ],
   "source": [
    "# Normalize feature variables\n",
    "from sklearn.preprocessing import StandardScaler\n",
    "scaler= StandardScaler()\n",
    "scaled_x= scaler.fit_transform(x)\n",
    "new_x= pd.DataFrame(scaled_x, columns=x.columns)\n",
    "x=new_x\n",
    "x"
   ]
  },
  {
   "cell_type": "code",
   "execution_count": 156,
   "metadata": {},
   "outputs": [],
   "source": [
    "#Machine Learning\n",
    "from sklearn.model_selection import train_test_split\n",
    "from sklearn.ensemble import RandomForestClassifier\n",
    "from sklearn.ensemble import AdaBoostClassifier\n",
    "from sklearn.svm import SVC\n",
    "from sklearn.tree import DecisionTreeClassifier\n",
    "from sklearn.neighbors import KNeighborsClassifier\n",
    "from xgboost import XGBClassifier\n",
    "from sklearn.metrics import accuracy_score, confusion_matrix, classification_report\n",
    "import joblib\n",
    "import warnings\n",
    "warnings.filterwarnings('ignore')"
   ]
  },
  {
   "cell_type": "code",
   "execution_count": 157,
   "metadata": {},
   "outputs": [],
   "source": [
    "# Splitting the data\n",
    "\n",
    "x_train, x_test, y_train, y_test = train_test_split(x, y, test_size=.30, random_state=40)"
   ]
  },
  {
   "cell_type": "code",
   "execution_count": 158,
   "metadata": {},
   "outputs": [
    {
     "name": "stdout",
     "output_type": "stream",
     "text": [
      "0.31100478468899523\n",
      "[[  0   0   2   0   0   0   0   0   0   0   0   0   0   0   0   0   0   0\n",
      "    0   0   0   0   0]\n",
      " [  0   0  10   0   0   0   0   0   0   0   0   0   0   0   0   0   0   0\n",
      "    0   0   0   0   0]\n",
      " [  0   0  21  12   4   0   0   0   0   0   0   0   0   0   0   0   0   0\n",
      "    0   0   0   0   0]\n",
      " [  0   0   5  38  23   6   0   0   0   0   0   0   0   0   0   0   0   0\n",
      "    0   0   0   0   0]\n",
      " [  0   0   5  25  31  36  11   1   0   0   0   0   0   0   0   0   0   0\n",
      "    0   0   0   0   0]\n",
      " [  0   0   0   9  22  70  59   9   0   0   0   0   0   0   0   0   0   0\n",
      "    0   0   0   0   0]\n",
      " [  0   0   0   5  14  38 123  33   3   0   0   0   0   0   0   0   0   0\n",
      "    0   0   0   0   0]\n",
      " [  0   0   0   4   5  20  72  66   9   2   0   0   0   0   0   0   0   0\n",
      "    0   0   0   0   0]\n",
      " [  0   0   0   2   1  18  43  44  20   5   1   0   0   0   0   0   0   0\n",
      "    0   0   0   0   0]\n",
      " [  0   0   0   0   2  12  31  23   9  14   3   0   0   0   0   0   0   0\n",
      "    0   0   0   0   0]\n",
      " [  0   0   0   0   0   7  23  21  11   3   5   0   0   0   0   0   0   0\n",
      "    0   0   0   0   0]\n",
      " [  0   0   0   0   0   5  17  15   3   4   4   0   0   0   0   0   0   0\n",
      "    0   0   0   0   0]\n",
      " [  0   0   0   0   0   1  12   9   3   0   2   0   0   0   0   0   0   0\n",
      "    0   0   0   0   0]\n",
      " [  0   0   0   0   1   0   5   8   3   2   3   0   0   2   0   0   0   0\n",
      "    0   0   0   0   0]\n",
      " [  0   0   0   0   0   1   6   6   3   1   0   0   0   0   0   0   0   0\n",
      "    0   0   0   0   0]\n",
      " [  0   0   0   0   0   1   6   5   0   0   1   0   0   0   0   0   0   0\n",
      "    0   0   0   0   0]\n",
      " [  0   0   0   0   0   0   3   7   1   0   1   0   0   0   0   0   0   0\n",
      "    0   0   0   0   0]\n",
      " [  0   0   0   0   0   0   1   4   0   1   1   0   0   0   0   0   0   0\n",
      "    0   0   0   0   0]\n",
      " [  0   0   0   0   0   1   1   2   0   1   0   0   0   0   0   0   0   0\n",
      "    0   0   0   0   0]\n",
      " [  0   0   0   0   0   0   0   0   1   0   1   0   0   0   0   0   0   0\n",
      "    0   0   0   0   0]\n",
      " [  0   0   0   0   0   0   2   2   0   1   0   0   0   0   0   0   0   0\n",
      "    0   0   0   0   0]\n",
      " [  0   0   0   0   0   0   0   1   0   0   0   0   0   0   0   0   0   0\n",
      "    0   0   0   0   0]\n",
      " [  0   0   0   0   0   0   0   0   0   1   1   0   0   0   0   0   0   0\n",
      "    0   0   0   0   0]]\n",
      "              precision    recall  f1-score   support\n",
      "\n",
      "           3       0.00      0.00      0.00         2\n",
      "           4       0.00      0.00      0.00        10\n",
      "           5       0.49      0.57      0.53        37\n",
      "           6       0.40      0.53      0.46        72\n",
      "           7       0.30      0.28      0.29       109\n",
      "           8       0.32      0.41      0.36       169\n",
      "           9       0.30      0.57      0.39       216\n",
      "          10       0.26      0.37      0.30       178\n",
      "          11       0.30      0.15      0.20       134\n",
      "          12       0.40      0.15      0.22        94\n",
      "          13       0.22      0.07      0.11        70\n",
      "          14       0.00      0.00      0.00        48\n",
      "          15       0.00      0.00      0.00        27\n",
      "          16       1.00      0.08      0.15        24\n",
      "          17       0.00      0.00      0.00        17\n",
      "          18       0.00      0.00      0.00        13\n",
      "          19       0.00      0.00      0.00        12\n",
      "          20       0.00      0.00      0.00         7\n",
      "          21       0.00      0.00      0.00         5\n",
      "          22       0.00      0.00      0.00         2\n",
      "          23       0.00      0.00      0.00         5\n",
      "          26       0.00      0.00      0.00         1\n",
      "          27       0.00      0.00      0.00         2\n",
      "\n",
      "    accuracy                           0.31      1254\n",
      "   macro avg       0.17      0.14      0.13      1254\n",
      "weighted avg       0.29      0.31      0.27      1254\n",
      "\n"
     ]
    }
   ],
   "source": [
    "svc= SVC(kernel='rbf')\n",
    "svc.fit(x_test, y_test)\n",
    "svc.score(x_test, y_test)\n",
    "predsvc= svc.predict(x_test)\n",
    "print(accuracy_score(y_test, predsvc))\n",
    "print(confusion_matrix(y_test, predsvc))\n",
    "print(classification_report(y_test, predsvc))"
   ]
  },
  {
   "cell_type": "code",
   "execution_count": 159,
   "metadata": {},
   "outputs": [
    {
     "name": "stdout",
     "output_type": "stream",
     "text": [
      "0.19776714513556617\n",
      "[[ 1  1  0  0  0  0  0  0  0  0  0  0  0  0  0  0  0  0  0  0  0  0  0]\n",
      " [ 4  3  2  1  0  0  0  0  0  0  0  0  0  0  0  0  0  0  0  0  0  0  0]\n",
      " [ 1  8  7 14  2  3  2  0  0  0  0  0  0  0  0  0  0  0  0  0  0  0  0]\n",
      " [ 0  1  8 23 20 12  6  1  0  0  1  0  0  0  0  0  0  0  0  0  0  0  0]\n",
      " [ 0  0  9 19 33 19 13  7  3  4  2  0  0  0  0  0  0  0  0  0  0  0  0]\n",
      " [ 0  0  1 12 24 48 38 20 11  8  1  1  3  2  0  0  0  0  0  0  0  0  0]\n",
      " [ 0  0  0 13 20 43 48 40 19 10  9  4  5  1  1  1  1  1  0  0  0  0  0]\n",
      " [ 0  0  0  3 11 20 40 32 34 11 10  5  2  3  1  3  0  0  2  1  0  0  0]\n",
      " [ 0  0  0  0  5  7 33 27 36  9 10  3  1  1  0  0  1  1  0  0  0  0  0]\n",
      " [ 0  0  0  0  5  7 13 23 18  4  6  5  0  5  2  4  0  0  2  0  0  0  0]\n",
      " [ 0  0  0  1  0  7  9  8 16  7  4  4  2  4  5  1  0  0  0  1  1  0  0]\n",
      " [ 0  0  0  0  2  1  9  5  7  6  5  5  3  2  0  1  0  0  1  0  1  0  0]\n",
      " [ 0  0  0  0  1  1  6  4  3  0  3  2  1  1  2  1  0  2  0  0  0  0  0]\n",
      " [ 0  0  0  0  0  1  1  3  3  3  2  3  0  0  2  2  0  1  2  0  1  0  0]\n",
      " [ 0  0  0  0  0  1  0  4  1  3  2  3  2  0  0  0  0  0  0  0  1  0  0]\n",
      " [ 0  0  0  0  2  0  1  2  3  1  0  1  1  1  0  1  0  0  0  0  0  0  0]\n",
      " [ 0  0  0  0  0  0  0  1  2  1  1  0  2  0  1  0  1  3  0  0  0  0  0]\n",
      " [ 0  0  0  0  0  0  1  1  1  1  1  0  1  0  1  0  0  0  0  0  0  0  0]\n",
      " [ 0  0  0  0  0  0  0  1  0  0  0  0  0  0  2  0  0  2  0  0  0  0  0]\n",
      " [ 0  0  0  0  0  0  0  0  1  0  0  0  0  0  0  1  0  0  0  0  0  0  0]\n",
      " [ 0  0  0  0  0  0  0  0  0  2  1  0  1  0  0  0  0  0  0  0  1  0  0]\n",
      " [ 0  0  0  0  0  0  0  0  0  1  0  0  0  0  0  0  0  0  0  0  0  0  0]\n",
      " [ 0  0  0  0  0  0  0  0  0  0  0  0  0  0  2  0  0  0  0  0  0  0  0]]\n",
      "              precision    recall  f1-score   support\n",
      "\n",
      "           3       0.17      0.50      0.25         2\n",
      "           4       0.23      0.30      0.26        10\n",
      "           5       0.26      0.19      0.22        37\n",
      "           6       0.27      0.32      0.29        72\n",
      "           7       0.26      0.30      0.28       109\n",
      "           8       0.28      0.28      0.28       169\n",
      "           9       0.22      0.22      0.22       216\n",
      "          10       0.18      0.18      0.18       178\n",
      "          11       0.23      0.27      0.25       134\n",
      "          12       0.06      0.04      0.05        94\n",
      "          13       0.07      0.06      0.06        70\n",
      "          14       0.14      0.10      0.12        48\n",
      "          15       0.04      0.04      0.04        27\n",
      "          16       0.00      0.00      0.00        24\n",
      "          17       0.00      0.00      0.00        17\n",
      "          18       0.07      0.08      0.07        13\n",
      "          19       0.33      0.08      0.13        12\n",
      "          20       0.00      0.00      0.00         7\n",
      "          21       0.00      0.00      0.00         5\n",
      "          22       0.00      0.00      0.00         2\n",
      "          23       0.20      0.20      0.20         5\n",
      "          26       0.00      0.00      0.00         1\n",
      "          27       0.00      0.00      0.00         2\n",
      "\n",
      "    accuracy                           0.20      1254\n",
      "   macro avg       0.13      0.14      0.13      1254\n",
      "weighted avg       0.19      0.20      0.19      1254\n",
      "\n"
     ]
    }
   ],
   "source": [
    "dtc= DecisionTreeClassifier()\n",
    "dtc.fit(x_train, y_train)\n",
    "dtc.score(x_train, y_train)\n",
    "preddtc= dtc.predict(x_test)\n",
    "print(accuracy_score(y_test, preddtc))\n",
    "print(confusion_matrix(y_test, preddtc))\n",
    "print(classification_report(y_test, preddtc))"
   ]
  },
  {
   "cell_type": "code",
   "execution_count": 160,
   "metadata": {},
   "outputs": [
    {
     "name": "stdout",
     "output_type": "stream",
     "text": [
      "0.23684210526315788\n",
      "[[ 0  2  0  0  0  0  0  0  0  0  0  0  0  0  0  0  0  0  0  0  0  0  0]\n",
      " [ 3  4  1  2  0  0  0  0  0  0  0  0  0  0  0  0  0  0  0  0  0  0  0]\n",
      " [ 0  7  9 17  4  0  0  0  0  0  0  0  0  0  0  0  0  0  0  0  0  0  0]\n",
      " [ 0  2  5 33 25  7  0  0  0  0  0  0  0  0  0  0  0  0  0  0  0  0  0]\n",
      " [ 0  1  6 20 37 29  7  4  2  3  0  0  0  0  0  0  0  0  0  0  0  0  0]\n",
      " [ 0  0  0 14 26 60 38 22  6  3  0  0  0  0  0  0  0  0  0  0  0  0  0]\n",
      " [ 0  0  1  4 18 47 67 47 20  8  2  0  2  0  0  0  0  0  0  0  0  0  0]\n",
      " [ 0  0  0  0 10 17 57 48 30  6  7  1  1  0  0  0  0  1  0  0  0  0  0]\n",
      " [ 0  0  0  0  5  7 45 42 24  5  4  1  1  0  0  0  0  0  0  0  0  0  0]\n",
      " [ 0  0  0  1  3  8 15 24 28  4  6  2  1  1  0  0  0  0  1  0  0  0  0]\n",
      " [ 0  0  0  0  0  8  9 17 20  4  6  0  1  0  2  1  1  1  0  0  0  0  0]\n",
      " [ 0  0  0  0  2  1  5 20  8  1  3  3  2  1  1  0  0  0  1  0  0  0  0]\n",
      " [ 0  0  0  0  0  0  3  9  5  0  5  0  0  3  0  1  0  1  0  0  0  0  0]\n",
      " [ 0  0  0  0  0  0  2  6  3  4  2  1  0  2  3  0  0  1  0  0  0  0  0]\n",
      " [ 0  0  0  0  0  1  0  4  3  3  3  1  1  1  0  0  0  0  0  0  0  0  0]\n",
      " [ 0  0  0  0  0  0  5  2  2  1  1  1  0  1  0  0  0  0  0  0  0  0  0]\n",
      " [ 0  0  0  0  0  0  0  4  3  1  2  0  1  0  1  0  0  0  0  0  0  0  0]\n",
      " [ 0  0  0  0  0  0  0  3  0  0  2  0  1  0  0  1  0  0  0  0  0  0  0]\n",
      " [ 0  0  0  0  0  0  0  3  0  0  1  0  0  0  0  0  0  1  0  0  0  0  0]\n",
      " [ 0  0  0  0  0  0  0  0  2  0  0  0  0  0  0  0  0  0  0  0  0  0  0]\n",
      " [ 0  0  0  0  0  0  0  2  0  1  1  1  0  0  0  0  0  0  0  0  0  0  0]\n",
      " [ 0  0  0  0  0  0  0  0  0  0  0  0  1  0  0  0  0  0  0  0  0  0  0]\n",
      " [ 0  0  0  0  0  0  0  0  0  0  0  1  0  0  1  0  0  0  0  0  0  0  0]]\n",
      "              precision    recall  f1-score   support\n",
      "\n",
      "           3       0.00      0.00      0.00         2\n",
      "           4       0.25      0.40      0.31        10\n",
      "           5       0.41      0.24      0.31        37\n",
      "           6       0.36      0.46      0.40        72\n",
      "           7       0.28      0.34      0.31       109\n",
      "           8       0.32      0.36      0.34       169\n",
      "           9       0.26      0.31      0.29       216\n",
      "          10       0.19      0.27      0.22       178\n",
      "          11       0.15      0.18      0.17       134\n",
      "          12       0.09      0.04      0.06        94\n",
      "          13       0.13      0.09      0.10        70\n",
      "          14       0.25      0.06      0.10        48\n",
      "          15       0.00      0.00      0.00        27\n",
      "          16       0.22      0.08      0.12        24\n",
      "          17       0.00      0.00      0.00        17\n",
      "          18       0.00      0.00      0.00        13\n",
      "          19       0.00      0.00      0.00        12\n",
      "          20       0.00      0.00      0.00         7\n",
      "          21       0.00      0.00      0.00         5\n",
      "          22       0.00      0.00      0.00         2\n",
      "          23       0.00      0.00      0.00         5\n",
      "          26       0.00      0.00      0.00         1\n",
      "          27       0.00      0.00      0.00         2\n",
      "\n",
      "    accuracy                           0.24      1254\n",
      "   macro avg       0.13      0.12      0.12      1254\n",
      "weighted avg       0.22      0.24      0.22      1254\n",
      "\n"
     ]
    }
   ],
   "source": [
    "rf= RandomForestClassifier()\n",
    "rf.fit(x_train, y_train)\n",
    "pred= rf.predict(x_test)\n",
    "print(accuracy_score(y_test, pred))\n",
    "print(confusion_matrix(y_test, pred))\n",
    "print(classification_report(y_test, pred))"
   ]
  },
  {
   "cell_type": "code",
   "execution_count": 161,
   "metadata": {},
   "outputs": [
    {
     "name": "stdout",
     "output_type": "stream",
     "text": [
      "0.20175438596491227\n",
      "[[  0   0   0   0   2   0   0   0   0   0   0   0   0   0   0   0   0   0\n",
      "    0   0   0   0   0]\n",
      " [  0   0   0   0  10   0   0   0   0   0   0   0   0   0   0   0   0   0\n",
      "    0   0   0   0   0]\n",
      " [  0   0   0   0  37   0   0   0   0   0   0   0   0   0   0   0   0   0\n",
      "    0   0   0   0   0]\n",
      " [  0   0   0   0  71   0   0   1   0   0   0   0   0   0   0   0   0   0\n",
      "    0   0   0   0   0]\n",
      " [  0   0   0   0  89   0   0  20   0   0   0   0   0   0   0   0   0   0\n",
      "    0   0   0   0   0]\n",
      " [  0   0   0   0  63   0   0 106   0   0   0   0   0   0   0   0   0   0\n",
      "    0   0   0   0   0]\n",
      " [  0   0   0   0  37   0   0 179   0   0   0   0   0   0   0   0   0   0\n",
      "    0   0   0   0   0]\n",
      " [  0   0   0   0  16   0   0 162   0   0   0   0   0   0   0   0   0   0\n",
      "    0   0   0   0   0]\n",
      " [  0   0   0   0   8   0   0 124   2   0   0   0   0   0   0   0   0   0\n",
      "    0   0   0   0   0]\n",
      " [  0   0   0   0   8   0   0  82   4   0   0   0   0   0   0   0   0   0\n",
      "    0   0   0   0   0]\n",
      " [  0   0   0   0   5   0   0  65   0   0   0   0   0   0   0   0   0   0\n",
      "    0   0   0   0   0]\n",
      " [  0   0   0   0   1   0   0  47   0   0   0   0   0   0   0   0   0   0\n",
      "    0   0   0   0   0]\n",
      " [  0   0   0   0   1   0   0  26   0   0   0   0   0   0   0   0   0   0\n",
      "    0   0   0   0   0]\n",
      " [  0   0   0   0   1   0   0  23   0   0   0   0   0   0   0   0   0   0\n",
      "    0   0   0   0   0]\n",
      " [  0   0   0   0   0   0   0  17   0   0   0   0   0   0   0   0   0   0\n",
      "    0   0   0   0   0]\n",
      " [  0   0   0   0   0   0   0  13   0   0   0   0   0   0   0   0   0   0\n",
      "    0   0   0   0   0]\n",
      " [  0   0   0   0   0   0   0  12   0   0   0   0   0   0   0   0   0   0\n",
      "    0   0   0   0   0]\n",
      " [  0   0   0   0   0   0   0   7   0   0   0   0   0   0   0   0   0   0\n",
      "    0   0   0   0   0]\n",
      " [  0   0   0   0   0   0   0   5   0   0   0   0   0   0   0   0   0   0\n",
      "    0   0   0   0   0]\n",
      " [  0   0   0   0   0   0   0   2   0   0   0   0   0   0   0   0   0   0\n",
      "    0   0   0   0   0]\n",
      " [  0   0   0   0   0   0   0   4   1   0   0   0   0   0   0   0   0   0\n",
      "    0   0   0   0   0]\n",
      " [  0   0   0   0   0   0   0   1   0   0   0   0   0   0   0   0   0   0\n",
      "    0   0   0   0   0]\n",
      " [  0   0   0   0   0   0   0   2   0   0   0   0   0   0   0   0   0   0\n",
      "    0   0   0   0   0]]\n",
      "              precision    recall  f1-score   support\n",
      "\n",
      "           3       0.00      0.00      0.00         2\n",
      "           4       0.00      0.00      0.00        10\n",
      "           5       0.00      0.00      0.00        37\n",
      "           6       0.00      0.00      0.00        72\n",
      "           7       0.26      0.82      0.39       109\n",
      "           8       0.00      0.00      0.00       169\n",
      "           9       0.00      0.00      0.00       216\n",
      "          10       0.18      0.91      0.30       178\n",
      "          11       0.29      0.01      0.03       134\n",
      "          12       0.00      0.00      0.00        94\n",
      "          13       0.00      0.00      0.00        70\n",
      "          14       0.00      0.00      0.00        48\n",
      "          15       0.00      0.00      0.00        27\n",
      "          16       0.00      0.00      0.00        24\n",
      "          17       0.00      0.00      0.00        17\n",
      "          18       0.00      0.00      0.00        13\n",
      "          19       0.00      0.00      0.00        12\n",
      "          20       0.00      0.00      0.00         7\n",
      "          21       0.00      0.00      0.00         5\n",
      "          22       0.00      0.00      0.00         2\n",
      "          23       0.00      0.00      0.00         5\n",
      "          26       0.00      0.00      0.00         1\n",
      "          27       0.00      0.00      0.00         2\n",
      "\n",
      "    accuracy                           0.20      1254\n",
      "   macro avg       0.03      0.08      0.03      1254\n",
      "weighted avg       0.08      0.20      0.08      1254\n",
      "\n"
     ]
    }
   ],
   "source": [
    "ad= AdaBoostClassifier()\n",
    "ad.fit(x_train, y_train)\n",
    "pred= ad.predict(x_test)\n",
    "print(accuracy_score(y_test, pred))\n",
    "print(confusion_matrix(y_test, pred))\n",
    "print(classification_report(y_test, pred))"
   ]
  },
  {
   "cell_type": "code",
   "execution_count": 162,
   "metadata": {},
   "outputs": [
    {
     "name": "stdout",
     "output_type": "stream",
     "text": [
      "[13:11:33] WARNING: C:/Users/Administrator/workspace/xgboost-win64_release_1.3.0/src/learner.cc:1061: Starting in XGBoost 1.3.0, the default evaluation metric used with the objective 'multi:softprob' was changed from 'merror' to 'mlogloss'. Explicitly set eval_metric if you'd like to restore the old behavior.\n",
      "0.24003189792663476\n",
      "[[ 1  1  0  0  0  0  0  0  0  0  0  0  0  0  0  0  0  0  0  0  0  0  0]\n",
      " [ 2  3  2  2  0  1  0  0  0  0  0  0  0  0  0  0  0  0  0  0  0  0  0]\n",
      " [ 1  5  9 13  9  0  0  0  0  0  0  0  0  0  0  0  0  0  0  0  0  0  0]\n",
      " [ 0  1  6 32 24  5  2  1  0  0  1  0  0  0  0  0  0  0  0  0  0  0  0]\n",
      " [ 0  2  6 20 29 32 11  5  4  0  0  0  0  0  0  0  0  0  0  0  0  0  0]\n",
      " [ 0  0  0 12 27 59 40 21  6  3  0  0  1  0  0  0  0  0  0  0  0  0  0]\n",
      " [ 0  0  2  6 17 42 76 44 16  5  5  0  1  1  0  0  0  0  0  1  0  0  0]\n",
      " [ 0  0  0  3  5 19 59 48 27  5  5  3  3  0  0  0  0  0  0  1  0  0  0]\n",
      " [ 0  0  0  1  2 11 29 43 32  4  3  4  3  0  1  0  1  0  0  0  0  0  0]\n",
      " [ 0  0  0  1  2  5 18 34 19  0  6  3  2  0  2  0  0  2  0  0  0  0  0]\n",
      " [ 0  0  0  0  0  5 12 17 20  2  4  4  1  1  3  0  1  0  0  0  0  0  0]\n",
      " [ 0  0  0  0  2  0  6 17  6  2  3  5  3  0  1  2  0  0  0  0  1  0  0]\n",
      " [ 0  0  0  0  1  0  1 10  4  0  5  2  1  1  0  1  0  1  0  0  0  0  0]\n",
      " [ 0  0  0  0  0  0  0  8  5  1  1  0  0  2  2  3  0  1  1  0  0  0  0]\n",
      " [ 0  0  0  0  0  0  1  5  4  1  3  1  0  1  0  0  1  0  0  0  0  0  0]\n",
      " [ 0  0  0  0  0  0  2  2  4  2  1  1  0  0  1  0  0  0  0  0  0  0  0]\n",
      " [ 0  0  0  0  0  0  0  2  3  1  2  1  1  0  2  0  0  0  0  0  0  0  0]\n",
      " [ 0  0  0  0  0  0  0  2  0  2  0  0  1  0  1  1  0  0  0  0  0  0  0]\n",
      " [ 0  0  0  0  0  0  0  0  0  1  1  0  0  0  1  1  0  1  0  0  0  0  0]\n",
      " [ 0  0  0  0  0  0  0  0  1  0  0  0  0  0  0  1  0  0  0  0  0  0  0]\n",
      " [ 0  0  0  0  0  1  0  1  0  1  0  0  0  1  0  0  1  0  0  0  0  0  0]\n",
      " [ 0  0  0  0  0  0  0  0  0  0  0  0  1  0  0  0  0  0  0  0  0  0  0]\n",
      " [ 0  0  0  0  0  0  0  0  0  0  0  1  1  0  0  0  0  0  0  0  0  0  0]]\n",
      "              precision    recall  f1-score   support\n",
      "\n",
      "           3       0.25      0.50      0.33         2\n",
      "           4       0.25      0.30      0.27        10\n",
      "           5       0.36      0.24      0.29        37\n",
      "           6       0.36      0.44      0.40        72\n",
      "           7       0.25      0.27      0.26       109\n",
      "           8       0.33      0.35      0.34       169\n",
      "           9       0.30      0.35      0.32       216\n",
      "          10       0.18      0.27      0.22       178\n",
      "          11       0.21      0.24      0.22       134\n",
      "          12       0.00      0.00      0.00        94\n",
      "          13       0.10      0.06      0.07        70\n",
      "          14       0.20      0.10      0.14        48\n",
      "          15       0.05      0.04      0.04        27\n",
      "          16       0.29      0.08      0.13        24\n",
      "          17       0.00      0.00      0.00        17\n",
      "          18       0.00      0.00      0.00        13\n",
      "          19       0.00      0.00      0.00        12\n",
      "          20       0.00      0.00      0.00         7\n",
      "          21       0.00      0.00      0.00         5\n",
      "          22       0.00      0.00      0.00         2\n",
      "          23       0.00      0.00      0.00         5\n",
      "          26       0.00      0.00      0.00         1\n",
      "          27       0.00      0.00      0.00         2\n",
      "\n",
      "    accuracy                           0.24      1254\n",
      "   macro avg       0.14      0.14      0.13      1254\n",
      "weighted avg       0.22      0.24      0.22      1254\n",
      "\n"
     ]
    }
   ],
   "source": [
    "XGB= XGBClassifier(random_state=1)\n",
    "XGB.fit(x_train, y_train)\n",
    "pred= XGB.predict(x_test)\n",
    "print(accuracy_score(y_test, pred))\n",
    "print(confusion_matrix(y_test, pred))\n",
    "print(classification_report(y_test, pred))"
   ]
  },
  {
   "cell_type": "code",
   "execution_count": 163,
   "metadata": {},
   "outputs": [
    {
     "name": "stdout",
     "output_type": "stream",
     "text": [
      "CV score of SVC-  0.2722072601209065\n"
     ]
    }
   ],
   "source": [
    "#Cross Validation\n",
    "from sklearn.model_selection import cross_val_score\n",
    "scr_svc= cross_val_score(svc, x,y, cv=5)\n",
    "print(\"CV score of SVC- \", scr_svc.mean())"
   ]
  },
  {
   "cell_type": "code",
   "execution_count": 164,
   "metadata": {},
   "outputs": [
    {
     "name": "stdout",
     "output_type": "stream",
     "text": [
      "CV score of DTC-  0.19991175543649542\n"
     ]
    }
   ],
   "source": [
    "scr_dtc= cross_val_score(dtc, x,y, cv=5)\n",
    "print(\"CV score of DTC- \", scr_dtc.mean())"
   ]
  },
  {
   "cell_type": "code",
   "execution_count": 165,
   "metadata": {},
   "outputs": [
    {
     "name": "stdout",
     "output_type": "stream",
     "text": [
      "CV score of RF-  0.24252155975131076\n"
     ]
    }
   ],
   "source": [
    "scr_rf= cross_val_score(rf, x,y, cv=5)\n",
    "print(\"CV score of RF- \", scr_rf.mean())"
   ]
  },
  {
   "cell_type": "code",
   "execution_count": 166,
   "metadata": {},
   "outputs": [
    {
     "name": "stdout",
     "output_type": "stream",
     "text": [
      "CV score of AD-  0.21259691144027734\n"
     ]
    }
   ],
   "source": [
    "scr_ad= cross_val_score(ad, x,y, cv=5)\n",
    "print(\"CV score of AD- \", scr_ad.mean())"
   ]
  },
  {
   "cell_type": "code",
   "execution_count": 167,
   "metadata": {},
   "outputs": [
    {
     "name": "stdout",
     "output_type": "stream",
     "text": [
      "CV score of AD-  0.21259691144027734\n"
     ]
    }
   ],
   "source": [
    "scr_xg= cross_val_score(ad, x,y, cv=5)\n",
    "print(\"CV score of AD- \", scr_xg.mean())"
   ]
  },
  {
   "cell_type": "code",
   "execution_count": 168,
   "metadata": {},
   "outputs": [
    {
     "data": {
      "text/plain": [
       "{'kernel': 'rbf'}"
      ]
     },
     "execution_count": 168,
     "metadata": {},
     "output_type": "execute_result"
    }
   ],
   "source": [
    "#Hyperparameter Tuning for selected best model- SVC\n",
    "\n",
    "from sklearn.model_selection import GridSearchCV\n",
    "parameters= {'kernel': ['rbf', 'poly']}\n",
    "GCV= GridSearchCV(svc, parameters, cv=5)\n",
    "GCV.fit(x_train, y_train)\n",
    "GCV.best_params_"
   ]
  },
  {
   "cell_type": "code",
   "execution_count": 169,
   "metadata": {},
   "outputs": [
    {
     "name": "stdout",
     "output_type": "stream",
     "text": [
      "0.9912280701754386\n",
      "[[  2   0   0   0   0   0   0   0   0   0   0   0   0   0   0   0   0   0\n",
      "    0   0   0   0   0]\n",
      " [  0   9   1   0   0   0   0   0   0   0   0   0   0   0   0   0   0   0\n",
      "    0   0   0   0   0]\n",
      " [  0   0  33   0   3   1   0   0   0   0   0   0   0   0   0   0   0   0\n",
      "    0   0   0   0   0]\n",
      " [  0   0   0  69   1   1   1   0   0   0   0   0   0   0   0   0   0   0\n",
      "    0   0   0   0   0]\n",
      " [  0   0   0   0 109   0   0   0   0   0   0   0   0   0   0   0   0   0\n",
      "    0   0   0   0   0]\n",
      " [  0   0   0   0   0 169   0   0   0   0   0   0   0   0   0   0   0   0\n",
      "    0   0   0   0   0]\n",
      " [  0   0   0   0   0   0 216   0   0   0   0   0   0   0   0   0   0   0\n",
      "    0   0   0   0   0]\n",
      " [  0   0   0   0   0   0   0 178   0   0   0   0   0   0   0   0   0   0\n",
      "    0   0   0   0   0]\n",
      " [  0   0   0   0   0   0   0   0 134   0   0   0   0   0   0   0   0   0\n",
      "    0   0   0   0   0]\n",
      " [  0   0   0   0   0   1   0   1   0  92   0   0   0   0   0   0   0   0\n",
      "    0   0   0   0   0]\n",
      " [  0   0   0   0   0   0   0   0   0   0  70   0   0   0   0   0   0   0\n",
      "    0   0   0   0   0]\n",
      " [  0   0   0   0   0   0   0   0   0   1   0  47   0   0   0   0   0   0\n",
      "    0   0   0   0   0]\n",
      " [  0   0   0   0   0   0   0   0   0   0   0   0  27   0   0   0   0   0\n",
      "    0   0   0   0   0]\n",
      " [  0   0   0   0   0   0   0   0   0   0   0   0   0  24   0   0   0   0\n",
      "    0   0   0   0   0]\n",
      " [  0   0   0   0   0   0   0   0   0   0   0   0   0   0  17   0   0   0\n",
      "    0   0   0   0   0]\n",
      " [  0   0   0   0   0   0   0   0   0   0   0   0   0   0   0  13   0   0\n",
      "    0   0   0   0   0]\n",
      " [  0   0   0   0   0   0   0   0   0   0   0   0   0   0   0   0  12   0\n",
      "    0   0   0   0   0]\n",
      " [  0   0   0   0   0   0   0   0   0   0   0   0   0   0   0   0   0   7\n",
      "    0   0   0   0   0]\n",
      " [  0   0   0   0   0   0   0   0   0   0   0   0   0   0   0   0   0   0\n",
      "    5   0   0   0   0]\n",
      " [  0   0   0   0   0   0   0   0   0   0   0   0   0   0   0   0   0   0\n",
      "    0   2   0   0   0]\n",
      " [  0   0   0   0   0   0   0   0   0   0   0   0   0   0   0   0   0   0\n",
      "    0   0   5   0   0]\n",
      " [  0   0   0   0   0   0   0   0   0   0   0   0   0   0   0   0   0   0\n",
      "    0   0   0   1   0]\n",
      " [  0   0   0   0   0   0   0   0   0   0   0   0   0   0   0   0   0   0\n",
      "    0   0   0   0   2]]\n",
      "              precision    recall  f1-score   support\n",
      "\n",
      "           3       1.00      1.00      1.00         2\n",
      "           4       1.00      0.90      0.95        10\n",
      "           5       0.97      0.89      0.93        37\n",
      "           6       1.00      0.96      0.98        72\n",
      "           7       0.96      1.00      0.98       109\n",
      "           8       0.98      1.00      0.99       169\n",
      "           9       1.00      1.00      1.00       216\n",
      "          10       0.99      1.00      1.00       178\n",
      "          11       1.00      1.00      1.00       134\n",
      "          12       0.99      0.98      0.98        94\n",
      "          13       1.00      1.00      1.00        70\n",
      "          14       1.00      0.98      0.99        48\n",
      "          15       1.00      1.00      1.00        27\n",
      "          16       1.00      1.00      1.00        24\n",
      "          17       1.00      1.00      1.00        17\n",
      "          18       1.00      1.00      1.00        13\n",
      "          19       1.00      1.00      1.00        12\n",
      "          20       1.00      1.00      1.00         7\n",
      "          21       1.00      1.00      1.00         5\n",
      "          22       1.00      1.00      1.00         2\n",
      "          23       1.00      1.00      1.00         5\n",
      "          26       1.00      1.00      1.00         1\n",
      "          27       1.00      1.00      1.00         2\n",
      "\n",
      "    accuracy                           0.99      1254\n",
      "   macro avg       1.00      0.99      0.99      1254\n",
      "weighted avg       0.99      0.99      0.99      1254\n",
      "\n"
     ]
    }
   ],
   "source": [
    "svc= SVC(kernel='rbf', C=1, gamma=100)\n",
    "svc.fit(x_test, y_test)\n",
    "svc.score(x_test, y_test)\n",
    "predsvc= svc.predict(x_test)\n",
    "print(accuracy_score(y_test, predsvc))\n",
    "print(confusion_matrix(y_test, predsvc))\n",
    "print(classification_report(y_test, predsvc))"
   ]
  },
  {
   "cell_type": "code",
   "execution_count": 170,
   "metadata": {},
   "outputs": [
    {
     "data": {
      "text/plain": [
       "['abalone_svc.obj']"
      ]
     },
     "execution_count": 170,
     "metadata": {},
     "output_type": "execute_result"
    }
   ],
   "source": [
    "# Saving the best model\n",
    "joblib.dump(svc, 'abalone_svc.obj')"
   ]
  },
  {
   "cell_type": "code",
   "execution_count": null,
   "metadata": {},
   "outputs": [],
   "source": []
  }
 ],
 "metadata": {
  "kernelspec": {
   "display_name": "Python 3",
   "language": "python",
   "name": "python3"
  },
  "language_info": {
   "codemirror_mode": {
    "name": "ipython",
    "version": 3
   },
   "file_extension": ".py",
   "mimetype": "text/x-python",
   "name": "python",
   "nbconvert_exporter": "python",
   "pygments_lexer": "ipython3",
   "version": "3.8.3"
  }
 },
 "nbformat": 4,
 "nbformat_minor": 4
}
