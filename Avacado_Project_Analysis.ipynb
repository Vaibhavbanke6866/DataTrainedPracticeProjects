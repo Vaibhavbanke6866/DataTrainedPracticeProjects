{
 "cells": [
  {
   "cell_type": "markdown",
   "metadata": {},
   "source": [
    "# Project Name: Avacado Project\n"
   ]
  },
  {
   "cell_type": "markdown",
   "metadata": {},
   "source": [
    "About Project: Avocado is a fruit consumed by people heavily in the United States. The goal is to predict the average price which is continuous in nature of the different type of avocado."
   ]
  },
  {
   "cell_type": "code",
   "execution_count": 1,
   "metadata": {},
   "outputs": [],
   "source": [
    "#Import Libraries\n",
    "import pandas as pd\n",
    "import numpy as np\n",
    "import matplotlib.pyplot as plt\n",
    "import seaborn as sns\n",
    "import warnings\n",
    "warnings.filterwarnings('ignore')"
   ]
  },
  {
   "cell_type": "code",
   "execution_count": 2,
   "metadata": {},
   "outputs": [
    {
     "data": {
      "text/html": [
       "<div>\n",
       "<style scoped>\n",
       "    .dataframe tbody tr th:only-of-type {\n",
       "        vertical-align: middle;\n",
       "    }\n",
       "\n",
       "    .dataframe tbody tr th {\n",
       "        vertical-align: top;\n",
       "    }\n",
       "\n",
       "    .dataframe thead th {\n",
       "        text-align: right;\n",
       "    }\n",
       "</style>\n",
       "<table border=\"1\" class=\"dataframe\">\n",
       "  <thead>\n",
       "    <tr style=\"text-align: right;\">\n",
       "      <th></th>\n",
       "      <th>Unnamed: 0</th>\n",
       "      <th>Date</th>\n",
       "      <th>AveragePrice</th>\n",
       "      <th>Total Volume</th>\n",
       "      <th>4046</th>\n",
       "      <th>4225</th>\n",
       "      <th>4770</th>\n",
       "      <th>Total Bags</th>\n",
       "      <th>Small Bags</th>\n",
       "      <th>Large Bags</th>\n",
       "      <th>XLarge Bags</th>\n",
       "      <th>type</th>\n",
       "      <th>year</th>\n",
       "      <th>region</th>\n",
       "    </tr>\n",
       "  </thead>\n",
       "  <tbody>\n",
       "    <tr>\n",
       "      <th>0</th>\n",
       "      <td>0.0</td>\n",
       "      <td>27-12-2015</td>\n",
       "      <td>1.33</td>\n",
       "      <td>64236.62</td>\n",
       "      <td>1036.74</td>\n",
       "      <td>54454.85</td>\n",
       "      <td>48.16</td>\n",
       "      <td>8696.87</td>\n",
       "      <td>8603.62</td>\n",
       "      <td>93.25</td>\n",
       "      <td>0.0</td>\n",
       "      <td>conventional</td>\n",
       "      <td>2015.0</td>\n",
       "      <td>Albany</td>\n",
       "    </tr>\n",
       "    <tr>\n",
       "      <th>1</th>\n",
       "      <td>1.0</td>\n",
       "      <td>20-12-2015</td>\n",
       "      <td>1.35</td>\n",
       "      <td>54876.98</td>\n",
       "      <td>674.28</td>\n",
       "      <td>44638.81</td>\n",
       "      <td>58.33</td>\n",
       "      <td>9505.56</td>\n",
       "      <td>9408.07</td>\n",
       "      <td>97.49</td>\n",
       "      <td>0.0</td>\n",
       "      <td>conventional</td>\n",
       "      <td>2015.0</td>\n",
       "      <td>Albany</td>\n",
       "    </tr>\n",
       "    <tr>\n",
       "      <th>2</th>\n",
       "      <td>2.0</td>\n",
       "      <td>13-12-2015</td>\n",
       "      <td>0.93</td>\n",
       "      <td>118220.22</td>\n",
       "      <td>794.70</td>\n",
       "      <td>109149.67</td>\n",
       "      <td>130.50</td>\n",
       "      <td>8145.35</td>\n",
       "      <td>8042.21</td>\n",
       "      <td>103.14</td>\n",
       "      <td>0.0</td>\n",
       "      <td>conventional</td>\n",
       "      <td>2015.0</td>\n",
       "      <td>Albany</td>\n",
       "    </tr>\n",
       "    <tr>\n",
       "      <th>3</th>\n",
       "      <td>3.0</td>\n",
       "      <td>06-12-2015</td>\n",
       "      <td>1.08</td>\n",
       "      <td>78992.15</td>\n",
       "      <td>1132.00</td>\n",
       "      <td>71976.41</td>\n",
       "      <td>72.58</td>\n",
       "      <td>5811.16</td>\n",
       "      <td>5677.40</td>\n",
       "      <td>133.76</td>\n",
       "      <td>0.0</td>\n",
       "      <td>conventional</td>\n",
       "      <td>2015.0</td>\n",
       "      <td>Albany</td>\n",
       "    </tr>\n",
       "    <tr>\n",
       "      <th>4</th>\n",
       "      <td>4.0</td>\n",
       "      <td>29-11-2015</td>\n",
       "      <td>1.28</td>\n",
       "      <td>51039.60</td>\n",
       "      <td>941.48</td>\n",
       "      <td>43838.39</td>\n",
       "      <td>75.78</td>\n",
       "      <td>6183.95</td>\n",
       "      <td>5986.26</td>\n",
       "      <td>197.69</td>\n",
       "      <td>0.0</td>\n",
       "      <td>conventional</td>\n",
       "      <td>2015.0</td>\n",
       "      <td>Albany</td>\n",
       "    </tr>\n",
       "  </tbody>\n",
       "</table>\n",
       "</div>"
      ],
      "text/plain": [
       "   Unnamed: 0        Date  AveragePrice  Total Volume     4046       4225  \\\n",
       "0         0.0  27-12-2015          1.33      64236.62  1036.74   54454.85   \n",
       "1         1.0  20-12-2015          1.35      54876.98   674.28   44638.81   \n",
       "2         2.0  13-12-2015          0.93     118220.22   794.70  109149.67   \n",
       "3         3.0  06-12-2015          1.08      78992.15  1132.00   71976.41   \n",
       "4         4.0  29-11-2015          1.28      51039.60   941.48   43838.39   \n",
       "\n",
       "     4770  Total Bags  Small Bags  Large Bags  XLarge Bags          type  \\\n",
       "0   48.16     8696.87     8603.62       93.25          0.0  conventional   \n",
       "1   58.33     9505.56     9408.07       97.49          0.0  conventional   \n",
       "2  130.50     8145.35     8042.21      103.14          0.0  conventional   \n",
       "3   72.58     5811.16     5677.40      133.76          0.0  conventional   \n",
       "4   75.78     6183.95     5986.26      197.69          0.0  conventional   \n",
       "\n",
       "     year  region  \n",
       "0  2015.0  Albany  \n",
       "1  2015.0  Albany  \n",
       "2  2015.0  Albany  \n",
       "3  2015.0  Albany  \n",
       "4  2015.0  Albany  "
      ]
     },
     "execution_count": 2,
     "metadata": {},
     "output_type": "execute_result"
    }
   ],
   "source": [
    "#Import Dataset\n",
    "ds= pd.read_csv('avocado.csv')\n",
    "ds.head()"
   ]
  },
  {
   "cell_type": "code",
   "execution_count": 3,
   "metadata": {},
   "outputs": [
    {
     "data": {
      "text/html": [
       "<div>\n",
       "<style scoped>\n",
       "    .dataframe tbody tr th:only-of-type {\n",
       "        vertical-align: middle;\n",
       "    }\n",
       "\n",
       "    .dataframe tbody tr th {\n",
       "        vertical-align: top;\n",
       "    }\n",
       "\n",
       "    .dataframe thead th {\n",
       "        text-align: right;\n",
       "    }\n",
       "</style>\n",
       "<table border=\"1\" class=\"dataframe\">\n",
       "  <thead>\n",
       "    <tr style=\"text-align: right;\">\n",
       "      <th></th>\n",
       "      <th>Unnamed: 0</th>\n",
       "      <th>Date</th>\n",
       "      <th>AveragePrice</th>\n",
       "      <th>Total Volume</th>\n",
       "      <th>4046</th>\n",
       "      <th>4225</th>\n",
       "      <th>4770</th>\n",
       "      <th>Total Bags</th>\n",
       "      <th>Small Bags</th>\n",
       "      <th>Large Bags</th>\n",
       "      <th>XLarge Bags</th>\n",
       "      <th>type</th>\n",
       "      <th>year</th>\n",
       "      <th>region</th>\n",
       "    </tr>\n",
       "  </thead>\n",
       "  <tbody>\n",
       "    <tr>\n",
       "      <th>0</th>\n",
       "      <td>0.0</td>\n",
       "      <td>27-12-2015</td>\n",
       "      <td>1.33</td>\n",
       "      <td>64236.62</td>\n",
       "      <td>1036.74</td>\n",
       "      <td>54454.85</td>\n",
       "      <td>48.16</td>\n",
       "      <td>8696.87</td>\n",
       "      <td>8603.62</td>\n",
       "      <td>93.25</td>\n",
       "      <td>0.0</td>\n",
       "      <td>conventional</td>\n",
       "      <td>2015.0</td>\n",
       "      <td>Albany</td>\n",
       "    </tr>\n",
       "    <tr>\n",
       "      <th>1</th>\n",
       "      <td>1.0</td>\n",
       "      <td>20-12-2015</td>\n",
       "      <td>1.35</td>\n",
       "      <td>54876.98</td>\n",
       "      <td>674.28</td>\n",
       "      <td>44638.81</td>\n",
       "      <td>58.33</td>\n",
       "      <td>9505.56</td>\n",
       "      <td>9408.07</td>\n",
       "      <td>97.49</td>\n",
       "      <td>0.0</td>\n",
       "      <td>conventional</td>\n",
       "      <td>2015.0</td>\n",
       "      <td>Albany</td>\n",
       "    </tr>\n",
       "    <tr>\n",
       "      <th>2</th>\n",
       "      <td>2.0</td>\n",
       "      <td>13-12-2015</td>\n",
       "      <td>0.93</td>\n",
       "      <td>118220.22</td>\n",
       "      <td>794.70</td>\n",
       "      <td>109149.67</td>\n",
       "      <td>130.50</td>\n",
       "      <td>8145.35</td>\n",
       "      <td>8042.21</td>\n",
       "      <td>103.14</td>\n",
       "      <td>0.0</td>\n",
       "      <td>conventional</td>\n",
       "      <td>2015.0</td>\n",
       "      <td>Albany</td>\n",
       "    </tr>\n",
       "    <tr>\n",
       "      <th>3</th>\n",
       "      <td>3.0</td>\n",
       "      <td>06-12-2015</td>\n",
       "      <td>1.08</td>\n",
       "      <td>78992.15</td>\n",
       "      <td>1132.00</td>\n",
       "      <td>71976.41</td>\n",
       "      <td>72.58</td>\n",
       "      <td>5811.16</td>\n",
       "      <td>5677.40</td>\n",
       "      <td>133.76</td>\n",
       "      <td>0.0</td>\n",
       "      <td>conventional</td>\n",
       "      <td>2015.0</td>\n",
       "      <td>Albany</td>\n",
       "    </tr>\n",
       "    <tr>\n",
       "      <th>4</th>\n",
       "      <td>4.0</td>\n",
       "      <td>29-11-2015</td>\n",
       "      <td>1.28</td>\n",
       "      <td>51039.60</td>\n",
       "      <td>941.48</td>\n",
       "      <td>43838.39</td>\n",
       "      <td>75.78</td>\n",
       "      <td>6183.95</td>\n",
       "      <td>5986.26</td>\n",
       "      <td>197.69</td>\n",
       "      <td>0.0</td>\n",
       "      <td>conventional</td>\n",
       "      <td>2015.0</td>\n",
       "      <td>Albany</td>\n",
       "    </tr>\n",
       "    <tr>\n",
       "      <th>...</th>\n",
       "      <td>...</td>\n",
       "      <td>...</td>\n",
       "      <td>...</td>\n",
       "      <td>...</td>\n",
       "      <td>...</td>\n",
       "      <td>...</td>\n",
       "      <td>...</td>\n",
       "      <td>...</td>\n",
       "      <td>...</td>\n",
       "      <td>...</td>\n",
       "      <td>...</td>\n",
       "      <td>...</td>\n",
       "      <td>...</td>\n",
       "      <td>...</td>\n",
       "    </tr>\n",
       "    <tr>\n",
       "      <th>16463</th>\n",
       "      <td>NaN</td>\n",
       "      <td>NaN</td>\n",
       "      <td>NaN</td>\n",
       "      <td>NaN</td>\n",
       "      <td>NaN</td>\n",
       "      <td>NaN</td>\n",
       "      <td>NaN</td>\n",
       "      <td>NaN</td>\n",
       "      <td>NaN</td>\n",
       "      <td>NaN</td>\n",
       "      <td>NaN</td>\n",
       "      <td>NaN</td>\n",
       "      <td>NaN</td>\n",
       "      <td>NaN</td>\n",
       "    </tr>\n",
       "    <tr>\n",
       "      <th>16464</th>\n",
       "      <td>NaN</td>\n",
       "      <td>NaN</td>\n",
       "      <td>NaN</td>\n",
       "      <td>NaN</td>\n",
       "      <td>NaN</td>\n",
       "      <td>NaN</td>\n",
       "      <td>NaN</td>\n",
       "      <td>NaN</td>\n",
       "      <td>NaN</td>\n",
       "      <td>NaN</td>\n",
       "      <td>NaN</td>\n",
       "      <td>NaN</td>\n",
       "      <td>NaN</td>\n",
       "      <td>NaN</td>\n",
       "    </tr>\n",
       "    <tr>\n",
       "      <th>16465</th>\n",
       "      <td>NaN</td>\n",
       "      <td>NaN</td>\n",
       "      <td>NaN</td>\n",
       "      <td>NaN</td>\n",
       "      <td>NaN</td>\n",
       "      <td>NaN</td>\n",
       "      <td>NaN</td>\n",
       "      <td>NaN</td>\n",
       "      <td>NaN</td>\n",
       "      <td>NaN</td>\n",
       "      <td>NaN</td>\n",
       "      <td>NaN</td>\n",
       "      <td>NaN</td>\n",
       "      <td>NaN</td>\n",
       "    </tr>\n",
       "    <tr>\n",
       "      <th>16466</th>\n",
       "      <td>NaN</td>\n",
       "      <td>NaN</td>\n",
       "      <td>NaN</td>\n",
       "      <td>NaN</td>\n",
       "      <td>NaN</td>\n",
       "      <td>NaN</td>\n",
       "      <td>NaN</td>\n",
       "      <td>NaN</td>\n",
       "      <td>NaN</td>\n",
       "      <td>NaN</td>\n",
       "      <td>NaN</td>\n",
       "      <td>NaN</td>\n",
       "      <td>NaN</td>\n",
       "      <td>NaN</td>\n",
       "    </tr>\n",
       "    <tr>\n",
       "      <th>16467</th>\n",
       "      <td>NaN</td>\n",
       "      <td>NaN</td>\n",
       "      <td>NaN</td>\n",
       "      <td>NaN</td>\n",
       "      <td>NaN</td>\n",
       "      <td>NaN</td>\n",
       "      <td>NaN</td>\n",
       "      <td>NaN</td>\n",
       "      <td>NaN</td>\n",
       "      <td>NaN</td>\n",
       "      <td>NaN</td>\n",
       "      <td>NaN</td>\n",
       "      <td>NaN</td>\n",
       "      <td>NaN</td>\n",
       "    </tr>\n",
       "  </tbody>\n",
       "</table>\n",
       "<p>16468 rows × 14 columns</p>\n",
       "</div>"
      ],
      "text/plain": [
       "       Unnamed: 0        Date  AveragePrice  Total Volume     4046       4225  \\\n",
       "0             0.0  27-12-2015          1.33      64236.62  1036.74   54454.85   \n",
       "1             1.0  20-12-2015          1.35      54876.98   674.28   44638.81   \n",
       "2             2.0  13-12-2015          0.93     118220.22   794.70  109149.67   \n",
       "3             3.0  06-12-2015          1.08      78992.15  1132.00   71976.41   \n",
       "4             4.0  29-11-2015          1.28      51039.60   941.48   43838.39   \n",
       "...           ...         ...           ...           ...      ...        ...   \n",
       "16463         NaN         NaN           NaN           NaN      NaN        NaN   \n",
       "16464         NaN         NaN           NaN           NaN      NaN        NaN   \n",
       "16465         NaN         NaN           NaN           NaN      NaN        NaN   \n",
       "16466         NaN         NaN           NaN           NaN      NaN        NaN   \n",
       "16467         NaN         NaN           NaN           NaN      NaN        NaN   \n",
       "\n",
       "         4770  Total Bags  Small Bags  Large Bags  XLarge Bags          type  \\\n",
       "0       48.16     8696.87     8603.62       93.25          0.0  conventional   \n",
       "1       58.33     9505.56     9408.07       97.49          0.0  conventional   \n",
       "2      130.50     8145.35     8042.21      103.14          0.0  conventional   \n",
       "3       72.58     5811.16     5677.40      133.76          0.0  conventional   \n",
       "4       75.78     6183.95     5986.26      197.69          0.0  conventional   \n",
       "...       ...         ...         ...         ...          ...           ...   \n",
       "16463     NaN         NaN         NaN         NaN          NaN           NaN   \n",
       "16464     NaN         NaN         NaN         NaN          NaN           NaN   \n",
       "16465     NaN         NaN         NaN         NaN          NaN           NaN   \n",
       "16466     NaN         NaN         NaN         NaN          NaN           NaN   \n",
       "16467     NaN         NaN         NaN         NaN          NaN           NaN   \n",
       "\n",
       "         year  region  \n",
       "0      2015.0  Albany  \n",
       "1      2015.0  Albany  \n",
       "2      2015.0  Albany  \n",
       "3      2015.0  Albany  \n",
       "4      2015.0  Albany  \n",
       "...       ...     ...  \n",
       "16463     NaN     NaN  \n",
       "16464     NaN     NaN  \n",
       "16465     NaN     NaN  \n",
       "16466     NaN     NaN  \n",
       "16467     NaN     NaN  \n",
       "\n",
       "[16468 rows x 14 columns]"
      ]
     },
     "execution_count": 3,
     "metadata": {},
     "output_type": "execute_result"
    }
   ],
   "source": [
    "df= pd.DataFrame(data=ds)\n",
    "df"
   ]
  },
  {
   "cell_type": "code",
   "execution_count": 4,
   "metadata": {},
   "outputs": [
    {
     "data": {
      "text/html": [
       "<div>\n",
       "<style scoped>\n",
       "    .dataframe tbody tr th:only-of-type {\n",
       "        vertical-align: middle;\n",
       "    }\n",
       "\n",
       "    .dataframe tbody tr th {\n",
       "        vertical-align: top;\n",
       "    }\n",
       "\n",
       "    .dataframe thead th {\n",
       "        text-align: right;\n",
       "    }\n",
       "</style>\n",
       "<table border=\"1\" class=\"dataframe\">\n",
       "  <thead>\n",
       "    <tr style=\"text-align: right;\">\n",
       "      <th></th>\n",
       "      <th>Date</th>\n",
       "      <th>AveragePrice</th>\n",
       "      <th>Total Volume</th>\n",
       "      <th>4046</th>\n",
       "      <th>4225</th>\n",
       "      <th>4770</th>\n",
       "      <th>Total Bags</th>\n",
       "      <th>Small Bags</th>\n",
       "      <th>Large Bags</th>\n",
       "      <th>XLarge Bags</th>\n",
       "      <th>type</th>\n",
       "      <th>year</th>\n",
       "      <th>region</th>\n",
       "    </tr>\n",
       "  </thead>\n",
       "  <tbody>\n",
       "    <tr>\n",
       "      <th>0</th>\n",
       "      <td>27-12-2015</td>\n",
       "      <td>1.33</td>\n",
       "      <td>64236.62</td>\n",
       "      <td>1036.74</td>\n",
       "      <td>54454.85</td>\n",
       "      <td>48.16</td>\n",
       "      <td>8696.87</td>\n",
       "      <td>8603.62</td>\n",
       "      <td>93.25</td>\n",
       "      <td>0.0</td>\n",
       "      <td>conventional</td>\n",
       "      <td>2015.0</td>\n",
       "      <td>Albany</td>\n",
       "    </tr>\n",
       "    <tr>\n",
       "      <th>1</th>\n",
       "      <td>20-12-2015</td>\n",
       "      <td>1.35</td>\n",
       "      <td>54876.98</td>\n",
       "      <td>674.28</td>\n",
       "      <td>44638.81</td>\n",
       "      <td>58.33</td>\n",
       "      <td>9505.56</td>\n",
       "      <td>9408.07</td>\n",
       "      <td>97.49</td>\n",
       "      <td>0.0</td>\n",
       "      <td>conventional</td>\n",
       "      <td>2015.0</td>\n",
       "      <td>Albany</td>\n",
       "    </tr>\n",
       "    <tr>\n",
       "      <th>2</th>\n",
       "      <td>13-12-2015</td>\n",
       "      <td>0.93</td>\n",
       "      <td>118220.22</td>\n",
       "      <td>794.70</td>\n",
       "      <td>109149.67</td>\n",
       "      <td>130.50</td>\n",
       "      <td>8145.35</td>\n",
       "      <td>8042.21</td>\n",
       "      <td>103.14</td>\n",
       "      <td>0.0</td>\n",
       "      <td>conventional</td>\n",
       "      <td>2015.0</td>\n",
       "      <td>Albany</td>\n",
       "    </tr>\n",
       "    <tr>\n",
       "      <th>3</th>\n",
       "      <td>06-12-2015</td>\n",
       "      <td>1.08</td>\n",
       "      <td>78992.15</td>\n",
       "      <td>1132.00</td>\n",
       "      <td>71976.41</td>\n",
       "      <td>72.58</td>\n",
       "      <td>5811.16</td>\n",
       "      <td>5677.40</td>\n",
       "      <td>133.76</td>\n",
       "      <td>0.0</td>\n",
       "      <td>conventional</td>\n",
       "      <td>2015.0</td>\n",
       "      <td>Albany</td>\n",
       "    </tr>\n",
       "    <tr>\n",
       "      <th>4</th>\n",
       "      <td>29-11-2015</td>\n",
       "      <td>1.28</td>\n",
       "      <td>51039.60</td>\n",
       "      <td>941.48</td>\n",
       "      <td>43838.39</td>\n",
       "      <td>75.78</td>\n",
       "      <td>6183.95</td>\n",
       "      <td>5986.26</td>\n",
       "      <td>197.69</td>\n",
       "      <td>0.0</td>\n",
       "      <td>conventional</td>\n",
       "      <td>2015.0</td>\n",
       "      <td>Albany</td>\n",
       "    </tr>\n",
       "  </tbody>\n",
       "</table>\n",
       "</div>"
      ],
      "text/plain": [
       "         Date  AveragePrice  Total Volume     4046       4225    4770  \\\n",
       "0  27-12-2015          1.33      64236.62  1036.74   54454.85   48.16   \n",
       "1  20-12-2015          1.35      54876.98   674.28   44638.81   58.33   \n",
       "2  13-12-2015          0.93     118220.22   794.70  109149.67  130.50   \n",
       "3  06-12-2015          1.08      78992.15  1132.00   71976.41   72.58   \n",
       "4  29-11-2015          1.28      51039.60   941.48   43838.39   75.78   \n",
       "\n",
       "   Total Bags  Small Bags  Large Bags  XLarge Bags          type    year  \\\n",
       "0     8696.87     8603.62       93.25          0.0  conventional  2015.0   \n",
       "1     9505.56     9408.07       97.49          0.0  conventional  2015.0   \n",
       "2     8145.35     8042.21      103.14          0.0  conventional  2015.0   \n",
       "3     5811.16     5677.40      133.76          0.0  conventional  2015.0   \n",
       "4     6183.95     5986.26      197.69          0.0  conventional  2015.0   \n",
       "\n",
       "   region  \n",
       "0  Albany  \n",
       "1  Albany  \n",
       "2  Albany  \n",
       "3  Albany  \n",
       "4  Albany  "
      ]
     },
     "execution_count": 4,
     "metadata": {},
     "output_type": "execute_result"
    }
   ],
   "source": [
    "df= df.drop(df.columns[0], axis=1)\n",
    "df.head()"
   ]
  },
  {
   "cell_type": "code",
   "execution_count": 5,
   "metadata": {},
   "outputs": [
    {
     "data": {
      "text/plain": [
       "0        12.0\n",
       "1        12.0\n",
       "2        12.0\n",
       "3         6.0\n",
       "4        11.0\n",
       "         ... \n",
       "16463     NaN\n",
       "16464     NaN\n",
       "16465     NaN\n",
       "16466     NaN\n",
       "16467     NaN\n",
       "Name: month, Length: 16468, dtype: float64"
      ]
     },
     "execution_count": 5,
     "metadata": {},
     "output_type": "execute_result"
    }
   ],
   "source": [
    "#Making New Month column from given Date column\n",
    "df['month'] = pd.DatetimeIndex(df['Date']).month\n",
    "df['month']"
   ]
  },
  {
   "cell_type": "code",
   "execution_count": 6,
   "metadata": {},
   "outputs": [
    {
     "data": {
      "text/plain": [
       "0        27.0\n",
       "1        20.0\n",
       "2        13.0\n",
       "3        12.0\n",
       "4        29.0\n",
       "         ... \n",
       "16463     NaN\n",
       "16464     NaN\n",
       "16465     NaN\n",
       "16466     NaN\n",
       "16467     NaN\n",
       "Name: Date, Length: 16468, dtype: float64"
      ]
     },
     "execution_count": 6,
     "metadata": {},
     "output_type": "execute_result"
    }
   ],
   "source": [
    "#Making Date column from given Date with day\n",
    "df['Date'] = pd.DatetimeIndex(df['Date']).day\n",
    "df['Date']"
   ]
  },
  {
   "cell_type": "code",
   "execution_count": 7,
   "metadata": {},
   "outputs": [
    {
     "data": {
      "text/plain": [
       "(16468, 14)"
      ]
     },
     "execution_count": 7,
     "metadata": {},
     "output_type": "execute_result"
    }
   ],
   "source": [
    "df.shape"
   ]
  },
  {
   "cell_type": "code",
   "execution_count": 8,
   "metadata": {},
   "outputs": [
    {
     "name": "stdout",
     "output_type": "stream",
     "text": [
      "<class 'pandas.core.frame.DataFrame'>\n",
      "RangeIndex: 16468 entries, 0 to 16467\n",
      "Data columns (total 14 columns):\n",
      " #   Column        Non-Null Count  Dtype  \n",
      "---  ------        --------------  -----  \n",
      " 0   Date          1517 non-null   float64\n",
      " 1   AveragePrice  1517 non-null   float64\n",
      " 2   Total Volume  1517 non-null   float64\n",
      " 3   4046          1517 non-null   float64\n",
      " 4   4225          1517 non-null   float64\n",
      " 5   4770          1517 non-null   float64\n",
      " 6   Total Bags    1517 non-null   float64\n",
      " 7   Small Bags    1517 non-null   float64\n",
      " 8   Large Bags    1517 non-null   float64\n",
      " 9   XLarge Bags   1517 non-null   float64\n",
      " 10  type          1517 non-null   object \n",
      " 11  year          1517 non-null   float64\n",
      " 12  region        1517 non-null   object \n",
      " 13  month         1517 non-null   float64\n",
      "dtypes: float64(12), object(2)\n",
      "memory usage: 1.8+ MB\n"
     ]
    }
   ],
   "source": [
    "df.info()"
   ]
  },
  {
   "cell_type": "code",
   "execution_count": 9,
   "metadata": {},
   "outputs": [
    {
     "data": {
      "text/plain": [
       "Index(['Date', 'AveragePrice', 'Total Volume', '4046', '4225', '4770',\n",
       "       'Total Bags', 'Small Bags', 'Large Bags', 'XLarge Bags', 'type', 'year',\n",
       "       'region', 'month'],\n",
       "      dtype='object')"
      ]
     },
     "execution_count": 9,
     "metadata": {},
     "output_type": "execute_result"
    }
   ],
   "source": [
    "df.columns"
   ]
  },
  {
   "cell_type": "code",
   "execution_count": 10,
   "metadata": {},
   "outputs": [
    {
     "data": {
      "text/html": [
       "<div>\n",
       "<style scoped>\n",
       "    .dataframe tbody tr th:only-of-type {\n",
       "        vertical-align: middle;\n",
       "    }\n",
       "\n",
       "    .dataframe tbody tr th {\n",
       "        vertical-align: top;\n",
       "    }\n",
       "\n",
       "    .dataframe thead th {\n",
       "        text-align: right;\n",
       "    }\n",
       "</style>\n",
       "<table border=\"1\" class=\"dataframe\">\n",
       "  <thead>\n",
       "    <tr style=\"text-align: right;\">\n",
       "      <th></th>\n",
       "      <th>Date</th>\n",
       "      <th>AveragePrice</th>\n",
       "      <th>Total Volume</th>\n",
       "      <th>4046</th>\n",
       "      <th>4225</th>\n",
       "      <th>4770</th>\n",
       "      <th>Total Bags</th>\n",
       "      <th>Small Bags</th>\n",
       "      <th>Large Bags</th>\n",
       "      <th>XLarge Bags</th>\n",
       "      <th>year</th>\n",
       "      <th>month</th>\n",
       "    </tr>\n",
       "  </thead>\n",
       "  <tbody>\n",
       "    <tr>\n",
       "      <th>count</th>\n",
       "      <td>1517.000000</td>\n",
       "      <td>1517.000000</td>\n",
       "      <td>1.517000e+03</td>\n",
       "      <td>1.517000e+03</td>\n",
       "      <td>1.517000e+03</td>\n",
       "      <td>1.517000e+03</td>\n",
       "      <td>1.517000e+03</td>\n",
       "      <td>1.517000e+03</td>\n",
       "      <td>1.517000e+03</td>\n",
       "      <td>1517.000000</td>\n",
       "      <td>1517.000000</td>\n",
       "      <td>1517.000000</td>\n",
       "    </tr>\n",
       "    <tr>\n",
       "      <th>mean</th>\n",
       "      <td>15.253790</td>\n",
       "      <td>1.074990</td>\n",
       "      <td>1.601879e+06</td>\n",
       "      <td>6.464387e+05</td>\n",
       "      <td>6.114375e+05</td>\n",
       "      <td>5.040550e+04</td>\n",
       "      <td>2.935974e+05</td>\n",
       "      <td>2.487736e+05</td>\n",
       "      <td>4.264205e+04</td>\n",
       "      <td>2181.771074</td>\n",
       "      <td>2015.162821</td>\n",
       "      <td>6.362558</td>\n",
       "    </tr>\n",
       "    <tr>\n",
       "      <th>std</th>\n",
       "      <td>8.965902</td>\n",
       "      <td>0.188891</td>\n",
       "      <td>4.433143e+06</td>\n",
       "      <td>1.947614e+06</td>\n",
       "      <td>1.672906e+06</td>\n",
       "      <td>1.377812e+05</td>\n",
       "      <td>7.579765e+05</td>\n",
       "      <td>6.474765e+05</td>\n",
       "      <td>1.182157e+05</td>\n",
       "      <td>7455.712144</td>\n",
       "      <td>0.369324</td>\n",
       "      <td>3.472146</td>\n",
       "    </tr>\n",
       "    <tr>\n",
       "      <th>min</th>\n",
       "      <td>1.000000</td>\n",
       "      <td>0.490000</td>\n",
       "      <td>3.875074e+04</td>\n",
       "      <td>4.677200e+02</td>\n",
       "      <td>1.783770e+03</td>\n",
       "      <td>0.000000e+00</td>\n",
       "      <td>3.311770e+03</td>\n",
       "      <td>3.311770e+03</td>\n",
       "      <td>0.000000e+00</td>\n",
       "      <td>0.000000</td>\n",
       "      <td>2015.000000</td>\n",
       "      <td>1.000000</td>\n",
       "    </tr>\n",
       "    <tr>\n",
       "      <th>25%</th>\n",
       "      <td>7.000000</td>\n",
       "      <td>0.980000</td>\n",
       "      <td>1.474700e+05</td>\n",
       "      <td>2.040034e+04</td>\n",
       "      <td>4.147606e+04</td>\n",
       "      <td>9.112500e+02</td>\n",
       "      <td>3.620689e+04</td>\n",
       "      <td>2.972722e+04</td>\n",
       "      <td>5.407400e+02</td>\n",
       "      <td>0.000000</td>\n",
       "      <td>2015.000000</td>\n",
       "      <td>3.000000</td>\n",
       "    </tr>\n",
       "    <tr>\n",
       "      <th>50%</th>\n",
       "      <td>15.000000</td>\n",
       "      <td>1.080000</td>\n",
       "      <td>4.027919e+05</td>\n",
       "      <td>8.175117e+04</td>\n",
       "      <td>1.186649e+05</td>\n",
       "      <td>7.688170e+03</td>\n",
       "      <td>7.397906e+04</td>\n",
       "      <td>6.237569e+04</td>\n",
       "      <td>5.044350e+03</td>\n",
       "      <td>0.000000</td>\n",
       "      <td>2015.000000</td>\n",
       "      <td>6.000000</td>\n",
       "    </tr>\n",
       "    <tr>\n",
       "      <th>75%</th>\n",
       "      <td>22.000000</td>\n",
       "      <td>1.190000</td>\n",
       "      <td>9.819751e+05</td>\n",
       "      <td>3.775785e+05</td>\n",
       "      <td>4.851503e+05</td>\n",
       "      <td>2.916730e+04</td>\n",
       "      <td>1.576097e+05</td>\n",
       "      <td>1.461994e+05</td>\n",
       "      <td>2.926767e+04</td>\n",
       "      <td>401.480000</td>\n",
       "      <td>2015.000000</td>\n",
       "      <td>9.000000</td>\n",
       "    </tr>\n",
       "    <tr>\n",
       "      <th>max</th>\n",
       "      <td>31.000000</td>\n",
       "      <td>1.680000</td>\n",
       "      <td>4.465546e+07</td>\n",
       "      <td>1.893304e+07</td>\n",
       "      <td>1.895648e+07</td>\n",
       "      <td>1.381516e+06</td>\n",
       "      <td>6.736304e+06</td>\n",
       "      <td>5.893642e+06</td>\n",
       "      <td>1.121076e+06</td>\n",
       "      <td>108072.790000</td>\n",
       "      <td>2016.000000</td>\n",
       "      <td>12.000000</td>\n",
       "    </tr>\n",
       "  </tbody>\n",
       "</table>\n",
       "</div>"
      ],
      "text/plain": [
       "              Date  AveragePrice  Total Volume          4046          4225  \\\n",
       "count  1517.000000   1517.000000  1.517000e+03  1.517000e+03  1.517000e+03   \n",
       "mean     15.253790      1.074990  1.601879e+06  6.464387e+05  6.114375e+05   \n",
       "std       8.965902      0.188891  4.433143e+06  1.947614e+06  1.672906e+06   \n",
       "min       1.000000      0.490000  3.875074e+04  4.677200e+02  1.783770e+03   \n",
       "25%       7.000000      0.980000  1.474700e+05  2.040034e+04  4.147606e+04   \n",
       "50%      15.000000      1.080000  4.027919e+05  8.175117e+04  1.186649e+05   \n",
       "75%      22.000000      1.190000  9.819751e+05  3.775785e+05  4.851503e+05   \n",
       "max      31.000000      1.680000  4.465546e+07  1.893304e+07  1.895648e+07   \n",
       "\n",
       "               4770    Total Bags    Small Bags    Large Bags    XLarge Bags  \\\n",
       "count  1.517000e+03  1.517000e+03  1.517000e+03  1.517000e+03    1517.000000   \n",
       "mean   5.040550e+04  2.935974e+05  2.487736e+05  4.264205e+04    2181.771074   \n",
       "std    1.377812e+05  7.579765e+05  6.474765e+05  1.182157e+05    7455.712144   \n",
       "min    0.000000e+00  3.311770e+03  3.311770e+03  0.000000e+00       0.000000   \n",
       "25%    9.112500e+02  3.620689e+04  2.972722e+04  5.407400e+02       0.000000   \n",
       "50%    7.688170e+03  7.397906e+04  6.237569e+04  5.044350e+03       0.000000   \n",
       "75%    2.916730e+04  1.576097e+05  1.461994e+05  2.926767e+04     401.480000   \n",
       "max    1.381516e+06  6.736304e+06  5.893642e+06  1.121076e+06  108072.790000   \n",
       "\n",
       "              year        month  \n",
       "count  1517.000000  1517.000000  \n",
       "mean   2015.162821     6.362558  \n",
       "std       0.369324     3.472146  \n",
       "min    2015.000000     1.000000  \n",
       "25%    2015.000000     3.000000  \n",
       "50%    2015.000000     6.000000  \n",
       "75%    2015.000000     9.000000  \n",
       "max    2016.000000    12.000000  "
      ]
     },
     "execution_count": 10,
     "metadata": {},
     "output_type": "execute_result"
    }
   ],
   "source": [
    "df.describe()"
   ]
  },
  {
   "cell_type": "markdown",
   "metadata": {},
   "source": [
    "Observations: Count for all columns is same so no null values present. For XLarge Bags column many outliers are present as there is maximum difference in 75% and max value, along with hat some more columns too. Also, the mean and 50%value of most of the column are same. Also for some columns STD and mean are very close to each other."
   ]
  },
  {
   "cell_type": "code",
   "execution_count": 11,
   "metadata": {},
   "outputs": [
    {
     "data": {
      "text/plain": [
       "Date            float64\n",
       "AveragePrice    float64\n",
       "Total Volume    float64\n",
       "4046            float64\n",
       "4225            float64\n",
       "4770            float64\n",
       "Total Bags      float64\n",
       "Small Bags      float64\n",
       "Large Bags      float64\n",
       "XLarge Bags     float64\n",
       "type             object\n",
       "year            float64\n",
       "region           object\n",
       "month           float64\n",
       "dtype: object"
      ]
     },
     "execution_count": 11,
     "metadata": {},
     "output_type": "execute_result"
    }
   ],
   "source": [
    "df.dtypes"
   ]
  },
  {
   "cell_type": "code",
   "execution_count": 12,
   "metadata": {},
   "outputs": [
    {
     "data": {
      "text/plain": [
       "Date            14951\n",
       "AveragePrice    14951\n",
       "Total Volume    14951\n",
       "4046            14951\n",
       "4225            14951\n",
       "4770            14951\n",
       "Total Bags      14951\n",
       "Small Bags      14951\n",
       "Large Bags      14951\n",
       "XLarge Bags     14951\n",
       "type            14951\n",
       "year            14951\n",
       "region          14951\n",
       "month           14951\n",
       "dtype: int64"
      ]
     },
     "execution_count": 12,
     "metadata": {},
     "output_type": "execute_result"
    }
   ],
   "source": [
    "#Checking for Null values\n",
    "df.isnull().sum()"
   ]
  },
  {
   "cell_type": "markdown",
   "metadata": {},
   "source": [
    "Observations:Null values present in dataset."
   ]
  },
  {
   "cell_type": "code",
   "execution_count": 13,
   "metadata": {},
   "outputs": [
    {
     "data": {
      "image/png": "[encoded data removed]",
      "text/plain": [
       "<Figure size 432x288 with 2 Axes>"
      ]
     },
     "metadata": {
      "needs_background": "light"
     },
     "output_type": "display_data"
    }
   ],
   "source": [
    "sns.heatmap(df.isnull())\n",
    "plt.title(\"Null values\")\n",
    "plt.show()"
   ]
  },
  {
   "cell_type": "markdown",
   "metadata": {},
   "source": [
    "Observations:Null values present in dataset after row no. 1570."
   ]
  },
  {
   "cell_type": "code",
   "execution_count": 14,
   "metadata": {},
   "outputs": [
    {
     "data": {
      "text/plain": [
       "Date            0\n",
       "AveragePrice    0\n",
       "Total Volume    0\n",
       "4046            0\n",
       "4225            0\n",
       "4770            0\n",
       "Total Bags      0\n",
       "Small Bags      0\n",
       "Large Bags      0\n",
       "XLarge Bags     0\n",
       "type            0\n",
       "year            0\n",
       "region          0\n",
       "month           0\n",
       "dtype: int64"
      ]
     },
     "execution_count": 14,
     "metadata": {},
     "output_type": "execute_result"
    }
   ],
   "source": [
    "#Removing Null values\n",
    "df= df.dropna()\n",
    "df.isnull().sum()"
   ]
  },
  {
   "cell_type": "markdown",
   "metadata": {},
   "source": [
    "# EDA"
   ]
  },
  {
   "cell_type": "code",
   "execution_count": 15,
   "metadata": {},
   "outputs": [
    {
     "data": {
      "text/plain": [
       "Date                AxesSubplot(0.125,0.71587;0.168478x0.16413)\n",
       "AveragePrice     AxesSubplot(0.327174,0.71587;0.168478x0.16413)\n",
       "Total Volume     AxesSubplot(0.529348,0.71587;0.168478x0.16413)\n",
       "4046             AxesSubplot(0.731522,0.71587;0.168478x0.16413)\n",
       "4225               AxesSubplot(0.125,0.518913;0.168478x0.16413)\n",
       "4770            AxesSubplot(0.327174,0.518913;0.168478x0.16413)\n",
       "Total Bags      AxesSubplot(0.529348,0.518913;0.168478x0.16413)\n",
       "Small Bags      AxesSubplot(0.731522,0.518913;0.168478x0.16413)\n",
       "Large Bags         AxesSubplot(0.125,0.321957;0.168478x0.16413)\n",
       "XLarge Bags     AxesSubplot(0.327174,0.321957;0.168478x0.16413)\n",
       "year            AxesSubplot(0.529348,0.321957;0.168478x0.16413)\n",
       "month           AxesSubplot(0.731522,0.321957;0.168478x0.16413)\n",
       "dtype: object"
      ]
     },
     "execution_count": 15,
     "metadata": {},
     "output_type": "execute_result"
    },
    {
     "data": {
      "image/png": "[encoded data removed]",
      "text/plain": [
       "<Figure size 2160x1800 with 16 Axes>"
      ]
     },
     "metadata": {
      "needs_background": "light"
     },
     "output_type": "display_data"
    }
   ],
   "source": [
    "#Univariate Analysis\n",
    "\n",
    "df.plot(kind= 'box', subplots=True, layout=(4,4), figsize= (30,25))"
   ]
  },
  {
   "cell_type": "markdown",
   "metadata": {},
   "source": [
    "Observations: We can see that for almost all columns data has outliers present."
   ]
  },
  {
   "cell_type": "code",
   "execution_count": 16,
   "metadata": {},
   "outputs": [
    {
     "data": {
      "text/plain": [
       "array([[<matplotlib.axes._subplots.AxesSubplot object at 0x0000019D7F27DC70>,\n",
       "        <matplotlib.axes._subplots.AxesSubplot object at 0x0000019D7F2987F0>,\n",
       "        <matplotlib.axes._subplots.AxesSubplot object at 0x0000019D7F995E80>,\n",
       "        <matplotlib.axes._subplots.AxesSubplot object at 0x0000019D7F9CB460>],\n",
       "       [<matplotlib.axes._subplots.AxesSubplot object at 0x0000019D7F9F5A00>,\n",
       "        <matplotlib.axes._subplots.AxesSubplot object at 0x0000019D7FA2DEE0>,\n",
       "        <matplotlib.axes._subplots.AxesSubplot object at 0x0000019D7FA2DFA0>,\n",
       "        <matplotlib.axes._subplots.AxesSubplot object at 0x0000019D7FA655B0>],\n",
       "       [<matplotlib.axes._subplots.AxesSubplot object at 0x0000019D7FAB8130>,\n",
       "        <matplotlib.axes._subplots.AxesSubplot object at 0x0000019D7FAE26D0>,\n",
       "        <matplotlib.axes._subplots.AxesSubplot object at 0x0000019D7FB0ECA0>,\n",
       "        <matplotlib.axes._subplots.AxesSubplot object at 0x0000019D7DBDB7C0>],\n",
       "       [<matplotlib.axes._subplots.AxesSubplot object at 0x0000019D7E3E5EB0>,\n",
       "        <matplotlib.axes._subplots.AxesSubplot object at 0x0000019D7E3BF5B0>,\n",
       "        <matplotlib.axes._subplots.AxesSubplot object at 0x0000019D7F23BD60>,\n",
       "        <matplotlib.axes._subplots.AxesSubplot object at 0x0000019D7E34AA90>]],\n",
       "      dtype=object)"
      ]
     },
     "execution_count": 16,
     "metadata": {},
     "output_type": "execute_result"
    },
    {
     "data": {
      "image/png": "[encoded data removed]",
      "text/plain": [
       "<Figure size 2160x1800 with 16 Axes>"
      ]
     },
     "metadata": {
      "needs_background": "light"
     },
     "output_type": "display_data"
    }
   ],
   "source": [
    "df.plot(kind= 'density', subplots=True, layout=(4,4), figsize= (30,25))"
   ]
  },
  {
   "cell_type": "markdown",
   "metadata": {},
   "source": [
    "Observations: Average price column data is normally distributed and rest all columns are some what left skewed as data values are not varies in terms of numbers."
   ]
  },
  {
   "cell_type": "code",
   "execution_count": 17,
   "metadata": {},
   "outputs": [
    {
     "data": {
      "text/plain": [
       "array([[<matplotlib.axes._subplots.AxesSubplot object at 0x0000019D7E6ADC40>,\n",
       "        <matplotlib.axes._subplots.AxesSubplot object at 0x0000019D7E6CA8B0>,\n",
       "        <matplotlib.axes._subplots.AxesSubplot object at 0x0000019D7E6F5CA0>,\n",
       "        <matplotlib.axes._subplots.AxesSubplot object at 0x0000019D7E72E130>],\n",
       "       [<matplotlib.axes._subplots.AxesSubplot object at 0x0000019D7E759580>,\n",
       "        <matplotlib.axes._subplots.AxesSubplot object at 0x0000019D7E786910>,\n",
       "        <matplotlib.axes._subplots.AxesSubplot object at 0x0000019D7E786A00>,\n",
       "        <matplotlib.axes._subplots.AxesSubplot object at 0x0000019D7E7B2EB0>],\n",
       "       [<matplotlib.axes._subplots.AxesSubplot object at 0x0000019D7E816730>,\n",
       "        <matplotlib.axes._subplots.AxesSubplot object at 0x0000019D7E844B80>,\n",
       "        <matplotlib.axes._subplots.AxesSubplot object at 0x0000019D7E871FD0>,\n",
       "        <matplotlib.axes._subplots.AxesSubplot object at 0x0000019D7FB7B460>],\n",
       "       [<matplotlib.axes._subplots.AxesSubplot object at 0x0000019D7FBA67F0>,\n",
       "        <matplotlib.axes._subplots.AxesSubplot object at 0x0000019D7FBCCC70>,\n",
       "        <matplotlib.axes._subplots.AxesSubplot object at 0x0000019D7FC00430>,\n",
       "        <matplotlib.axes._subplots.AxesSubplot object at 0x0000019D7FC2ABB0>]],\n",
       "      dtype=object)"
      ]
     },
     "execution_count": 17,
     "metadata": {},
     "output_type": "execute_result"
    },
    {
     "data": {
      "image/png": "[encoded data removed]",
      "text/plain": [
       "<Figure size 1440x1440 with 16 Axes>"
      ]
     },
     "metadata": {
      "needs_background": "light"
     },
     "output_type": "display_data"
    }
   ],
   "source": [
    "#plotting histogram for univariate analysis and checking the Normal Distribution\n",
    "df.hist(figsize=(20,20), grid = True, layout = (4,4), bins = 30)"
   ]
  },
  {
   "cell_type": "markdown",
   "metadata": {},
   "source": [
    "Observations: Average price column data is normally distributed and rest all columns are some what left skewed as data values are not varies in terms of numbers."
   ]
  },
  {
   "cell_type": "code",
   "execution_count": 18,
   "metadata": {},
   "outputs": [
    {
     "data": {
      "text/plain": [
       "conventional    1517\n",
       "Name: type, dtype: int64"
      ]
     },
     "execution_count": 18,
     "metadata": {},
     "output_type": "execute_result"
    }
   ],
   "source": [
    "#Checking uniqe values for object dtype columns\n",
    "\n",
    "df['type'].value_counts()"
   ]
  },
  {
   "cell_type": "code",
   "execution_count": 19,
   "metadata": {},
   "outputs": [
    {
     "data": {
      "text/plain": [
       "California             76\n",
       "Albany                 67\n",
       "Boise                  65\n",
       "BaltimoreWashington    65\n",
       "Boston                 62\n",
       "Atlanta                54\n",
       "PhoenixTucson          52\n",
       "BuffaloRochester       51\n",
       "Spokane                49\n",
       "Columbus               47\n",
       "NewYork                44\n",
       "Jacksonville           41\n",
       "Detroit                40\n",
       "SouthCentral           39\n",
       "SanDiego               38\n",
       "West                   36\n",
       "Tampa                  34\n",
       "Louisville             34\n",
       "Charlotte              31\n",
       "Portland               30\n",
       "Houston                29\n",
       "NorthernNewEngland     29\n",
       "WestTexNewMexico       27\n",
       "TotalUS                25\n",
       "Nashville              25\n",
       "SouthCarolina          24\n",
       "Denver                 24\n",
       "Chicago                23\n",
       "GrandRapids            23\n",
       "Pittsburgh             22\n",
       "Orlando                21\n",
       "RichmondNorfolk        21\n",
       "HarrisburgScranton     19\n",
       "Syracuse               19\n",
       "GreatLakes             18\n",
       "Midsouth               18\n",
       "DallasFtWorth          17\n",
       "MiamiFtLauderdale      17\n",
       "Roanoke                17\n",
       "RaleighGreensboro      16\n",
       "Indianapolis           16\n",
       "StLouis                16\n",
       "SanFrancisco           15\n",
       "Philadelphia           13\n",
       "HartfordSpringfield    13\n",
       "Northeast              12\n",
       "Plains                 12\n",
       "LasVegas               10\n",
       "Southeast               9\n",
       "Seattle                 9\n",
       "LosAngeles              3\n",
       "Name: region, dtype: int64"
      ]
     },
     "execution_count": 19,
     "metadata": {},
     "output_type": "execute_result"
    }
   ],
   "source": [
    "df['region'].value_counts()"
   ]
  },
  {
   "cell_type": "code",
   "execution_count": 20,
   "metadata": {},
   "outputs": [
    {
     "data": {
      "text/plain": [
       "year    type        \n",
       "2015.0  conventional    1270\n",
       "2016.0  conventional     247\n",
       "Name: type, dtype: int64"
      ]
     },
     "execution_count": 20,
     "metadata": {},
     "output_type": "execute_result"
    }
   ],
   "source": [
    "#Grouping data\n",
    "df.groupby('year')['type'].value_counts()"
   ]
  },
  {
   "cell_type": "markdown",
   "metadata": {},
   "source": [
    "Observations: For the year 2015, conventinal Avacado count was high."
   ]
  },
  {
   "cell_type": "code",
   "execution_count": 21,
   "metadata": {},
   "outputs": [
    {
     "data": {
      "text/plain": [
       "region               type        \n",
       "Albany               conventional    67\n",
       "Atlanta              conventional    54\n",
       "BaltimoreWashington  conventional    65\n",
       "Boise                conventional    65\n",
       "Boston               conventional    62\n",
       "BuffaloRochester     conventional    51\n",
       "California           conventional    76\n",
       "Charlotte            conventional    31\n",
       "Chicago              conventional    23\n",
       "Columbus             conventional    47\n",
       "DallasFtWorth        conventional    17\n",
       "Denver               conventional    24\n",
       "Detroit              conventional    40\n",
       "GrandRapids          conventional    23\n",
       "GreatLakes           conventional    18\n",
       "HarrisburgScranton   conventional    19\n",
       "HartfordSpringfield  conventional    13\n",
       "Houston              conventional    29\n",
       "Indianapolis         conventional    16\n",
       "Jacksonville         conventional    41\n",
       "LasVegas             conventional    10\n",
       "LosAngeles           conventional     3\n",
       "Louisville           conventional    34\n",
       "MiamiFtLauderdale    conventional    17\n",
       "Midsouth             conventional    18\n",
       "Nashville            conventional    25\n",
       "NewYork              conventional    44\n",
       "Northeast            conventional    12\n",
       "NorthernNewEngland   conventional    29\n",
       "Orlando              conventional    21\n",
       "Philadelphia         conventional    13\n",
       "PhoenixTucson        conventional    52\n",
       "Pittsburgh           conventional    22\n",
       "Plains               conventional    12\n",
       "Portland             conventional    30\n",
       "RaleighGreensboro    conventional    16\n",
       "RichmondNorfolk      conventional    21\n",
       "Roanoke              conventional    17\n",
       "SanDiego             conventional    38\n",
       "SanFrancisco         conventional    15\n",
       "Seattle              conventional     9\n",
       "SouthCarolina        conventional    24\n",
       "SouthCentral         conventional    39\n",
       "Southeast            conventional     9\n",
       "Spokane              conventional    49\n",
       "StLouis              conventional    16\n",
       "Syracuse             conventional    19\n",
       "Tampa                conventional    34\n",
       "TotalUS              conventional    25\n",
       "West                 conventional    36\n",
       "WestTexNewMexico     conventional    27\n",
       "Name: type, dtype: int64"
      ]
     },
     "execution_count": 21,
     "metadata": {},
     "output_type": "execute_result"
    }
   ],
   "source": [
    "df.groupby('region')['type'].value_counts()"
   ]
  },
  {
   "cell_type": "markdown",
   "metadata": {},
   "source": [
    "Observations: Highest value count for conventional Avacado was in Albany region. And Low in WestTexNewMexico region."
   ]
  },
  {
   "cell_type": "code",
   "execution_count": 22,
   "metadata": {},
   "outputs": [
    {
     "data": {
      "text/plain": [
       "<matplotlib.axes._subplots.AxesSubplot at 0x19d0195bca0>"
      ]
     },
     "execution_count": 22,
     "metadata": {},
     "output_type": "execute_result"
    },
    {
     "data": {
      "image/png": "[encoded data removed]",
      "text/plain": [
       "<Figure size 432x288 with 1 Axes>"
      ]
     },
     "metadata": {
      "needs_background": "light"
     },
     "output_type": "display_data"
    }
   ],
   "source": [
    "sns.barplot(x= 'year', y= 'AveragePrice', data= df)"
   ]
  },
  {
   "cell_type": "markdown",
   "metadata": {},
   "source": [
    "Observations: For  year 2016 has more Avacado average Price than year 2015. "
   ]
  },
  {
   "cell_type": "code",
   "execution_count": 23,
   "metadata": {},
   "outputs": [
    {
     "data": {
      "text/plain": [
       "<matplotlib.axes._subplots.AxesSubplot at 0x19d7b43e9d0>"
      ]
     },
     "execution_count": 23,
     "metadata": {},
     "output_type": "execute_result"
    },
    {
     "data": {
      "image/png": "[encoded data removed]",
      "text/plain": [
       "<Figure size 432x288 with 1 Axes>"
      ]
     },
     "metadata": {
      "needs_background": "light"
     },
     "output_type": "display_data"
    }
   ],
   "source": [
    "sns.barplot(x= 'month', y= 'AveragePrice', data= df)"
   ]
  },
  {
   "cell_type": "markdown",
   "metadata": {},
   "source": [
    "Observations: Maximum AveragePrice is in month of October and November."
   ]
  },
  {
   "cell_type": "code",
   "execution_count": 24,
   "metadata": {},
   "outputs": [
    {
     "data": {
      "image/png": "[encoded data removed]",
      "text/plain": [
       "<Figure size 1296x864 with 1 Axes>"
      ]
     },
     "metadata": {
      "needs_background": "light"
     },
     "output_type": "display_data"
    }
   ],
   "source": [
    "plt.figure(figsize=(18,12))\n",
    "sns.barplot(x= 'region', y= 'AveragePrice', data= df)\n",
    "plt.xticks(rotation=90)\n",
    "plt.show()"
   ]
  },
  {
   "cell_type": "markdown",
   "metadata": {},
   "source": [
    "Observations: Average Avacoda price was more more for Syracuse region. And less for PhoenixTucson region."
   ]
  },
  {
   "cell_type": "code",
   "execution_count": 25,
   "metadata": {},
   "outputs": [
    {
     "data": {
      "text/plain": [
       "<matplotlib.axes._subplots.AxesSubplot at 0x19d020677c0>"
      ]
     },
     "execution_count": 25,
     "metadata": {},
     "output_type": "execute_result"
    },
    {
     "data": {
      "image/png": "[encoded data removed]",
      "text/plain": [
       "<Figure size 432x288 with 1 Axes>"
      ]
     },
     "metadata": {
      "needs_background": "light"
     },
     "output_type": "display_data"
    }
   ],
   "source": [
    "sns.lineplot(x= 'month', y= 'AveragePrice', hue= 'type', data= df)"
   ]
  },
  {
   "cell_type": "markdown",
   "metadata": {},
   "source": [
    "Observations:  Average price increases drasticaly from month of September to November and January to February."
   ]
  },
  {
   "cell_type": "code",
   "execution_count": 26,
   "metadata": {},
   "outputs": [
    {
     "data": {
      "text/html": [
       "<div>\n",
       "<style scoped>\n",
       "    .dataframe tbody tr th:only-of-type {\n",
       "        vertical-align: middle;\n",
       "    }\n",
       "\n",
       "    .dataframe tbody tr th {\n",
       "        vertical-align: top;\n",
       "    }\n",
       "\n",
       "    .dataframe thead th {\n",
       "        text-align: right;\n",
       "    }\n",
       "</style>\n",
       "<table border=\"1\" class=\"dataframe\">\n",
       "  <thead>\n",
       "    <tr style=\"text-align: right;\">\n",
       "      <th></th>\n",
       "      <th>Date</th>\n",
       "      <th>AveragePrice</th>\n",
       "      <th>Total Volume</th>\n",
       "      <th>4046</th>\n",
       "      <th>4225</th>\n",
       "      <th>4770</th>\n",
       "      <th>Total Bags</th>\n",
       "      <th>Small Bags</th>\n",
       "      <th>Large Bags</th>\n",
       "      <th>XLarge Bags</th>\n",
       "      <th>type</th>\n",
       "      <th>year</th>\n",
       "      <th>region</th>\n",
       "      <th>month</th>\n",
       "    </tr>\n",
       "  </thead>\n",
       "  <tbody>\n",
       "    <tr>\n",
       "      <th>0</th>\n",
       "      <td>27.0</td>\n",
       "      <td>1.33</td>\n",
       "      <td>64236.62</td>\n",
       "      <td>1036.74</td>\n",
       "      <td>54454.85</td>\n",
       "      <td>48.16</td>\n",
       "      <td>8696.87</td>\n",
       "      <td>8603.62</td>\n",
       "      <td>93.25</td>\n",
       "      <td>0.0</td>\n",
       "      <td>conventional</td>\n",
       "      <td>2015.0</td>\n",
       "      <td>Albany</td>\n",
       "      <td>12.0</td>\n",
       "    </tr>\n",
       "    <tr>\n",
       "      <th>1</th>\n",
       "      <td>20.0</td>\n",
       "      <td>1.35</td>\n",
       "      <td>54876.98</td>\n",
       "      <td>674.28</td>\n",
       "      <td>44638.81</td>\n",
       "      <td>58.33</td>\n",
       "      <td>9505.56</td>\n",
       "      <td>9408.07</td>\n",
       "      <td>97.49</td>\n",
       "      <td>0.0</td>\n",
       "      <td>conventional</td>\n",
       "      <td>2015.0</td>\n",
       "      <td>Albany</td>\n",
       "      <td>12.0</td>\n",
       "    </tr>\n",
       "    <tr>\n",
       "      <th>2</th>\n",
       "      <td>13.0</td>\n",
       "      <td>0.93</td>\n",
       "      <td>118220.22</td>\n",
       "      <td>794.70</td>\n",
       "      <td>109149.67</td>\n",
       "      <td>130.50</td>\n",
       "      <td>8145.35</td>\n",
       "      <td>8042.21</td>\n",
       "      <td>103.14</td>\n",
       "      <td>0.0</td>\n",
       "      <td>conventional</td>\n",
       "      <td>2015.0</td>\n",
       "      <td>Albany</td>\n",
       "      <td>12.0</td>\n",
       "    </tr>\n",
       "    <tr>\n",
       "      <th>3</th>\n",
       "      <td>12.0</td>\n",
       "      <td>1.08</td>\n",
       "      <td>78992.15</td>\n",
       "      <td>1132.00</td>\n",
       "      <td>71976.41</td>\n",
       "      <td>72.58</td>\n",
       "      <td>5811.16</td>\n",
       "      <td>5677.40</td>\n",
       "      <td>133.76</td>\n",
       "      <td>0.0</td>\n",
       "      <td>conventional</td>\n",
       "      <td>2015.0</td>\n",
       "      <td>Albany</td>\n",
       "      <td>6.0</td>\n",
       "    </tr>\n",
       "    <tr>\n",
       "      <th>4</th>\n",
       "      <td>29.0</td>\n",
       "      <td>1.28</td>\n",
       "      <td>51039.60</td>\n",
       "      <td>941.48</td>\n",
       "      <td>43838.39</td>\n",
       "      <td>75.78</td>\n",
       "      <td>6183.95</td>\n",
       "      <td>5986.26</td>\n",
       "      <td>197.69</td>\n",
       "      <td>0.0</td>\n",
       "      <td>conventional</td>\n",
       "      <td>2015.0</td>\n",
       "      <td>Albany</td>\n",
       "      <td>11.0</td>\n",
       "    </tr>\n",
       "  </tbody>\n",
       "</table>\n",
       "</div>"
      ],
      "text/plain": [
       "   Date  AveragePrice  Total Volume     4046       4225    4770  Total Bags  \\\n",
       "0  27.0          1.33      64236.62  1036.74   54454.85   48.16     8696.87   \n",
       "1  20.0          1.35      54876.98   674.28   44638.81   58.33     9505.56   \n",
       "2  13.0          0.93     118220.22   794.70  109149.67  130.50     8145.35   \n",
       "3  12.0          1.08      78992.15  1132.00   71976.41   72.58     5811.16   \n",
       "4  29.0          1.28      51039.60   941.48   43838.39   75.78     6183.95   \n",
       "\n",
       "   Small Bags  Large Bags  XLarge Bags          type    year  region  month  \n",
       "0     8603.62       93.25          0.0  conventional  2015.0  Albany   12.0  \n",
       "1     9408.07       97.49          0.0  conventional  2015.0  Albany   12.0  \n",
       "2     8042.21      103.14          0.0  conventional  2015.0  Albany   12.0  \n",
       "3     5677.40      133.76          0.0  conventional  2015.0  Albany    6.0  \n",
       "4     5986.26      197.69          0.0  conventional  2015.0  Albany   11.0  "
      ]
     },
     "execution_count": 26,
     "metadata": {},
     "output_type": "execute_result"
    }
   ],
   "source": [
    "df.head()"
   ]
  },
  {
   "cell_type": "code",
   "execution_count": 27,
   "metadata": {},
   "outputs": [
    {
     "data": {
      "text/plain": [
       "<matplotlib.axes._subplots.AxesSubplot at 0x19d02080340>"
      ]
     },
     "execution_count": 27,
     "metadata": {},
     "output_type": "execute_result"
    },
    {
     "data": {
      "image/png": "[encoded data removed]",
      "text/plain": [
       "<Figure size 1440x1800 with 2 Axes>"
      ]
     },
     "metadata": {
      "needs_background": "light"
     },
     "output_type": "display_data"
    }
   ],
   "source": [
    "#Coorelation Matrix\n",
    "plt.figure(figsize=(20,25))\n",
    "sns.heatmap(df.corr(), annot= True)"
   ]
  },
  {
   "cell_type": "markdown",
   "metadata": {},
   "source": [
    "Observations: Average Price is maximum corelated to negatively with region and also with total bags. Also with other atributes its somewhat less correlated negatively."
   ]
  },
  {
   "cell_type": "code",
   "execution_count": 28,
   "metadata": {},
   "outputs": [
    {
     "data": {
      "text/html": [
       "<div>\n",
       "<style scoped>\n",
       "    .dataframe tbody tr th:only-of-type {\n",
       "        vertical-align: middle;\n",
       "    }\n",
       "\n",
       "    .dataframe tbody tr th {\n",
       "        vertical-align: top;\n",
       "    }\n",
       "\n",
       "    .dataframe thead th {\n",
       "        text-align: right;\n",
       "    }\n",
       "</style>\n",
       "<table border=\"1\" class=\"dataframe\">\n",
       "  <thead>\n",
       "    <tr style=\"text-align: right;\">\n",
       "      <th></th>\n",
       "      <th>Date</th>\n",
       "      <th>AveragePrice</th>\n",
       "      <th>Total Volume</th>\n",
       "      <th>4046</th>\n",
       "      <th>4225</th>\n",
       "      <th>4770</th>\n",
       "      <th>Total Bags</th>\n",
       "      <th>Small Bags</th>\n",
       "      <th>Large Bags</th>\n",
       "      <th>XLarge Bags</th>\n",
       "      <th>type</th>\n",
       "      <th>year</th>\n",
       "      <th>region</th>\n",
       "      <th>month</th>\n",
       "    </tr>\n",
       "  </thead>\n",
       "  <tbody>\n",
       "    <tr>\n",
       "      <th>0</th>\n",
       "      <td>27.0</td>\n",
       "      <td>1.33</td>\n",
       "      <td>64236.62</td>\n",
       "      <td>1036.74</td>\n",
       "      <td>54454.85</td>\n",
       "      <td>48.16</td>\n",
       "      <td>8696.87</td>\n",
       "      <td>8603.62</td>\n",
       "      <td>93.25</td>\n",
       "      <td>0.0</td>\n",
       "      <td>conventional</td>\n",
       "      <td>2015.0</td>\n",
       "      <td>Albany</td>\n",
       "      <td>12.0</td>\n",
       "    </tr>\n",
       "    <tr>\n",
       "      <th>1</th>\n",
       "      <td>20.0</td>\n",
       "      <td>1.35</td>\n",
       "      <td>54876.98</td>\n",
       "      <td>674.28</td>\n",
       "      <td>44638.81</td>\n",
       "      <td>58.33</td>\n",
       "      <td>9505.56</td>\n",
       "      <td>9408.07</td>\n",
       "      <td>97.49</td>\n",
       "      <td>0.0</td>\n",
       "      <td>conventional</td>\n",
       "      <td>2015.0</td>\n",
       "      <td>Albany</td>\n",
       "      <td>12.0</td>\n",
       "    </tr>\n",
       "    <tr>\n",
       "      <th>2</th>\n",
       "      <td>13.0</td>\n",
       "      <td>0.93</td>\n",
       "      <td>118220.22</td>\n",
       "      <td>794.70</td>\n",
       "      <td>109149.67</td>\n",
       "      <td>130.50</td>\n",
       "      <td>8145.35</td>\n",
       "      <td>8042.21</td>\n",
       "      <td>103.14</td>\n",
       "      <td>0.0</td>\n",
       "      <td>conventional</td>\n",
       "      <td>2015.0</td>\n",
       "      <td>Albany</td>\n",
       "      <td>12.0</td>\n",
       "    </tr>\n",
       "    <tr>\n",
       "      <th>3</th>\n",
       "      <td>12.0</td>\n",
       "      <td>1.08</td>\n",
       "      <td>78992.15</td>\n",
       "      <td>1132.00</td>\n",
       "      <td>71976.41</td>\n",
       "      <td>72.58</td>\n",
       "      <td>5811.16</td>\n",
       "      <td>5677.40</td>\n",
       "      <td>133.76</td>\n",
       "      <td>0.0</td>\n",
       "      <td>conventional</td>\n",
       "      <td>2015.0</td>\n",
       "      <td>Albany</td>\n",
       "      <td>6.0</td>\n",
       "    </tr>\n",
       "    <tr>\n",
       "      <th>4</th>\n",
       "      <td>29.0</td>\n",
       "      <td>1.28</td>\n",
       "      <td>51039.60</td>\n",
       "      <td>941.48</td>\n",
       "      <td>43838.39</td>\n",
       "      <td>75.78</td>\n",
       "      <td>6183.95</td>\n",
       "      <td>5986.26</td>\n",
       "      <td>197.69</td>\n",
       "      <td>0.0</td>\n",
       "      <td>conventional</td>\n",
       "      <td>2015.0</td>\n",
       "      <td>Albany</td>\n",
       "      <td>11.0</td>\n",
       "    </tr>\n",
       "  </tbody>\n",
       "</table>\n",
       "</div>"
      ],
      "text/plain": [
       "   Date  AveragePrice  Total Volume     4046       4225    4770  Total Bags  \\\n",
       "0  27.0          1.33      64236.62  1036.74   54454.85   48.16     8696.87   \n",
       "1  20.0          1.35      54876.98   674.28   44638.81   58.33     9505.56   \n",
       "2  13.0          0.93     118220.22   794.70  109149.67  130.50     8145.35   \n",
       "3  12.0          1.08      78992.15  1132.00   71976.41   72.58     5811.16   \n",
       "4  29.0          1.28      51039.60   941.48   43838.39   75.78     6183.95   \n",
       "\n",
       "   Small Bags  Large Bags  XLarge Bags          type    year  region  month  \n",
       "0     8603.62       93.25          0.0  conventional  2015.0  Albany   12.0  \n",
       "1     9408.07       97.49          0.0  conventional  2015.0  Albany   12.0  \n",
       "2     8042.21      103.14          0.0  conventional  2015.0  Albany   12.0  \n",
       "3     5677.40      133.76          0.0  conventional  2015.0  Albany    6.0  \n",
       "4     5986.26      197.69          0.0  conventional  2015.0  Albany   11.0  "
      ]
     },
     "execution_count": 28,
     "metadata": {},
     "output_type": "execute_result"
    }
   ],
   "source": [
    "df.head()"
   ]
  },
  {
   "cell_type": "code",
   "execution_count": 29,
   "metadata": {},
   "outputs": [
    {
     "data": {
      "text/plain": [
       "0       0\n",
       "1       0\n",
       "2       0\n",
       "3       0\n",
       "4       0\n",
       "       ..\n",
       "1512    7\n",
       "1513    7\n",
       "1514    7\n",
       "1515    7\n",
       "1516    7\n",
       "Name: region, Length: 1517, dtype: int32"
      ]
     },
     "execution_count": 29,
     "metadata": {},
     "output_type": "execute_result"
    }
   ],
   "source": [
    "#Label Encoding\n",
    "from sklearn.preprocessing import LabelEncoder\n",
    "le = LabelEncoder()\n",
    "df['region']= le.fit_transform(df['region'])\n",
    "df['region']"
   ]
  },
  {
   "cell_type": "code",
   "execution_count": 30,
   "metadata": {},
   "outputs": [
    {
     "data": {
      "text/html": [
       "<div>\n",
       "<style scoped>\n",
       "    .dataframe tbody tr th:only-of-type {\n",
       "        vertical-align: middle;\n",
       "    }\n",
       "\n",
       "    .dataframe tbody tr th {\n",
       "        vertical-align: top;\n",
       "    }\n",
       "\n",
       "    .dataframe thead th {\n",
       "        text-align: right;\n",
       "    }\n",
       "</style>\n",
       "<table border=\"1\" class=\"dataframe\">\n",
       "  <thead>\n",
       "    <tr style=\"text-align: right;\">\n",
       "      <th></th>\n",
       "      <th>Date</th>\n",
       "      <th>AveragePrice</th>\n",
       "      <th>Total Volume</th>\n",
       "      <th>4046</th>\n",
       "      <th>4225</th>\n",
       "      <th>4770</th>\n",
       "      <th>Total Bags</th>\n",
       "      <th>Small Bags</th>\n",
       "      <th>Large Bags</th>\n",
       "      <th>XLarge Bags</th>\n",
       "      <th>year</th>\n",
       "      <th>region</th>\n",
       "      <th>month</th>\n",
       "    </tr>\n",
       "  </thead>\n",
       "  <tbody>\n",
       "    <tr>\n",
       "      <th>0</th>\n",
       "      <td>27.0</td>\n",
       "      <td>1.33</td>\n",
       "      <td>64236.62</td>\n",
       "      <td>1036.74</td>\n",
       "      <td>54454.85</td>\n",
       "      <td>48.16</td>\n",
       "      <td>8696.87</td>\n",
       "      <td>8603.62</td>\n",
       "      <td>93.25</td>\n",
       "      <td>0.0</td>\n",
       "      <td>2015.0</td>\n",
       "      <td>0</td>\n",
       "      <td>12.0</td>\n",
       "    </tr>\n",
       "    <tr>\n",
       "      <th>1</th>\n",
       "      <td>20.0</td>\n",
       "      <td>1.35</td>\n",
       "      <td>54876.98</td>\n",
       "      <td>674.28</td>\n",
       "      <td>44638.81</td>\n",
       "      <td>58.33</td>\n",
       "      <td>9505.56</td>\n",
       "      <td>9408.07</td>\n",
       "      <td>97.49</td>\n",
       "      <td>0.0</td>\n",
       "      <td>2015.0</td>\n",
       "      <td>0</td>\n",
       "      <td>12.0</td>\n",
       "    </tr>\n",
       "    <tr>\n",
       "      <th>2</th>\n",
       "      <td>13.0</td>\n",
       "      <td>0.93</td>\n",
       "      <td>118220.22</td>\n",
       "      <td>794.70</td>\n",
       "      <td>109149.67</td>\n",
       "      <td>130.50</td>\n",
       "      <td>8145.35</td>\n",
       "      <td>8042.21</td>\n",
       "      <td>103.14</td>\n",
       "      <td>0.0</td>\n",
       "      <td>2015.0</td>\n",
       "      <td>0</td>\n",
       "      <td>12.0</td>\n",
       "    </tr>\n",
       "    <tr>\n",
       "      <th>3</th>\n",
       "      <td>12.0</td>\n",
       "      <td>1.08</td>\n",
       "      <td>78992.15</td>\n",
       "      <td>1132.00</td>\n",
       "      <td>71976.41</td>\n",
       "      <td>72.58</td>\n",
       "      <td>5811.16</td>\n",
       "      <td>5677.40</td>\n",
       "      <td>133.76</td>\n",
       "      <td>0.0</td>\n",
       "      <td>2015.0</td>\n",
       "      <td>0</td>\n",
       "      <td>6.0</td>\n",
       "    </tr>\n",
       "    <tr>\n",
       "      <th>4</th>\n",
       "      <td>29.0</td>\n",
       "      <td>1.28</td>\n",
       "      <td>51039.60</td>\n",
       "      <td>941.48</td>\n",
       "      <td>43838.39</td>\n",
       "      <td>75.78</td>\n",
       "      <td>6183.95</td>\n",
       "      <td>5986.26</td>\n",
       "      <td>197.69</td>\n",
       "      <td>0.0</td>\n",
       "      <td>2015.0</td>\n",
       "      <td>0</td>\n",
       "      <td>11.0</td>\n",
       "    </tr>\n",
       "  </tbody>\n",
       "</table>\n",
       "</div>"
      ],
      "text/plain": [
       "   Date  AveragePrice  Total Volume     4046       4225    4770  Total Bags  \\\n",
       "0  27.0          1.33      64236.62  1036.74   54454.85   48.16     8696.87   \n",
       "1  20.0          1.35      54876.98   674.28   44638.81   58.33     9505.56   \n",
       "2  13.0          0.93     118220.22   794.70  109149.67  130.50     8145.35   \n",
       "3  12.0          1.08      78992.15  1132.00   71976.41   72.58     5811.16   \n",
       "4  29.0          1.28      51039.60   941.48   43838.39   75.78     6183.95   \n",
       "\n",
       "   Small Bags  Large Bags  XLarge Bags    year  region  month  \n",
       "0     8603.62       93.25          0.0  2015.0       0   12.0  \n",
       "1     9408.07       97.49          0.0  2015.0       0   12.0  \n",
       "2     8042.21      103.14          0.0  2015.0       0   12.0  \n",
       "3     5677.40      133.76          0.0  2015.0       0    6.0  \n",
       "4     5986.26      197.69          0.0  2015.0       0   11.0  "
      ]
     },
     "execution_count": 30,
     "metadata": {},
     "output_type": "execute_result"
    }
   ],
   "source": [
    "#Removing singular column type\n",
    "df= df.drop('type', axis=1)\n",
    "\n",
    "df.head()"
   ]
  },
  {
   "cell_type": "code",
   "execution_count": 31,
   "metadata": {},
   "outputs": [
    {
     "data": {
      "text/html": [
       "<div>\n",
       "<style scoped>\n",
       "    .dataframe tbody tr th:only-of-type {\n",
       "        vertical-align: middle;\n",
       "    }\n",
       "\n",
       "    .dataframe tbody tr th {\n",
       "        vertical-align: top;\n",
       "    }\n",
       "\n",
       "    .dataframe thead th {\n",
       "        text-align: right;\n",
       "    }\n",
       "</style>\n",
       "<table border=\"1\" class=\"dataframe\">\n",
       "  <thead>\n",
       "    <tr style=\"text-align: right;\">\n",
       "      <th></th>\n",
       "      <th>Date</th>\n",
       "      <th>AveragePrice</th>\n",
       "      <th>Total Volume</th>\n",
       "      <th>4046</th>\n",
       "      <th>4225</th>\n",
       "      <th>4770</th>\n",
       "      <th>Total Bags</th>\n",
       "      <th>Small Bags</th>\n",
       "      <th>Large Bags</th>\n",
       "      <th>XLarge Bags</th>\n",
       "      <th>year</th>\n",
       "      <th>region</th>\n",
       "      <th>month</th>\n",
       "    </tr>\n",
       "  </thead>\n",
       "  <tbody>\n",
       "    <tr>\n",
       "      <th>0</th>\n",
       "      <td>27.0</td>\n",
       "      <td>1.33</td>\n",
       "      <td>64236.62</td>\n",
       "      <td>1036.74</td>\n",
       "      <td>54454.85</td>\n",
       "      <td>48.16</td>\n",
       "      <td>8696.87</td>\n",
       "      <td>8603.62</td>\n",
       "      <td>93.25</td>\n",
       "      <td>0.00</td>\n",
       "      <td>2015.0</td>\n",
       "      <td>0</td>\n",
       "      <td>12.0</td>\n",
       "    </tr>\n",
       "    <tr>\n",
       "      <th>1</th>\n",
       "      <td>20.0</td>\n",
       "      <td>1.35</td>\n",
       "      <td>54876.98</td>\n",
       "      <td>674.28</td>\n",
       "      <td>44638.81</td>\n",
       "      <td>58.33</td>\n",
       "      <td>9505.56</td>\n",
       "      <td>9408.07</td>\n",
       "      <td>97.49</td>\n",
       "      <td>0.00</td>\n",
       "      <td>2015.0</td>\n",
       "      <td>0</td>\n",
       "      <td>12.0</td>\n",
       "    </tr>\n",
       "    <tr>\n",
       "      <th>2</th>\n",
       "      <td>13.0</td>\n",
       "      <td>0.93</td>\n",
       "      <td>118220.22</td>\n",
       "      <td>794.70</td>\n",
       "      <td>109149.67</td>\n",
       "      <td>130.50</td>\n",
       "      <td>8145.35</td>\n",
       "      <td>8042.21</td>\n",
       "      <td>103.14</td>\n",
       "      <td>0.00</td>\n",
       "      <td>2015.0</td>\n",
       "      <td>0</td>\n",
       "      <td>12.0</td>\n",
       "    </tr>\n",
       "    <tr>\n",
       "      <th>3</th>\n",
       "      <td>12.0</td>\n",
       "      <td>1.08</td>\n",
       "      <td>78992.15</td>\n",
       "      <td>1132.00</td>\n",
       "      <td>71976.41</td>\n",
       "      <td>72.58</td>\n",
       "      <td>5811.16</td>\n",
       "      <td>5677.40</td>\n",
       "      <td>133.76</td>\n",
       "      <td>0.00</td>\n",
       "      <td>2015.0</td>\n",
       "      <td>0</td>\n",
       "      <td>6.0</td>\n",
       "    </tr>\n",
       "    <tr>\n",
       "      <th>4</th>\n",
       "      <td>29.0</td>\n",
       "      <td>1.28</td>\n",
       "      <td>51039.60</td>\n",
       "      <td>941.48</td>\n",
       "      <td>43838.39</td>\n",
       "      <td>75.78</td>\n",
       "      <td>6183.95</td>\n",
       "      <td>5986.26</td>\n",
       "      <td>197.69</td>\n",
       "      <td>0.00</td>\n",
       "      <td>2015.0</td>\n",
       "      <td>0</td>\n",
       "      <td>11.0</td>\n",
       "    </tr>\n",
       "    <tr>\n",
       "      <th>...</th>\n",
       "      <td>...</td>\n",
       "      <td>...</td>\n",
       "      <td>...</td>\n",
       "      <td>...</td>\n",
       "      <td>...</td>\n",
       "      <td>...</td>\n",
       "      <td>...</td>\n",
       "      <td>...</td>\n",
       "      <td>...</td>\n",
       "      <td>...</td>\n",
       "      <td>...</td>\n",
       "      <td>...</td>\n",
       "      <td>...</td>\n",
       "    </tr>\n",
       "    <tr>\n",
       "      <th>1512</th>\n",
       "      <td>16.0</td>\n",
       "      <td>1.39</td>\n",
       "      <td>190846.01</td>\n",
       "      <td>57529.11</td>\n",
       "      <td>56366.66</td>\n",
       "      <td>17531.78</td>\n",
       "      <td>59418.46</td>\n",
       "      <td>48823.53</td>\n",
       "      <td>10354.65</td>\n",
       "      <td>240.28</td>\n",
       "      <td>2016.0</td>\n",
       "      <td>7</td>\n",
       "      <td>10.0</td>\n",
       "    </tr>\n",
       "    <tr>\n",
       "      <th>1513</th>\n",
       "      <td>10.0</td>\n",
       "      <td>1.51</td>\n",
       "      <td>178235.75</td>\n",
       "      <td>43325.87</td>\n",
       "      <td>52189.61</td>\n",
       "      <td>19419.57</td>\n",
       "      <td>63300.70</td>\n",
       "      <td>54704.14</td>\n",
       "      <td>8596.56</td>\n",
       "      <td>0.00</td>\n",
       "      <td>2016.0</td>\n",
       "      <td>7</td>\n",
       "      <td>9.0</td>\n",
       "    </tr>\n",
       "    <tr>\n",
       "      <th>1514</th>\n",
       "      <td>10.0</td>\n",
       "      <td>1.48</td>\n",
       "      <td>178410.82</td>\n",
       "      <td>46364.75</td>\n",
       "      <td>52893.38</td>\n",
       "      <td>16736.92</td>\n",
       "      <td>62415.77</td>\n",
       "      <td>53332.61</td>\n",
       "      <td>8258.16</td>\n",
       "      <td>825.00</td>\n",
       "      <td>2016.0</td>\n",
       "      <td>7</td>\n",
       "      <td>2.0</td>\n",
       "    </tr>\n",
       "    <tr>\n",
       "      <th>1515</th>\n",
       "      <td>25.0</td>\n",
       "      <td>1.47</td>\n",
       "      <td>189131.52</td>\n",
       "      <td>54110.79</td>\n",
       "      <td>53593.58</td>\n",
       "      <td>17495.42</td>\n",
       "      <td>63931.73</td>\n",
       "      <td>55653.47</td>\n",
       "      <td>8278.26</td>\n",
       "      <td>0.00</td>\n",
       "      <td>2016.0</td>\n",
       "      <td>7</td>\n",
       "      <td>9.0</td>\n",
       "    </tr>\n",
       "    <tr>\n",
       "      <th>1516</th>\n",
       "      <td>18.0</td>\n",
       "      <td>1.43</td>\n",
       "      <td>182978.30</td>\n",
       "      <td>43116.41</td>\n",
       "      <td>54193.42</td>\n",
       "      <td>16563.91</td>\n",
       "      <td>69104.56</td>\n",
       "      <td>57456.21</td>\n",
       "      <td>11648.35</td>\n",
       "      <td>0.00</td>\n",
       "      <td>2016.0</td>\n",
       "      <td>7</td>\n",
       "      <td>9.0</td>\n",
       "    </tr>\n",
       "  </tbody>\n",
       "</table>\n",
       "<p>1436 rows × 13 columns</p>\n",
       "</div>"
      ],
      "text/plain": [
       "      Date  AveragePrice  Total Volume      4046       4225      4770  \\\n",
       "0     27.0          1.33      64236.62   1036.74   54454.85     48.16   \n",
       "1     20.0          1.35      54876.98    674.28   44638.81     58.33   \n",
       "2     13.0          0.93     118220.22    794.70  109149.67    130.50   \n",
       "3     12.0          1.08      78992.15   1132.00   71976.41     72.58   \n",
       "4     29.0          1.28      51039.60    941.48   43838.39     75.78   \n",
       "...    ...           ...           ...       ...        ...       ...   \n",
       "1512  16.0          1.39     190846.01  57529.11   56366.66  17531.78   \n",
       "1513  10.0          1.51     178235.75  43325.87   52189.61  19419.57   \n",
       "1514  10.0          1.48     178410.82  46364.75   52893.38  16736.92   \n",
       "1515  25.0          1.47     189131.52  54110.79   53593.58  17495.42   \n",
       "1516  18.0          1.43     182978.30  43116.41   54193.42  16563.91   \n",
       "\n",
       "      Total Bags  Small Bags  Large Bags  XLarge Bags    year  region  month  \n",
       "0        8696.87     8603.62       93.25         0.00  2015.0       0   12.0  \n",
       "1        9505.56     9408.07       97.49         0.00  2015.0       0   12.0  \n",
       "2        8145.35     8042.21      103.14         0.00  2015.0       0   12.0  \n",
       "3        5811.16     5677.40      133.76         0.00  2015.0       0    6.0  \n",
       "4        6183.95     5986.26      197.69         0.00  2015.0       0   11.0  \n",
       "...          ...         ...         ...          ...     ...     ...    ...  \n",
       "1512    59418.46    48823.53    10354.65       240.28  2016.0       7   10.0  \n",
       "1513    63300.70    54704.14     8596.56         0.00  2016.0       7    9.0  \n",
       "1514    62415.77    53332.61     8258.16       825.00  2016.0       7    2.0  \n",
       "1515    63931.73    55653.47     8278.26         0.00  2016.0       7    9.0  \n",
       "1516    69104.56    57456.21    11648.35         0.00  2016.0       7    9.0  \n",
       "\n",
       "[1436 rows x 13 columns]"
      ]
     },
     "execution_count": 31,
     "metadata": {},
     "output_type": "execute_result"
    }
   ],
   "source": [
    "#Removing the Outliers\n",
    "\n",
    "from scipy.stats import zscore\n",
    "z= np.abs(zscore(df))\n",
    "threshold=3\n",
    "df_new= df[(z<3).all(axis=1)]\n",
    "df_new"
   ]
  },
  {
   "cell_type": "code",
   "execution_count": 32,
   "metadata": {},
   "outputs": [
    {
     "data": {
      "text/plain": [
       "(1436, 13)"
      ]
     },
     "execution_count": 32,
     "metadata": {},
     "output_type": "execute_result"
    }
   ],
   "source": [
    "df_new.shape"
   ]
  },
  {
   "cell_type": "code",
   "execution_count": 33,
   "metadata": {},
   "outputs": [
    {
     "data": {
      "text/plain": [
       "(1517, 13)"
      ]
     },
     "execution_count": 33,
     "metadata": {},
     "output_type": "execute_result"
    }
   ],
   "source": [
    "df.shape"
   ]
  },
  {
   "cell_type": "markdown",
   "metadata": {},
   "source": [
    "Observations: So here we can see that due to outliers almost 81 rows removed."
   ]
  },
  {
   "cell_type": "code",
   "execution_count": 34,
   "metadata": {},
   "outputs": [
    {
     "data": {
      "text/html": [
       "<div>\n",
       "<style scoped>\n",
       "    .dataframe tbody tr th:only-of-type {\n",
       "        vertical-align: middle;\n",
       "    }\n",
       "\n",
       "    .dataframe tbody tr th {\n",
       "        vertical-align: top;\n",
       "    }\n",
       "\n",
       "    .dataframe thead th {\n",
       "        text-align: right;\n",
       "    }\n",
       "</style>\n",
       "<table border=\"1\" class=\"dataframe\">\n",
       "  <thead>\n",
       "    <tr style=\"text-align: right;\">\n",
       "      <th></th>\n",
       "      <th>Date</th>\n",
       "      <th>AveragePrice</th>\n",
       "      <th>Total Volume</th>\n",
       "      <th>4046</th>\n",
       "      <th>4225</th>\n",
       "      <th>4770</th>\n",
       "      <th>Total Bags</th>\n",
       "      <th>Small Bags</th>\n",
       "      <th>Large Bags</th>\n",
       "      <th>XLarge Bags</th>\n",
       "      <th>year</th>\n",
       "      <th>region</th>\n",
       "      <th>month</th>\n",
       "    </tr>\n",
       "  </thead>\n",
       "  <tbody>\n",
       "    <tr>\n",
       "      <th>0</th>\n",
       "      <td>27.0</td>\n",
       "      <td>1.33</td>\n",
       "      <td>64236.62</td>\n",
       "      <td>1036.74</td>\n",
       "      <td>54454.85</td>\n",
       "      <td>48.16</td>\n",
       "      <td>8696.87</td>\n",
       "      <td>8603.62</td>\n",
       "      <td>93.25</td>\n",
       "      <td>0.0</td>\n",
       "      <td>2015.0</td>\n",
       "      <td>0</td>\n",
       "      <td>12.0</td>\n",
       "    </tr>\n",
       "    <tr>\n",
       "      <th>1</th>\n",
       "      <td>20.0</td>\n",
       "      <td>1.35</td>\n",
       "      <td>54876.98</td>\n",
       "      <td>674.28</td>\n",
       "      <td>44638.81</td>\n",
       "      <td>58.33</td>\n",
       "      <td>9505.56</td>\n",
       "      <td>9408.07</td>\n",
       "      <td>97.49</td>\n",
       "      <td>0.0</td>\n",
       "      <td>2015.0</td>\n",
       "      <td>0</td>\n",
       "      <td>12.0</td>\n",
       "    </tr>\n",
       "    <tr>\n",
       "      <th>2</th>\n",
       "      <td>13.0</td>\n",
       "      <td>0.93</td>\n",
       "      <td>118220.22</td>\n",
       "      <td>794.70</td>\n",
       "      <td>109149.67</td>\n",
       "      <td>130.50</td>\n",
       "      <td>8145.35</td>\n",
       "      <td>8042.21</td>\n",
       "      <td>103.14</td>\n",
       "      <td>0.0</td>\n",
       "      <td>2015.0</td>\n",
       "      <td>0</td>\n",
       "      <td>12.0</td>\n",
       "    </tr>\n",
       "    <tr>\n",
       "      <th>3</th>\n",
       "      <td>12.0</td>\n",
       "      <td>1.08</td>\n",
       "      <td>78992.15</td>\n",
       "      <td>1132.00</td>\n",
       "      <td>71976.41</td>\n",
       "      <td>72.58</td>\n",
       "      <td>5811.16</td>\n",
       "      <td>5677.40</td>\n",
       "      <td>133.76</td>\n",
       "      <td>0.0</td>\n",
       "      <td>2015.0</td>\n",
       "      <td>0</td>\n",
       "      <td>6.0</td>\n",
       "    </tr>\n",
       "    <tr>\n",
       "      <th>4</th>\n",
       "      <td>29.0</td>\n",
       "      <td>1.28</td>\n",
       "      <td>51039.60</td>\n",
       "      <td>941.48</td>\n",
       "      <td>43838.39</td>\n",
       "      <td>75.78</td>\n",
       "      <td>6183.95</td>\n",
       "      <td>5986.26</td>\n",
       "      <td>197.69</td>\n",
       "      <td>0.0</td>\n",
       "      <td>2015.0</td>\n",
       "      <td>0</td>\n",
       "      <td>11.0</td>\n",
       "    </tr>\n",
       "  </tbody>\n",
       "</table>\n",
       "</div>"
      ],
      "text/plain": [
       "   Date  AveragePrice  Total Volume     4046       4225    4770  Total Bags  \\\n",
       "0  27.0          1.33      64236.62  1036.74   54454.85   48.16     8696.87   \n",
       "1  20.0          1.35      54876.98   674.28   44638.81   58.33     9505.56   \n",
       "2  13.0          0.93     118220.22   794.70  109149.67  130.50     8145.35   \n",
       "3  12.0          1.08      78992.15  1132.00   71976.41   72.58     5811.16   \n",
       "4  29.0          1.28      51039.60   941.48   43838.39   75.78     6183.95   \n",
       "\n",
       "   Small Bags  Large Bags  XLarge Bags    year  region  month  \n",
       "0     8603.62       93.25          0.0  2015.0       0   12.0  \n",
       "1     9408.07       97.49          0.0  2015.0       0   12.0  \n",
       "2     8042.21      103.14          0.0  2015.0       0   12.0  \n",
       "3     5677.40      133.76          0.0  2015.0       0    6.0  \n",
       "4     5986.26      197.69          0.0  2015.0       0   11.0  "
      ]
     },
     "execution_count": 34,
     "metadata": {},
     "output_type": "execute_result"
    }
   ],
   "source": [
    "df= df_new\n",
    "df.head()"
   ]
  },
  {
   "cell_type": "code",
   "execution_count": 35,
   "metadata": {},
   "outputs": [
    {
     "name": "stdout",
     "output_type": "stream",
     "text": [
      "(1436, 11)\n",
      "(1436, 1)\n"
     ]
    }
   ],
   "source": [
    "#Splitting DATA\n",
    "\n",
    "x= df.drop(['AveragePrice', 'Date'], axis=1)\n",
    "y= df[['AveragePrice']]\n",
    "print(x.shape)\n",
    "print(y.shape)"
   ]
  },
  {
   "cell_type": "code",
   "execution_count": 36,
   "metadata": {},
   "outputs": [
    {
     "data": {
      "text/plain": [
       "Total Volume    2.704085\n",
       "4046            3.120756\n",
       "4225            2.367429\n",
       "4770            3.331191\n",
       "Total Bags      4.165747\n",
       "Small Bags      4.410267\n",
       "Large Bags      3.518056\n",
       "XLarge Bags     5.118965\n",
       "year            2.004439\n",
       "region          0.276276\n",
       "month           0.111898\n",
       "dtype: float64"
      ]
     },
     "execution_count": 36,
     "metadata": {},
     "output_type": "execute_result"
    }
   ],
   "source": [
    "# Checking for skewness\n",
    "x.skew()"
   ]
  },
  {
   "cell_type": "code",
   "execution_count": 37,
   "metadata": {},
   "outputs": [
    {
     "data": {
      "text/plain": [
       "Total Volume    0.462899\n",
       "4046           -0.270283\n",
       "4225            0.011359\n",
       "4770           -0.449713\n",
       "Total Bags      0.378673\n",
       "Small Bags      0.420856\n",
       "Large Bags     -0.979047\n",
       "XLarge Bags     0.851740\n",
       "year            2.004439\n",
       "region          0.276276\n",
       "month           0.111898\n",
       "dtype: float64"
      ]
     },
     "execution_count": 37,
     "metadata": {},
     "output_type": "execute_result"
    }
   ],
   "source": [
    "#making the skew less than or equal to 0.55 for better prediction and plotting Normal distribution\n",
    "for i in x.columns:\n",
    "    if x[i].skew()>0.5:\n",
    "        x[i] = np.log(1+df[i])\n",
    "x.skew()"
   ]
  },
  {
   "cell_type": "code",
   "execution_count": 38,
   "metadata": {},
   "outputs": [
    {
     "data": {
      "text/plain": [
       "Total Volume    0.462899\n",
       "4046           -0.270283\n",
       "4225            0.011359\n",
       "4770           -0.449713\n",
       "Total Bags      0.378673\n",
       "Small Bags      0.420856\n",
       "Large Bags     -0.979047\n",
       "XLarge Bags     0.851740\n",
       "year            2.004439\n",
       "region          0.276276\n",
       "month           0.111898\n",
       "dtype: float64"
      ]
     },
     "execution_count": 38,
     "metadata": {},
     "output_type": "execute_result"
    }
   ],
   "source": [
    "x.skew()"
   ]
  },
  {
   "cell_type": "code",
   "execution_count": 39,
   "metadata": {},
   "outputs": [
    {
     "data": {
      "text/plain": [
       "array([[<matplotlib.axes._subplots.AxesSubplot object at 0x0000019D01737FD0>,\n",
       "        <matplotlib.axes._subplots.AxesSubplot object at 0x0000019D0175E340>,\n",
       "        <matplotlib.axes._subplots.AxesSubplot object at 0x0000019D01789790>,\n",
       "        <matplotlib.axes._subplots.AxesSubplot object at 0x0000019D017B5BE0>],\n",
       "       [<matplotlib.axes._subplots.AxesSubplot object at 0x0000019D017E2100>,\n",
       "        <matplotlib.axes._subplots.AxesSubplot object at 0x0000019D0181A430>,\n",
       "        <matplotlib.axes._subplots.AxesSubplot object at 0x0000019D0181A520>,\n",
       "        <matplotlib.axes._subplots.AxesSubplot object at 0x0000019D018489D0>],\n",
       "       [<matplotlib.axes._subplots.AxesSubplot object at 0x0000019D018AC280>,\n",
       "        <matplotlib.axes._subplots.AxesSubplot object at 0x0000019D02109730>,\n",
       "        <matplotlib.axes._subplots.AxesSubplot object at 0x0000019D02137B80>,\n",
       "        <matplotlib.axes._subplots.AxesSubplot object at 0x0000019D02170070>],\n",
       "       [<matplotlib.axes._subplots.AxesSubplot object at 0x0000019D02190550>,\n",
       "        <matplotlib.axes._subplots.AxesSubplot object at 0x0000019D021BC9A0>,\n",
       "        <matplotlib.axes._subplots.AxesSubplot object at 0x0000019D021E9DF0>,\n",
       "        <matplotlib.axes._subplots.AxesSubplot object at 0x0000019D02222280>]],\n",
       "      dtype=object)"
      ]
     },
     "execution_count": 39,
     "metadata": {},
     "output_type": "execute_result"
    },
    {
     "data": {
      "image/png": "[encoded data removed]",
      "text/plain": [
       "<Figure size 1440x1080 with 16 Axes>"
      ]
     },
     "metadata": {
      "needs_background": "light"
     },
     "output_type": "display_data"
    }
   ],
   "source": [
    "x.hist(figsize=(20,15), layout = (4,4), grid = True,  bins = 25)"
   ]
  },
  {
   "cell_type": "markdown",
   "metadata": {},
   "source": [
    "Observations:Small bags, Total Bags, Total volume are well normally disctributed."
   ]
  },
  {
   "cell_type": "code",
   "execution_count": 40,
   "metadata": {},
   "outputs": [
    {
     "data": {
      "text/html": [
       "<div>\n",
       "<style scoped>\n",
       "    .dataframe tbody tr th:only-of-type {\n",
       "        vertical-align: middle;\n",
       "    }\n",
       "\n",
       "    .dataframe tbody tr th {\n",
       "        vertical-align: top;\n",
       "    }\n",
       "\n",
       "    .dataframe thead th {\n",
       "        text-align: right;\n",
       "    }\n",
       "</style>\n",
       "<table border=\"1\" class=\"dataframe\">\n",
       "  <thead>\n",
       "    <tr style=\"text-align: right;\">\n",
       "      <th></th>\n",
       "      <th>Total Volume</th>\n",
       "      <th>4046</th>\n",
       "      <th>4225</th>\n",
       "      <th>4770</th>\n",
       "      <th>Total Bags</th>\n",
       "      <th>Small Bags</th>\n",
       "      <th>Large Bags</th>\n",
       "      <th>XLarge Bags</th>\n",
       "      <th>year</th>\n",
       "      <th>region</th>\n",
       "      <th>month</th>\n",
       "    </tr>\n",
       "  </thead>\n",
       "  <tbody>\n",
       "    <tr>\n",
       "      <th>0</th>\n",
       "      <td>-1.410935</td>\n",
       "      <td>-1.847345</td>\n",
       "      <td>-0.507917</td>\n",
       "      <td>-1.815979</td>\n",
       "      <td>-1.822359</td>\n",
       "      <td>-1.648547</td>\n",
       "      <td>-0.917419</td>\n",
       "      <td>-0.775528</td>\n",
       "      <td>-0.413870</td>\n",
       "      <td>-1.322817</td>\n",
       "      <td>1.637005</td>\n",
       "    </tr>\n",
       "    <tr>\n",
       "      <th>1</th>\n",
       "      <td>-1.535660</td>\n",
       "      <td>-2.042823</td>\n",
       "      <td>-0.635183</td>\n",
       "      <td>-1.739119</td>\n",
       "      <td>-1.746806</td>\n",
       "      <td>-1.573622</td>\n",
       "      <td>-0.904196</td>\n",
       "      <td>-0.775528</td>\n",
       "      <td>-0.413870</td>\n",
       "      <td>-1.322817</td>\n",
       "      <td>1.637005</td>\n",
       "    </tr>\n",
       "    <tr>\n",
       "      <th>2</th>\n",
       "      <td>-0.927830</td>\n",
       "      <td>-1.968169</td>\n",
       "      <td>-0.062698</td>\n",
       "      <td>-1.413794</td>\n",
       "      <td>-1.878029</td>\n",
       "      <td>-1.705109</td>\n",
       "      <td>-0.887434</td>\n",
       "      <td>-0.775528</td>\n",
       "      <td>-0.413870</td>\n",
       "      <td>-1.322817</td>\n",
       "      <td>1.637005</td>\n",
       "    </tr>\n",
       "    <tr>\n",
       "      <th>3</th>\n",
       "      <td>-1.247168</td>\n",
       "      <td>-1.807390</td>\n",
       "      <td>-0.329300</td>\n",
       "      <td>-1.651131</td>\n",
       "      <td>-2.164946</td>\n",
       "      <td>-1.996977</td>\n",
       "      <td>-0.809976</td>\n",
       "      <td>-0.775528</td>\n",
       "      <td>-0.413870</td>\n",
       "      <td>-1.322817</td>\n",
       "      <td>-0.096578</td>\n",
       "    </tr>\n",
       "    <tr>\n",
       "      <th>4</th>\n",
       "      <td>-1.593074</td>\n",
       "      <td>-1.891150</td>\n",
       "      <td>-0.646768</td>\n",
       "      <td>-1.633730</td>\n",
       "      <td>-2.112115</td>\n",
       "      <td>-1.952576</td>\n",
       "      <td>-0.693305</td>\n",
       "      <td>-0.775528</td>\n",
       "      <td>-0.413870</td>\n",
       "      <td>-1.322817</td>\n",
       "      <td>1.348074</td>\n",
       "    </tr>\n",
       "    <tr>\n",
       "      <th>...</th>\n",
       "      <td>...</td>\n",
       "      <td>...</td>\n",
       "      <td>...</td>\n",
       "      <td>...</td>\n",
       "      <td>...</td>\n",
       "      <td>...</td>\n",
       "      <td>...</td>\n",
       "      <td>...</td>\n",
       "      <td>...</td>\n",
       "      <td>...</td>\n",
       "      <td>...</td>\n",
       "    </tr>\n",
       "    <tr>\n",
       "      <th>1431</th>\n",
       "      <td>-0.548521</td>\n",
       "      <td>-0.020619</td>\n",
       "      <td>-0.485823</td>\n",
       "      <td>0.586167</td>\n",
       "      <td>-0.189379</td>\n",
       "      <td>-0.193283</td>\n",
       "      <td>0.494754</td>\n",
       "      <td>0.946229</td>\n",
       "      <td>2.416215</td>\n",
       "      <td>-0.879305</td>\n",
       "      <td>1.059144</td>\n",
       "    </tr>\n",
       "    <tr>\n",
       "      <th>1432</th>\n",
       "      <td>-0.602663</td>\n",
       "      <td>-0.149612</td>\n",
       "      <td>-0.535121</td>\n",
       "      <td>0.627966</td>\n",
       "      <td>-0.135593</td>\n",
       "      <td>-0.097945</td>\n",
       "      <td>0.438844</td>\n",
       "      <td>-0.775528</td>\n",
       "      <td>2.416215</td>\n",
       "      <td>-0.879305</td>\n",
       "      <td>0.770213</td>\n",
       "    </tr>\n",
       "    <tr>\n",
       "      <th>1433</th>\n",
       "      <td>-0.601885</td>\n",
       "      <td>-0.118772</td>\n",
       "      <td>-0.526545</td>\n",
       "      <td>0.567203</td>\n",
       "      <td>-0.147557</td>\n",
       "      <td>-0.119231</td>\n",
       "      <td>0.426777</td>\n",
       "      <td>1.332463</td>\n",
       "      <td>2.416215</td>\n",
       "      <td>-0.879305</td>\n",
       "      <td>-1.252300</td>\n",
       "    </tr>\n",
       "    <tr>\n",
       "      <th>1434</th>\n",
       "      <td>-0.555668</td>\n",
       "      <td>-0.048487</td>\n",
       "      <td>-0.518124</td>\n",
       "      <td>0.585318</td>\n",
       "      <td>-0.127164</td>\n",
       "      <td>-0.083522</td>\n",
       "      <td>0.427507</td>\n",
       "      <td>-0.775528</td>\n",
       "      <td>2.416215</td>\n",
       "      <td>-0.879305</td>\n",
       "      <td>0.770213</td>\n",
       "    </tr>\n",
       "    <tr>\n",
       "      <th>1435</th>\n",
       "      <td>-0.581864</td>\n",
       "      <td>-0.151817</td>\n",
       "      <td>-0.510998</td>\n",
       "      <td>0.562955</td>\n",
       "      <td>-0.061044</td>\n",
       "      <td>-0.056798</td>\n",
       "      <td>0.530128</td>\n",
       "      <td>-0.775528</td>\n",
       "      <td>2.416215</td>\n",
       "      <td>-0.879305</td>\n",
       "      <td>0.770213</td>\n",
       "    </tr>\n",
       "  </tbody>\n",
       "</table>\n",
       "<p>1436 rows × 11 columns</p>\n",
       "</div>"
      ],
      "text/plain": [
       "      Total Volume      4046      4225      4770  Total Bags  Small Bags  \\\n",
       "0        -1.410935 -1.847345 -0.507917 -1.815979   -1.822359   -1.648547   \n",
       "1        -1.535660 -2.042823 -0.635183 -1.739119   -1.746806   -1.573622   \n",
       "2        -0.927830 -1.968169 -0.062698 -1.413794   -1.878029   -1.705109   \n",
       "3        -1.247168 -1.807390 -0.329300 -1.651131   -2.164946   -1.996977   \n",
       "4        -1.593074 -1.891150 -0.646768 -1.633730   -2.112115   -1.952576   \n",
       "...            ...       ...       ...       ...         ...         ...   \n",
       "1431     -0.548521 -0.020619 -0.485823  0.586167   -0.189379   -0.193283   \n",
       "1432     -0.602663 -0.149612 -0.535121  0.627966   -0.135593   -0.097945   \n",
       "1433     -0.601885 -0.118772 -0.526545  0.567203   -0.147557   -0.119231   \n",
       "1434     -0.555668 -0.048487 -0.518124  0.585318   -0.127164   -0.083522   \n",
       "1435     -0.581864 -0.151817 -0.510998  0.562955   -0.061044   -0.056798   \n",
       "\n",
       "      Large Bags  XLarge Bags      year    region     month  \n",
       "0      -0.917419    -0.775528 -0.413870 -1.322817  1.637005  \n",
       "1      -0.904196    -0.775528 -0.413870 -1.322817  1.637005  \n",
       "2      -0.887434    -0.775528 -0.413870 -1.322817  1.637005  \n",
       "3      -0.809976    -0.775528 -0.413870 -1.322817 -0.096578  \n",
       "4      -0.693305    -0.775528 -0.413870 -1.322817  1.348074  \n",
       "...          ...          ...       ...       ...       ...  \n",
       "1431    0.494754     0.946229  2.416215 -0.879305  1.059144  \n",
       "1432    0.438844    -0.775528  2.416215 -0.879305  0.770213  \n",
       "1433    0.426777     1.332463  2.416215 -0.879305 -1.252300  \n",
       "1434    0.427507    -0.775528  2.416215 -0.879305  0.770213  \n",
       "1435    0.530128    -0.775528  2.416215 -0.879305  0.770213  \n",
       "\n",
       "[1436 rows x 11 columns]"
      ]
     },
     "execution_count": 40,
     "metadata": {},
     "output_type": "execute_result"
    }
   ],
   "source": [
    "# Standardization of Data\n",
    "\n",
    "from sklearn.preprocessing import StandardScaler\n",
    "scaler= StandardScaler()\n",
    "scaled_x= scaler.fit_transform(x)\n",
    "new_x= pd.DataFrame(data= scaled_x, columns= x.columns)\n",
    "new_x"
   ]
  },
  {
   "cell_type": "code",
   "execution_count": 41,
   "metadata": {},
   "outputs": [
    {
     "data": {
      "text/plain": [
       "(1436, 11)"
      ]
     },
     "execution_count": 41,
     "metadata": {},
     "output_type": "execute_result"
    }
   ],
   "source": [
    "x=new_x\n",
    "x.shape"
   ]
  },
  {
   "cell_type": "code",
   "execution_count": 42,
   "metadata": {},
   "outputs": [],
   "source": [
    "#Machine Learning\n",
    "from sklearn.linear_model import LinearRegression\n",
    "from sklearn.linear_model import Lasso, Ridge, ElasticNet\n",
    "from sklearn.svm import SVR\n",
    "from sklearn.tree import DecisionTreeRegressor\n",
    "from sklearn.neighbors import KNeighborsRegressor\n",
    "\n",
    "from sklearn.ensemble import RandomForestRegressor\n",
    "from sklearn.ensemble import AdaBoostRegressor\n",
    "from sklearn.ensemble import GradientBoostingRegressor\n",
    "\n",
    "from sklearn.metrics import mean_squared_error,mean_absolute_error, r2_score, accuracy_score\n",
    "\n",
    "from sklearn.model_selection import train_test_split\n",
    "\n",
    "import warnings\n",
    "warnings.filterwarnings('ignore')"
   ]
  },
  {
   "cell_type": "code",
   "execution_count": 43,
   "metadata": {},
   "outputs": [
    {
     "name": "stdout",
     "output_type": "stream",
     "text": [
      "0.7843110518975017\n",
      "63\n"
     ]
    }
   ],
   "source": [
    "#Finding Best Random State\n",
    "maxACCU=0\n",
    "maxRS=0\n",
    "for i in range(1,1000):\n",
    "    x_train, x_test, y_train, y_test= train_test_split(x,y, test_size=.3, random_state=i)\n",
    "    knn= KNeighborsRegressor()\n",
    "    knn.fit(x_train, y_train)\n",
    "    pred_knn= knn.predict(x_test)\n",
    "    acc= r2_score(y_test, pred_knn)\n",
    "    if acc>maxACCU:\n",
    "        maxACCU=acc\n",
    "        maxRS= i\n",
    "print(maxACCU)\n",
    "print(maxRS)"
   ]
  },
  {
   "cell_type": "code",
   "execution_count": 44,
   "metadata": {},
   "outputs": [],
   "source": [
    "x_train, x_test, y_train, y_test= train_test_split(x,y, test_size=.3, random_state=63)"
   ]
  },
  {
   "cell_type": "code",
   "execution_count": 45,
   "metadata": {},
   "outputs": [
    {
     "name": "stdout",
     "output_type": "stream",
     "text": [
      "LinearRegression() - R2_Score\n",
      "0.4012439215911576\n",
      "\n",
      "Lasso() - R2_Score\n",
      "-1.2638232544937011e-06\n",
      "\n",
      "Ridge() - R2_Score\n",
      "0.4025086159774728\n",
      "\n",
      "ElasticNet() - R2_Score\n",
      "-1.2638232544937011e-06\n",
      "\n",
      "SVR() - R2_Score\n",
      "0.7622752862134864\n",
      "\n",
      "DecisionTreeRegressor() - R2_Score\n",
      "0.7213910792941804\n",
      "\n",
      "KNeighborsRegressor() - R2_Score\n",
      "0.7843110518975017\n",
      "\n",
      "AdaBoostRegressor() - R2_Score\n",
      "0.6249966608695375\n",
      "\n",
      "RandomForestRegressor() - R2_Score\n",
      "0.831039096902949\n",
      "\n",
      "GradientBoostingRegressor() - R2_Score\n",
      "0.7547819782273986\n",
      "\n"
     ]
    }
   ],
   "source": [
    "lm= LinearRegression()\n",
    "ls= Lasso()\n",
    "rd= Ridge()\n",
    "enr= ElasticNet()\n",
    "svr= SVR()\n",
    "dtc= DecisionTreeRegressor()\n",
    "knn= KNeighborsRegressor()\n",
    "adr= AdaBoostRegressor()\n",
    "rfr= RandomForestRegressor()\n",
    "gbr= GradientBoostingRegressor()\n",
    "\n",
    "models= [lm,ls,rd,enr,svr,dtc,knn,adr,rfr,gbr]\n",
    "\n",
    "for m in models:\n",
    "    print(m, '- R2_Score')\n",
    "    m.fit(x_train, y_train)\n",
    "    pred= m.predict(x_test)\n",
    "    print(r2_score(y_test, pred))\n",
    "    print()"
   ]
  },
  {
   "cell_type": "code",
   "execution_count": 46,
   "metadata": {},
   "outputs": [
    {
     "name": "stdout",
     "output_type": "stream",
     "text": [
      "CV score of  LinearRegression() 0.013734958253979256\n",
      "CV score of  Lasso() -0.0751041280957165\n",
      "CV score of  Ridge() 0.012271262435458775\n",
      "CV score of  ElasticNet() -0.0751041280957165\n",
      "CV score of  SVR() 0.12385931541571293\n",
      "CV score of  DecisionTreeRegressor() -0.5117731009135154\n",
      "CV score of  KNeighborsRegressor() -0.145156625107315\n",
      "CV score of  AdaBoostRegressor() 0.16368914551817512\n",
      "CV score of  RandomForestRegressor() 0.15494854884782644\n",
      "CV score of  GradientBoostingRegressor() 0.14470024214512947\n"
     ]
    }
   ],
   "source": [
    "#Cross Validation\n",
    "from sklearn.model_selection import cross_val_score\n",
    "\n",
    "for m in models:\n",
    "    scr_lm= cross_val_score(m, x,y, cv=5)\n",
    "    print('CV score of ',m,  scr_lm.mean())"
   ]
  },
  {
   "cell_type": "markdown",
   "metadata": {},
   "source": [
    "Observations: From above we can observe that for RandomForestRegressor model there is less difference in r2_score and cross validation r2_score so we will select RandomForestRegressor model for final predictions."
   ]
  },
  {
   "cell_type": "code",
   "execution_count": 47,
   "metadata": {},
   "outputs": [
    {
     "data": {
      "text/plain": [
       "{'bootstrap': True,\n",
       " 'max_depth': 80,\n",
       " 'max_features': 3,\n",
       " 'min_samples_leaf': 3,\n",
       " 'min_samples_split': 10,\n",
       " 'n_estimators': 100}"
      ]
     },
     "execution_count": 47,
     "metadata": {},
     "output_type": "execute_result"
    }
   ],
   "source": [
    "#Hyperparameter Tuning for Best selected model  RandomForestRegressor\n",
    "\n",
    "from sklearn.model_selection import GridSearchCV\n",
    "\n",
    "parameters= {'bootstrap': [True],\n",
    "    'max_depth': [80, 100],\n",
    "    'max_features': [2, 3],\n",
    "    'min_samples_leaf': [3, 4,],\n",
    "    'min_samples_split': [10, 12],\n",
    "    'n_estimators': [100, 500]}\n",
    "\n",
    "GSV= GridSearchCV(rfr, parameters, cv=5)\n",
    "GSV.fit(x_train, y_train)\n",
    "GSV.best_params_"
   ]
  },
  {
   "cell_type": "code",
   "execution_count": 48,
   "metadata": {},
   "outputs": [
    {
     "name": "stdout",
     "output_type": "stream",
     "text": [
      "0.8172136717410382\n",
      "Mean absolute error: 0.061520565117751\n",
      "Mean squared error:  0.00683299891271088\n",
      "Root mean squared error:  0.08266195565501024\n"
     ]
    }
   ],
   "source": [
    "GSV_predict= GSV.best_estimator_.predict(x_test)\n",
    "print(r2_score(y_test, GSV_predict))\n",
    "print('Mean absolute error:',mean_absolute_error(y_test, GSV_predict))\n",
    "print('Mean squared error: ', mean_squared_error(y_test, GSV_predict))\n",
    "print('Root mean squared error: ', np.sqrt(mean_squared_error(y_test, GSV_predict)))"
   ]
  },
  {
   "cell_type": "code",
   "execution_count": 49,
   "metadata": {},
   "outputs": [
    {
     "data": {
      "text/plain": [
       "['avacado_best_rfr_model.obj']"
      ]
     },
     "execution_count": 49,
     "metadata": {},
     "output_type": "execute_result"
    }
   ],
   "source": [
    "#Saving the Model\n",
    "import joblib\n",
    "\n",
    "joblib.dump(GSV.best_estimator_, 'avacado_best_rfr_model.obj')"
   ]
  },
  {
   "cell_type": "markdown",
   "metadata": {},
   "source": [
    "Conclusion: For Analysis of Avacado project we have selected RandomForestRegressor model which having accuracy almost 81%."
   ]
  },
  {
   "cell_type": "code",
   "execution_count": null,
   "metadata": {},
   "outputs": [],
   "source": []
  }
 ],
 "metadata": {
  "kernelspec": {
   "display_name": "Python 3",
   "language": "python",
   "name": "python3"
  },
  "language_info": {
   "codemirror_mode": {
    "name": "ipython",
    "version": 3
   },
   "file_extension": ".py",
   "mimetype": "text/x-python",
   "name": "python",
   "nbconvert_exporter": "python",
   "pygments_lexer": "ipython3",
   "version": "3.8.3"
  }
 },
 "nbformat": 4,
 "nbformat_minor": 4
}
